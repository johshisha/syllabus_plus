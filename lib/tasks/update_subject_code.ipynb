{
 "cells": [
  {
   "cell_type": "markdown",
   "metadata": {},
   "source": [
    "## 科目コード解析\n",
    "以前のやつの頭に3桁を足せば良い？  \n",
    "3桁=>1 + DUETの学部コードの下2桁"
   ]
  },
  {
   "cell_type": "code",
   "execution_count": 7,
   "metadata": {
    "collapsed": false
   },
   "outputs": [
    {
     "data": {
      "text/plain": [
       "true"
      ]
     },
     "execution_count": 7,
     "metadata": {},
     "output_type": "execute_result"
    }
   ],
   "source": [
    "FileUtils.cd '../../'\n",
    "require './config/boot'\n",
    "APP_PATH  = File.expand_path('config/application') unless defined?(APP_PATH)\n",
    "require APP_PATH\n",
    "Rails.application.require_environment!"
   ]
  },
  {
   "cell_type": "code",
   "execution_count": 8,
   "metadata": {
    "collapsed": false
   },
   "outputs": [
    {
     "data": {
      "text/plain": [
       "true"
      ]
     },
     "execution_count": 8,
     "metadata": {},
     "output_type": "execute_result"
    }
   ],
   "source": [
    "require \"#{Rails.root}/app/models/subject\"\n",
    "require \"#{Rails.root}/app/models/year_datum\"\n",
    "require \"#{Rails.root}/app/models/faculty\"\n",
    "require \"#{Rails.root}/app/models/subject_score\"\n",
    "require \"#{Rails.root}/app/models/summarized_subject\""
   ]
  },
  {
   "cell_type": "code",
   "execution_count": 11,
   "metadata": {
    "collapsed": false
   },
   "outputs": [
    {
     "data": {
      "text/plain": [
       "\"\""
      ]
     },
     "execution_count": 11,
     "metadata": {},
     "output_type": "execute_result"
    }
   ],
   "source": [
    "faculties = Faculty.all\n",
    "''"
   ]
  },
  {
   "cell_type": "code",
   "execution_count": 18,
   "metadata": {
    "collapsed": false
   },
   "outputs": [
    {
     "data": {
      "text/plain": [
       "\"\""
      ]
     },
     "execution_count": 18,
     "metadata": {},
     "output_type": "execute_result"
    }
   ],
   "source": [
    "hash = {}\n",
    "faculties.each do |faculty|\n",
    "  hash[faculty.name] =  '1'+faculty.code.slice(-2..-1)\n",
    "end\n",
    "''"
   ]
  },
  {
   "cell_type": "code",
   "execution_count": 20,
   "metadata": {
    "collapsed": false
   },
   "outputs": [
    {
     "data": {
      "text/plain": [
       "{\"神学部\"=>\"101\", \"文学部\"=>\"102\", \"法学部\"=>\"103\", \"経済学部\"=>\"104\", \"商学部\"=>\"105\", \"政策学部\"=>\"107\", \"文化情報学部\"=>\"108\", \"社会学部\"=>\"109\", \"生命医科学部\"=>\"114\", \"スポーツ健康科学部\"=>\"115\", \"理工学部\"=>\"116\", \"心理学部\"=>\"117\", \"グローバル・コミュニケーション学部\"=>\"119\", \"国際教育インスティテュート\"=>\"120\", \"グローバル地域文化学部\"=>\"122\", \"語学科目\"=>\"165\", \"保健体育科目\"=>\"161\", \"留学生科目\"=>\"190\", \"全学共通教養教育科目\"=>\"160\"}"
      ]
     },
     "execution_count": 20,
     "metadata": {},
     "output_type": "execute_result"
    }
   ],
   "source": [
    "hash={\"神学部\"=>\"101\", \"文学部\"=>\"102\", \"法学部\"=>\"103\", \"経済学部\"=>\"104\", \"商学部\"=>\"105\", \"政策学部\"=>\"107\", \"文化情報学部\"=>\"108\", \"社会学部\"=>\"109\", \"生命医科学部\"=>\"114\", \"スポーツ健康科学部\"=>\"115\", \"理工学部\"=>\"116\", \"心理学部\"=>\"117\", \"グローバル・コミュニケーション学部\"=>\"119\", \"国際教育インスティテュート\"=>\"120\", \"グローバル地域文化学部\"=>\"122\", \"語学科目\"=>\"165\", \"保健体育科目\"=>\"161\", \"留学生科目\"=>\"190\", \"全学共通教養教育科目\"=>\"160\"}"
   ]
  },
  {
   "cell_type": "code",
   "execution_count": null,
   "metadata": {
    "collapsed": true
   },
   "outputs": [],
   "source": []
  }
 ],
 "metadata": {
  "kernelspec": {
   "display_name": "Ruby 2.2.3",
   "language": "ruby",
   "name": "ruby"
  },
  "language_info": {
   "file_extension": ".rb",
   "mimetype": "application/x-ruby",
   "name": "ruby",
   "version": "2.2.3"
  }
 },
 "nbformat": 4,
 "nbformat_minor": 1
}
