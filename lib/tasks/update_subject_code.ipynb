{
 "cells": [
  {
   "cell_type": "markdown",
   "metadata": {},
   "source": [
    "## 科目コード解析\n",
    "以前のやつの頭に3桁を足せば良い？  \n",
    "3桁=>1 + DUETの学部コードの下2桁"
   ]
  },
  {
   "cell_type": "code",
   "execution_count": 1,
   "metadata": {
    "collapsed": false
   },
   "outputs": [
    {
     "data": {
      "text/plain": [
       "true"
      ]
     },
     "execution_count": 1,
     "metadata": {},
     "output_type": "execute_result"
    }
   ],
   "source": [
    "FileUtils.cd '../../'\n",
    "require './config/boot'\n",
    "APP_PATH  = File.expand_path('config/application') unless defined?(APP_PATH)\n",
    "require APP_PATH\n",
    "Rails.application.require_environment!"
   ]
  },
  {
   "cell_type": "code",
   "execution_count": 2,
   "metadata": {
    "collapsed": false
   },
   "outputs": [
    {
     "data": {
      "text/plain": [
       "true"
      ]
     },
     "execution_count": 2,
     "metadata": {},
     "output_type": "execute_result"
    }
   ],
   "source": [
    "require \"#{Rails.root}/app/models/subject\"\n",
    "require \"#{Rails.root}/app/models/year_datum\"\n",
    "require \"#{Rails.root}/app/models/faculty\"\n",
    "require \"#{Rails.root}/app/models/subject_score\"\n",
    "require \"#{Rails.root}/app/models/summarized_subject\""
   ]
  },
  {
   "cell_type": "code",
   "execution_count": 14,
   "metadata": {
    "collapsed": false
   },
   "outputs": [
    {
     "data": {
      "text/plain": [
       "#<ActiveRecord::Relation [#<Faculty id: 1, name: \"神学部\", code: \"11001\", created_at: \"2017-03-06 09:51:09\", updated_at: \"2017-03-17 19:33:54\", syllabus_code: \"1\">, #<Faculty id: 2, name: \"文学部\", code: \"11002\", created_at: \"2017-03-06 09:51:09\", updated_at: \"2017-03-17 19:33:54\", syllabus_code: \"2\">, #<Faculty id: 3, name: \"法学部\", code: \"11003\", created_at: \"2017-03-06 09:51:09\", updated_at: \"2017-03-17 19:33:54\", syllabus_code: \"4\">, #<Faculty id: 4, name: \"経済学部\", code: \"11004\", created_at: \"2017-03-06 09:51:09\", updated_at: \"2017-03-17 19:33:54\", syllabus_code: \"5\">, #<Faculty id: 5, name: \"商学部\", code: \"11005\", created_at: \"2017-03-06 09:51:09\", updated_at: \"2017-03-17 19:33:54\", syllabus_code: \"6\">, #<Faculty id: 6, name: \"政策学部\", code: \"11007\", created_at: \"2017-03-06 09:51:09\", updated_at: \"2017-03-17 19:33:54\", syllabus_code: \"8\">, #<Faculty id: 7, name: \"文化情報学部\", code: \"11008\", created_at: \"2017-03-06 09:51:09\", updated_at: \"2017-03-17 19:33:54\", syllabus_code: \"9\">, #<Faculty id: 8, name: \"社会学部\", code: \"11009\", created_at: \"2017-03-06 09:51:09\", updated_at: \"2017-03-17 19:33:54\", syllabus_code: \"3\">, #<Faculty id: 9, name: \"生命医科学部\", code: \"11014\", created_at: \"2017-03-06 09:51:09\", updated_at: \"2017-03-17 19:33:54\", syllabus_code: \"10\">, #<Faculty id: 10, name: \"スポーツ健康科学部\", code: \"11015\", created_at: \"2017-03-06 09:51:10\", updated_at: \"2017-03-17 19:33:54\", syllabus_code: \"11\">, ...]>"
      ]
     },
     "execution_count": 14,
     "metadata": {},
     "output_type": "execute_result"
    }
   ],
   "source": [
    "faculties = Faculty.all"
   ]
  },
  {
   "cell_type": "markdown",
   "metadata": {},
   "source": [
    "hash = {}\n",
    "faculties.each do |faculty|\n",
    "  hash[faculty.name] =  '1'+faculty.code.slice(-2..-1)\n",
    "end\n",
    "''"
   ]
  },
  {
   "cell_type": "code",
   "execution_count": 3,
   "metadata": {
    "collapsed": false,
    "scrolled": true
   },
   "outputs": [
    {
     "data": {
      "text/plain": [
       "{\"神学部\"=>\"101\", \"文学部\"=>\"102\", \"法学部\"=>\"103\", \"経済学部\"=>\"104\", \"商学部\"=>\"105\", \"政策学部\"=>\"107\", \"文化情報学部\"=>\"108\", \"社会学部\"=>\"109\", \"生命医科学部\"=>\"114\", \"スポーツ健康科学部\"=>\"115\", \"理工学部\"=>\"116\", \"心理学部\"=>\"117\", \"グローバル・コミュニケーション学部\"=>\"119\", \"国際教育インスティテュート\"=>\"120\", \"グローバル地域文化学部\"=>\"122\", \"語学科目\"=>\"165\", \"保健体育科目\"=>\"161\", \"留学生科目\"=>\"190\", \"全学共通教養教育科目\"=>\"160\"}"
      ]
     },
     "execution_count": 3,
     "metadata": {},
     "output_type": "execute_result"
    }
   ],
   "source": [
    "hash={\"神学部\"=>\"101\", \"文学部\"=>\"102\", \"法学部\"=>\"103\", \"経済学部\"=>\"104\", \"商学部\"=>\"105\", \"政策学部\"=>\"107\", \"文化情報学部\"=>\"108\", \"社会学部\"=>\"109\", \"生命医科学部\"=>\"114\", \"スポーツ健康科学部\"=>\"115\", \"理工学部\"=>\"116\", \"心理学部\"=>\"117\", \"グローバル・コミュニケーション学部\"=>\"119\", \"国際教育インスティテュート\"=>\"120\", \"グローバル地域文化学部\"=>\"122\", \"語学科目\"=>\"165\", \"保健体育科目\"=>\"161\", \"留学生科目\"=>\"190\", \"全学共通教養教育科目\"=>\"160\"}"
   ]
  },
  {
   "cell_type": "code",
   "execution_count": 16,
   "metadata": {
    "collapsed": false
   },
   "outputs": [
    {
     "data": {
      "text/plain": [
       "\"G9003\""
      ]
     },
     "execution_count": 16,
     "metadata": {},
     "output_type": "execute_result"
    }
   ],
   "source": [
    "# 物質の科学1-1\n",
    "'16016502001'\n",
    "'160G9003001'\n",
    "\n",
    "'16502'\n",
    "'G9003'"
   ]
  },
  {
   "cell_type": "code",
   "execution_count": 18,
   "metadata": {
    "collapsed": false
   },
   "outputs": [
    {
     "data": {
      "text/plain": [
       "\"160G9007004\""
      ]
     },
     "execution_count": 18,
     "metadata": {},
     "output_type": "execute_result"
    }
   ],
   "source": [
    "# 生命の科学1-4\n",
    "'16016506004'\n",
    "'160G9007004'"
   ]
  },
  {
   "cell_type": "code",
   "execution_count": 20,
   "metadata": {
    "collapsed": false
   },
   "outputs": [
    {
     "data": {
      "text/plain": [
       "\"160G9009005\""
      ]
     },
     "execution_count": 20,
     "metadata": {},
     "output_type": "execute_result"
    }
   ],
   "source": [
    "# 科学史・科学論1-5\n",
    "'16006633005'\n",
    "'160G9009005'"
   ]
  },
  {
   "cell_type": "markdown",
   "metadata": {},
   "source": [
    "'G' -> '165'  \n",
    "その後の2桁が1足されてる？"
   ]
  },
  {
   "cell_type": "code",
   "execution_count": 15,
   "metadata": {
    "collapsed": false,
    "scrolled": true
   },
   "outputs": [
    {
     "data": {
      "text/plain": [
       "[#<Faculty id: 1, name: \"神学部\", code: \"11001\", created_at: \"2017-03-06 09:51:09\", updated_at: \"2017-03-17 19:33:54\", syllabus_code: \"1\">, #<Faculty id: 2, name: \"文学部\", code: \"11002\", created_at: \"2017-03-06 09:51:09\", updated_at: \"2017-03-17 19:33:54\", syllabus_code: \"2\">, #<Faculty id: 3, name: \"法学部\", code: \"11003\", created_at: \"2017-03-06 09:51:09\", updated_at: \"2017-03-17 19:33:54\", syllabus_code: \"4\">, #<Faculty id: 4, name: \"経済学部\", code: \"11004\", created_at: \"2017-03-06 09:51:09\", updated_at: \"2017-03-17 19:33:54\", syllabus_code: \"5\">, #<Faculty id: 5, name: \"商学部\", code: \"11005\", created_at: \"2017-03-06 09:51:09\", updated_at: \"2017-03-17 19:33:54\", syllabus_code: \"6\">, #<Faculty id: 6, name: \"政策学部\", code: \"11007\", created_at: \"2017-03-06 09:51:09\", updated_at: \"2017-03-17 19:33:54\", syllabus_code: \"8\">, #<Faculty id: 7, name: \"文化情報学部\", code: \"11008\", created_at: \"2017-03-06 09:51:09\", updated_at: \"2017-03-17 19:33:54\", syllabus_code: \"9\">, #<Faculty id: 8, name: \"社会学部\", code: \"11009\", created_at: \"2017-03-06 09:51:09\", updated_at: \"2017-03-17 19:33:54\", syllabus_code: \"3\">, #<Faculty id: 9, name: \"生命医科学部\", code: \"11014\", created_at: \"2017-03-06 09:51:09\", updated_at: \"2017-03-17 19:33:54\", syllabus_code: \"10\">, #<Faculty id: 10, name: \"スポーツ健康科学部\", code: \"11015\", created_at: \"2017-03-06 09:51:10\", updated_at: \"2017-03-17 19:33:54\", syllabus_code: \"11\">, #<Faculty id: 11, name: \"理工学部\", code: \"11016\", created_at: \"2017-03-06 09:51:10\", updated_at: \"2017-03-17 19:33:54\", syllabus_code: \"7\">, #<Faculty id: 12, name: \"心理学部\", code: \"11017\", created_at: \"2017-03-06 09:51:10\", updated_at: \"2017-03-17 19:33:54\", syllabus_code: \"12\">, #<Faculty id: 13, name: \"グローバル・コミュニケーション学部\", code: \"11019\", created_at: \"2017-03-06 09:51:10\", updated_at: \"2017-03-17 19:33:54\", syllabus_code: \"13\">, #<Faculty id: 14, name: \"国際教育インスティテュート\", code: \"11020\", created_at: \"2017-03-06 09:51:10\", updated_at: \"2017-03-17 19:33:54\", syllabus_code: \"14\">, #<Faculty id: 15, name: \"グローバル地域文化学部\", code: \"11022\", created_at: \"2017-03-06 09:51:10\", updated_at: \"2017-03-17 19:33:54\", syllabus_code: \"19\">, #<Faculty id: 16, name: \"語学科目\", code: \"11065\", created_at: \"2017-03-06 09:51:10\", updated_at: \"2017-03-24 05:45:35\", syllabus_code: \"15\">, #<Faculty id: 17, name: \"保健体育科目\", code: \"11061\", created_at: \"2017-03-06 09:51:10\", updated_at: \"2017-03-24 05:45:35\", syllabus_code: \"16\">, #<Faculty id: 18, name: \"留学生科目\", code: \"11090\", created_at: \"2017-03-06 09:51:10\", updated_at: \"2017-03-24 05:46:19\", syllabus_code: \"119\">, #<Faculty id: 19, name: \"全学共通教養教育科目\", code: \"11060\", created_at: \"2017-03-06 09:51:10\", updated_at: \"2017-03-24 05:45:35\", syllabus_code: \"18\">]"
      ]
     },
     "execution_count": 15,
     "metadata": {},
     "output_type": "execute_result"
    }
   ],
   "source": [
    "faculties.each do |faculty|\n",
    "  faculty.subjects.each do |subject|\n",
    "    if subject.code.length < 11\n",
    "      code = hash[faculty.name] + subject.code\n",
    "      subject.update_attribute(:code, code)\n",
    "    end\n",
    "  end\n",
    "end"
   ]
  },
  {
   "cell_type": "code",
   "execution_count": null,
   "metadata": {
    "collapsed": true
   },
   "outputs": [],
   "source": []
  }
 ],
 "metadata": {
  "kernelspec": {
   "display_name": "Ruby 2.2.3",
   "language": "ruby",
   "name": "ruby"
  },
  "language_info": {
   "file_extension": ".rb",
   "mimetype": "application/x-ruby",
   "name": "ruby",
   "version": "2.2.3"
  }
 },
 "nbformat": 4,
 "nbformat_minor": 1
}
