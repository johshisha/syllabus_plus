{
 "cells": [
  {
   "cell_type": "code",
   "execution_count": 1,
   "metadata": {
    "collapsed": false
   },
   "outputs": [
    {
     "data": {
      "text/plain": [
       "true"
      ]
     },
     "execution_count": 1,
     "metadata": {},
     "output_type": "execute_result"
    }
   ],
   "source": [
    "FileUtils.cd '../../'\n",
    "require './config/boot'\n",
    "APP_PATH  = File.expand_path('config/application') unless defined?(APP_PATH)\n",
    "require APP_PATH\n",
    "Rails.application.require_environment!"
   ]
  },
  {
   "cell_type": "code",
   "execution_count": 2,
   "metadata": {
    "collapsed": false
   },
   "outputs": [
    {
     "data": {
      "text/plain": [
       "true"
      ]
     },
     "execution_count": 2,
     "metadata": {},
     "output_type": "execute_result"
    }
   ],
   "source": [
    "require \"#{Rails.root}/app/models/subject\"\n",
    "require \"#{Rails.root}/app/models/year_datum\"\n",
    "require \"#{Rails.root}/app/models/faculty\"\n",
    "require \"#{Rails.root}/app/models/subject_score\"\n",
    "require \"#{Rails.root}/app/models/summarized_subject\""
   ]
  },
  {
   "cell_type": "code",
   "execution_count": 3,
   "metadata": {
    "collapsed": false
   },
   "outputs": [
    {
     "data": {
      "text/plain": [
       "false"
      ]
     },
     "execution_count": 3,
     "metadata": {},
     "output_type": "execute_result"
    }
   ],
   "source": [
    "require 'open-uri'\n",
    "require 'nokogiri'\n",
    "require 'mechanize'\n",
    "require 'robotex'"
   ]
  },
  {
   "cell_type": "markdown",
   "metadata": {},
   "source": [
    "## 設定"
   ]
  },
  {
   "cell_type": "code",
   "execution_count": 18,
   "metadata": {
    "collapsed": false
   },
   "outputs": [
    {
     "data": {
      "text/plain": [
       "\"https://syllabus.doshisha.ac.jp/html/2016/G1/1G1111000.html\""
      ]
     },
     "execution_count": 18,
     "metadata": {},
     "output_type": "execute_result"
    }
   ],
   "source": [
    "url = 'https://syllabus.doshisha.ac.jp/html/2016/G1/1G1111000.html'"
   ]
  },
  {
   "cell_type": "code",
   "execution_count": 19,
   "metadata": {
    "collapsed": false
   },
   "outputs": [
    {
     "name": "stdout",
     "output_type": "stream",
     "text": [
      "\"robots: false\"\n"
     ]
    },
    {
     "data": {
      "text/plain": [
       "\"\""
      ]
     },
     "execution_count": 19,
     "metadata": {},
     "output_type": "execute_result"
    }
   ],
   "source": [
    "agent = Mechanize.new\n",
    "robotex = Robotex.new\n",
    "p \"robots: #{robotex.allowed?(url)}\"\n",
    "page = agent.get(url)\n",
    "''"
   ]
  },
  {
   "cell_type": "markdown",
   "metadata": {},
   "source": [
    "## スクレイピング\n",
    "タグ（項目？）ごとにtable, textのハッシュを作成"
   ]
  },
  {
   "cell_type": "code",
   "execution_count": 20,
   "metadata": {
    "collapsed": false,
    "scrolled": true
   },
   "outputs": [
    {
     "data": {
      "text/plain": [
       "\"\""
      ]
     },
     "execution_count": 20,
     "metadata": {},
     "output_type": "execute_result"
    }
   ],
   "source": [
    "data = page.css('body > div > table:nth-child(2) > tbody > tr:nth-child(4) > td')\n",
    "children=data.children\n",
    "''"
   ]
  },
  {
   "cell_type": "code",
   "execution_count": 21,
   "metadata": {
    "collapsed": false
   },
   "outputs": [
    {
     "data": {
      "text/plain": [
       "\"init\""
      ]
     },
     "execution_count": 21,
     "metadata": {},
     "output_type": "execute_result"
    }
   ],
   "source": [
    "table_hash = {}\n",
    "text_hash = {}\n",
    "tag = 'init'"
   ]
  },
  {
   "cell_type": "code",
   "execution_count": 22,
   "metadata": {
    "collapsed": false,
    "scrolled": false
   },
   "outputs": [
    {
     "name": "stdout",
     "output_type": "stream",
     "text": [
      "\"tag 概要\"\n",
      "\"tag 到達目標\"\n",
      "\"tag 授業計画\"\n",
      "\"tag 成績評価基準\"\n",
      "\"tag テキスト\"\n",
      "\"tag 参考文献\"\n"
     ]
    },
    {
     "data": {
      "text/plain": [
       "[\"授業計画\", \"成績評価基準\", \"テキスト\", \"参考文献\"]"
      ]
     },
     "execution_count": 22,
     "metadata": {},
     "output_type": "execute_result"
    }
   ],
   "source": [
    "children.each do |t|\n",
    "  text = t.text.strip\n",
    "  if t.node_name == 'table'\n",
    "    table_hash[tag] = t\n",
    "  elsif text.present?\n",
    "    if ret = text.match(/^＜(.+)＞$/)\n",
    "      p \"tag #{tag = ret[1]}\"\n",
    "    else\n",
    "      text_hash[tag] = text\n",
    "    end\n",
    "  end\n",
    "end\n",
    "''\n",
    "table_hash.keys"
   ]
  },
  {
   "cell_type": "code",
   "execution_count": 23,
   "metadata": {
    "collapsed": false,
    "scrolled": true
   },
   "outputs": [
    {
     "data": {
      "text/html": [
       "<table border=\"0\" width=\"100%\">\n",
       "<tbody>\n",
       "<tr>\n",
       "<td>\n",
       "<p>\n",
       "  特になし \n",
       "</p>\n",
       "</td>\n",
       "</tr>\n",
       "<tr>\n",
       "<td> </td>\n",
       "</tr>\n",
       "</tbody>\n",
       "</table>"
      ],
      "text/plain": [
       "#<Nokogiri::XML::Element:0x3fd3fdafbb4c name=\"table\" attributes=[#<Nokogiri::XML::Attr:0x3fd3fd28eaf4 name=\"border\" value=\"0\">, #<Nokogiri::XML::Attr:0x3fd3fd28eae0 name=\"width\" value=\"100%\">] children=[#<Nokogiri::XML::Text:0x3fd3fd28e400 \"\\n\">, #<Nokogiri::XML::Element:0x3fd3fd28e34c name=\"tbody\" children=[#<Nokogiri::XML::Text:0x3fd3fd28e16c \"\\n\">, #<Nokogiri::XML::Element:0x3fd3fd28e0b8 name=\"tr\" children=[#<Nokogiri::XML::Text:0x3fd3fd28bebc \"\\n\">, #<Nokogiri::XML::Element:0x3fd3fd28be08 name=\"td\" children=[#<Nokogiri::XML::Text:0x3fd3fd28bc00 \"\\n\">, #<Nokogiri::XML::Element:0x3fd3fd28bb4c name=\"p\" children=[#<Nokogiri::XML::Text:0x3fd3fd28b944 \"\\n  特になし \\n\">]>]>, #<Nokogiri::XML::Text:0x3fd3fd28b69c \"\\n\">]>, #<Nokogiri::XML::Text:0x3fd3fd28b4d0 \"\\n\">, #<Nokogiri::XML::Element:0x3fd3fd28b41c name=\"tr\" children=[#<Nokogiri::XML::Text:0x3fd3fd28b174 \"\\n\">, #<Nokogiri::XML::Element:0x3fd3fd28b0c0 name=\"td\" children=[#<Nokogiri::XML::Text:0x3fd3fd28aeb8 \" \">]>, #<Nokogiri::XML::Text:0x3fd3fd28ad14 \"\\n\">]>]>, #<Nokogiri::XML::Text:0x3fd3fd28aa58 \"\\n\">]>"
      ]
     },
     "execution_count": 23,
     "metadata": {},
     "output_type": "execute_result"
    }
   ],
   "source": [
    "table_hash[\"テキスト\"]"
   ]
  },
  {
   "cell_type": "code",
   "execution_count": 24,
   "metadata": {
    "collapsed": false
   },
   "outputs": [
    {
     "data": {
      "text/plain": [
       "{\"概要\"=>\"本科目では演習を通し，Linux上におけるC言語のプログラミングのスキルを身に付けることを主眼とする．前半では，基礎となるC言語の文法，ポインタなどの知識を演習を通して学習する．後半は，ネットワークプログラミングを学習する．演習を通して，さまざまなソースコードに触れることによってC言語の習熟を行う．\", \"到達目標\"=>\"Linux上でのC言語を用いた開発の基礎を理解できるようになる．　Linuxの基本的なコマンドの使用方法を習得できるようになる．\", \"授業計画\"=>\"受講者のレベルや要望に応じて内容は変更する．\", \"成績評価基準\"=>\"演習問題についてはプログラムの動作を確認することで評価を行なう．さらに，グループワークではプレゼンテーションやグループ内での意思疎通も評価に加える．\"}"
      ]
     },
     "execution_count": 24,
     "metadata": {},
     "output_type": "execute_result"
    }
   ],
   "source": [
    "text_hash"
   ]
  },
  {
   "cell_type": "markdown",
   "metadata": {},
   "source": [
    "## テキストから書籍名を取ってくる"
   ]
  },
  {
   "cell_type": "code",
   "execution_count": 25,
   "metadata": {
    "collapsed": false
   },
   "outputs": [
    {
     "data": {
      "text/plain": [
       "\"\\n\\n\\n\\n\\n\\n種田　元樹 \\n『本当は恐いC言語』(秀和システム、2012/3)ISBN:978-4798032627 \\n\\n\\n\\n\\n\\n \\n\\n\\n\\n\\n\\n青木　峰郎 \\n『ふつうのLinuxプログラミング－Linuxの仕組みから学べるgccプログラミングの王道－』(ソフトバンク・クリエイティブ、2005/8)ISBN:978-4797328356 \\n\\n\\n\\n\\n\\n \\n\\n\\n\""
      ]
     },
     "execution_count": 25,
     "metadata": {},
     "output_type": "execute_result"
    }
   ],
   "source": [
    "t=table_hash[\"参考文献\"].text"
   ]
  },
  {
   "cell_type": "code",
   "execution_count": 26,
   "metadata": {
    "collapsed": false
   },
   "outputs": [
    {
     "data": {
      "text/plain": [
       "\"本当は恐いC言語\""
      ]
     },
     "execution_count": 26,
     "metadata": {},
     "output_type": "execute_result"
    }
   ],
   "source": [
    "t.match(/『(.+)』/)[1]"
   ]
  },
  {
   "cell_type": "code",
   "execution_count": 27,
   "metadata": {
    "collapsed": false
   },
   "outputs": [
    {
     "data": {
      "text/plain": [
       "\"978-4798032627\""
      ]
     },
     "execution_count": 27,
     "metadata": {},
     "output_type": "execute_result"
    }
   ],
   "source": [
    "from_syllabus = '978-4798032627'"
   ]
  },
  {
   "cell_type": "code",
   "execution_count": 28,
   "metadata": {
    "collapsed": false
   },
   "outputs": [
    {
     "data": {
      "text/plain": [
       "\"978-4798032627\""
      ]
     },
     "execution_count": 28,
     "metadata": {},
     "output_type": "execute_result"
    }
   ],
   "source": [
    "from_amazon = '978-4798032627'"
   ]
  },
  {
   "cell_type": "code",
   "execution_count": 29,
   "metadata": {
    "collapsed": false
   },
   "outputs": [
    {
     "data": {
      "text/plain": [
       "true"
      ]
     },
     "execution_count": 29,
     "metadata": {},
     "output_type": "execute_result"
    }
   ],
   "source": [
    "from_syllabus == from_amazon"
   ]
  },
  {
   "cell_type": "code",
   "execution_count": null,
   "metadata": {
    "collapsed": true
   },
   "outputs": [],
   "source": []
  }
 ],
 "metadata": {
  "kernelspec": {
   "display_name": "Ruby 2.2.3",
   "language": "ruby",
   "name": "ruby"
  },
  "language_info": {
   "file_extension": ".rb",
   "mimetype": "application/x-ruby",
   "name": "ruby",
   "version": "2.2.3"
  }
 },
 "nbformat": 4,
 "nbformat_minor": 1
}
