{
 "cells": [
  {
   "cell_type": "code",
   "execution_count": 1,
   "metadata": {
    "collapsed": false
   },
   "outputs": [
    {
     "data": {
      "text/plain": [
       "true"
      ]
     },
     "execution_count": 1,
     "metadata": {},
     "output_type": "execute_result"
    }
   ],
   "source": [
    "FileUtils.cd '../../'\n",
    "require './config/boot'\n",
    "APP_PATH  = File.expand_path('config/application') unless defined?(APP_PATH)\n",
    "require APP_PATH\n",
    "Rails.application.require_environment!"
   ]
  },
  {
   "cell_type": "code",
   "execution_count": 2,
   "metadata": {
    "collapsed": false
   },
   "outputs": [
    {
     "data": {
      "text/plain": [
       "true"
      ]
     },
     "execution_count": 2,
     "metadata": {},
     "output_type": "execute_result"
    }
   ],
   "source": [
    "require \"#{Rails.root}/app/models/subject\"\n",
    "require \"#{Rails.root}/app/models/year_datum\"\n",
    "require \"#{Rails.root}/app/models/faculty\"\n",
    "require \"#{Rails.root}/app/models/subject_score\"\n",
    "require \"#{Rails.root}/app/models/summarized_subject\""
   ]
  },
  {
   "cell_type": "code",
   "execution_count": 3,
   "metadata": {
    "collapsed": false
   },
   "outputs": [
    {
     "data": {
      "text/plain": [
       "false"
      ]
     },
     "execution_count": 3,
     "metadata": {},
     "output_type": "execute_result"
    }
   ],
   "source": [
    "require 'open-uri'\n",
    "require 'nokogiri'\n",
    "require 'mechanize'\n",
    "require 'robotex'"
   ]
  },
  {
   "cell_type": "code",
   "execution_count": 42,
   "metadata": {
    "collapsed": false
   },
   "outputs": [
    {
     "data": {
      "text/plain": [
       "{}"
      ]
     },
     "execution_count": 42,
     "metadata": {},
     "output_type": "execute_result"
    }
   ],
   "source": [
    "# robotex = Robotex.new\n",
    "# p \"robots: #{robotex.allowed?(url)}\"hash = Hash.new(0)"
   ]
  },
  {
   "cell_type": "markdown",
   "metadata": {},
   "source": [
    "## 設定"
   ]
  },
  {
   "cell_type": "code",
   "execution_count": 198,
   "metadata": {
    "collapsed": false
   },
   "outputs": [
    {
     "data": {
      "text/plain": [
       "#<ActiveRecord::Relation [#<SummarizedSubject id: 1, name: \"神学-1\", code: \"0101001-001\", number_of_students: nil, A: 0.0, B: 0.0, C: 0.0, D: 0.0, F: 0.0, other: 0.0, mean_score: 0.0, weighted_score: nil, faculty_id: 1, subject_id: 12495, url: \"https://syllabus.doshisha.ac.jp/html/2017/0101/101...\", term: 0, place: 0, credit: 2, teacher_id: 29, teacher_name: \"森山 央朗\">, #<SummarizedSubject id: 2, name: \"神学-2\", code: \"0101001-002\", number_of_students: nil, A: 0.0, B: 0.0, C: 0.0, D: 0.0, F: 0.0, other: 0.0, mean_score: 0.0, weighted_score: nil, faculty_id: 1, subject_id: 12496, url: \"https://syllabus.doshisha.ac.jp/html/2017/0101/101...\", term: 0, place: 0, credit: 2, teacher_id: 1895, teacher_name: \"木谷 佳楠\">, #<SummarizedSubject id: 3, name: \"神学-3\", code: \"0101001-003\", number_of_students: nil, A: 0.0, B: 0.0, C: 0.0, D: 0.0, F: 0.0, other: 0.0, mean_score: 0.0, weighted_score: nil, faculty_id: 1, subject_id: 12497, url: \"https://syllabus.doshisha.ac.jp/html/2017/0101/101...\", term: 0, place: 0, credit: 2, teacher_id: 39, teacher_name: \"勝又 悦子\">, #<SummarizedSubject id: 4, name: \"神学-11\", code: \"0101001-011\", number_of_students: 0, A: 0.0, B: 0.0, C: 0.0, D: 0.0, F: 0.0, other: 0.0, mean_score: 0.0, weighted_score: nil, faculty_id: 1, subject_id: 1, url: \"https://syllabus.doshisha.ac.jp/html/2017/0101/101...\", term: 0, place: 0, credit: 2, teacher_id: 12, teacher_name: \"水谷 誠\">, #<SummarizedSubject id: 5, name: \"聖書学1-1\", code: \"0101011-001\", number_of_students: 22, A: 30.5333, B: 31.1667, C: 5.93333, D: 14.4, F: 17.9667, other: 0.0, mean_score: 2.43333, weighted_score: 2.4619, faculty_id: 1, subject_id: 7963, url: \"https://syllabus.doshisha.ac.jp/html/2017/0101/101...\", term: 0, place: 1, credit: 2, teacher_id: 2188, teacher_name: \"大澤 香\">, #<SummarizedSubject id: 6, name: \"聖書学1-51\", code: \"0101011-051\", number_of_students: 76, A: 23.2, B: 24.8333, C: 24.1, D: 9.23333, F: 17.8667, other: 0.833333, mean_score: 2.26667, weighted_score: 2.28095, faculty_id: 1, subject_id: 7964, url: \"https://syllabus.doshisha.ac.jp/html/2017/0101/101...\", term: 0, place: 0, credit: 2, teacher_id: 2, teacher_name: \"越後屋 朗\">, #<SummarizedSubject id: 7, name: \"聖書学2-1\", code: \"0101012-001\", number_of_students: 25, A: 26.8667, B: 27.3667, C: 15.5667, D: 11.8, F: 18.4, other: 0.0, mean_score: 2.33333, weighted_score: 2.29048, faculty_id: 1, subject_id: 7965, url: \"https://syllabus.doshisha.ac.jp/html/2017/0101/101...\", term: 1, place: 1, credit: 2, teacher_id: 2188, teacher_name: \"大澤 香\">, #<SummarizedSubject id: 8, name: \"聖書学2-51\", code: \"0101012-051\", number_of_students: 63, A: 16.0333, B: 33.5, C: 20.3667, D: 11.0, F: 17.9, other: 1.16667, mean_score: 2.2, weighted_score: 2.25714, faculty_id: 1, subject_id: 7966, url: \"https://syllabus.doshisha.ac.jp/html/2017/0101/101...\", term: 1, place: 0, credit: 2, teacher_id: 2, teacher_name: \"越後屋 朗\">, #<SummarizedSubject id: 9, name: \"聖書学13\", code: \"0101023-000\", number_of_students: 25, A: 25.3, B: 27.3, C: 19.7, D: 6.0, F: 19.75, other: 1.9, mean_score: 2.3, weighted_score: 2.08571, faculty_id: 1, subject_id: 6, url: \"https://syllabus.doshisha.ac.jp/html/2017/0101/101...\", term: 0, place: 0, credit: 2, teacher_id: 2, teacher_name: \"越後屋 朗\">, #<SummarizedSubject id: 10, name: \"聖書学14\", code: \"0101024-000\", number_of_students: 14, A: 31.05, B: 38.4, C: 7.9, D: 7.65, F: 15.0, other: 0.0, mean_score: 2.65, weighted_score: 2.41429, faculty_id: 1, subject_id: 7, url: \"https://syllabus.doshisha.ac.jp/html/2017/0101/101...\", term: 1, place: 0, credit: 2, teacher_id: 2, teacher_name: \"越後屋 朗\">, ...]>"
      ]
     },
     "execution_count": 198,
     "metadata": {},
     "output_type": "execute_result"
    }
   ],
   "source": [
    "subjects = SummarizedSubject.limit(100)"
   ]
  },
  {
   "cell_type": "markdown",
   "metadata": {},
   "source": [
    "## スクレイピング\n",
    "タグ（項目？）ごとにtable, textのハッシュを作成"
   ]
  },
  {
   "cell_type": "code",
   "execution_count": 15,
   "metadata": {
    "collapsed": false
   },
   "outputs": [
    {
     "data": {
      "text/plain": [
       "{}"
      ]
     },
     "execution_count": 15,
     "metadata": {},
     "output_type": "execute_result"
    }
   ],
   "source": [
    "hash = Hash.new(0)"
   ]
  },
  {
   "cell_type": "code",
   "execution_count": 186,
   "metadata": {
    "collapsed": false
   },
   "outputs": [
    {
     "data": {
      "text/plain": [
       "#<SummarizedSubject id: 17, name: \"聖書学演習15\", code: \"0101065-000\", number_of_students: 14, A: 71.4, B: 7.1, C: 0.0, D: 0.0, F: 21.4, other: 0.0, mean_score: 3.1, weighted_score: 3.1, faculty_id: 1, subject_id: 15, url: \"https://syllabus.doshisha.ac.jp/html/2017/0101/101...\", term: 1, place: 0, credit: 2, teacher_id: 3, teacher_name: \"村山 盛葦\">"
      ]
     },
     "execution_count": 186,
     "metadata": {},
     "output_type": "execute_result"
    }
   ],
   "source": [
    "subject = subjects[16]"
   ]
  },
  {
   "cell_type": "code",
   "execution_count": 187,
   "metadata": {
    "collapsed": false
   },
   "outputs": [
    {
     "name": "stdout",
     "output_type": "stream",
     "text": [
      "\"tag 概要\"\n",
      "\"tag 到達目標\"\n",
      "\"tag 授業計画\"\n",
      "\"tag 成績評価基準\"\n",
      "\"tag テキスト\"\n",
      "\"tag 参考文献\"\n",
      "\"tag 備考\"\n",
      "\"平常点（出席，クラス参加，グループ作業の成果等） \"\n",
      "\"期末レポート試験 \"\n",
      "\"クラスでの発表など \"\n"
     ]
    },
    {
     "data": {
      "text/plain": [
       "0"
      ]
     },
     "execution_count": 187,
     "metadata": {},
     "output_type": "execute_result"
    }
   ],
   "source": [
    "url = subject.url\n",
    "agent = Mechanize.new\n",
    "page = agent.get(url)\n",
    "data = page.css('body > div > table:nth-child(2) > tbody > tr:nth-child(4) > td')\n",
    "children=data.children\n",
    "table_hash = {}\n",
    "text_hash = {}\n",
    "tag = 'init'\n",
    "children.each do |t|\n",
    "  text = t.text.strip\n",
    "  if t.node_name == 'table'\n",
    "    table_hash[tag] = t\n",
    "  elsif text.present?\n",
    "    if ret = text.match(/^＜(.+)＞$/)\n",
    "      p \"tag #{tag = ret[1].split('/')[0]}\"\n",
    "    else\n",
    "      text_hash[tag] = text\n",
    "    end\n",
    "  end\n",
    "end\n",
    "table_hash[\"成績評価基準\"].css('tbody > tr').each do |tr|\n",
    "  record_tag = tr.css('td')[0].text.strip\n",
    "  p record_tag\n",
    "  hash[record_tag] += 1\n",
    "end"
   ]
  },
  {
   "cell_type": "code",
   "execution_count": 188,
   "metadata": {
    "collapsed": false
   },
   "outputs": [
    {
     "name": "stdout",
     "output_type": "stream",
     "text": [
      "15\n"
     ]
    },
    {
     "data": {
      "text/plain": [
       "15"
      ]
     },
     "execution_count": 188,
     "metadata": {},
     "output_type": "execute_result"
    }
   ],
   "source": [
    "p subject.subject_id"
   ]
  },
  {
   "cell_type": "code",
   "execution_count": 191,
   "metadata": {
    "collapsed": false
   },
   "outputs": [
    {
     "name": "stdout",
     "output_type": "stream",
     "text": [
      "\"15, 成績, 平常点, 30\"\n",
      "\"15, 成績, 期末レポート試験, 40\"\n",
      "\"15, 成績, クラスでの発表など, 30\"\n"
     ]
    },
    {
     "data": {
      "text/plain": [
       "0"
      ]
     },
     "execution_count": 191,
     "metadata": {},
     "output_type": "execute_result"
    }
   ],
   "source": [
    "table_hash[\"成績評価基準\"].css('tbody > tr').each do |tr|\n",
    "  record_tag = tr.css('td')[0].text.gsub(/(\\xc2\\xa0)+/, \"\").strip\n",
    "  record_tag = \"平常点\" if record_tag.include?(\"平常点\") # 平常点系は平常点でまとめる\n",
    "  record_val = tr.css('td')[1].text.gsub(/(\\xc2\\xa0)+/, \"\").strip.gsub(\"%\",\"\")\n",
    "  p \"#{subject.subject_id}, 成績, #{record_tag}, #{record_val}\"\n",
    "end"
   ]
  },
  {
   "cell_type": "code",
   "execution_count": 197,
   "metadata": {
    "collapsed": false,
    "scrolled": true
   },
   "outputs": [
    {
     "name": "stdout",
     "output_type": "stream",
     "text": [
      "\"15, テキスト, , 問いかけるイエス－福音書をどう読み解くか－\"\n",
      "\"15, 参考文献, , 聖書の風土・歴史・社会\"\n",
      "\"15, 参考文献, , イエス研究史\"\n"
     ]
    },
    {
     "data": {
      "text/plain": [
       "[\"テキスト\", \"参考文献\"]"
      ]
     },
     "execution_count": 197,
     "metadata": {},
     "output_type": "execute_result"
    }
   ],
   "source": [
    "[\"テキスト\", \"参考文献\"].each do |cat|\n",
    "  if table_hash[cat].present?\n",
    "    table_hash[cat].css('tbody > tr').each do |c|\n",
    "      keyword = (c.text.match(/『(.+)』/) || [])[-1]\n",
    "      if keyword\n",
    "        p \"#{subject.subject_id}, #{cat}, , #{keyword}\"\n",
    "      end\n",
    "    end\n",
    "  end\n",
    "end"
   ]
  },
  {
   "cell_type": "code",
   "execution_count": null,
   "metadata": {
    "collapsed": true
   },
   "outputs": [],
   "source": []
  },
  {
   "cell_type": "code",
   "execution_count": null,
   "metadata": {
    "collapsed": true
   },
   "outputs": [],
   "source": []
  },
  {
   "cell_type": "code",
   "execution_count": 202,
   "metadata": {
    "collapsed": false,
    "scrolled": true
   },
   "outputs": [
    {
     "data": {
      "text/plain": [
       "[#<SummarizedSubject id: 9887, name: \"アナリティカル・リ-ディング1-7\", code: \"6501023-007\", number_of_students: 38, A: 22.975, B: 35.325, C: 23.25, D: 10.325, F: 8.075, other: 0.0, mean_score: 2.55, weighted_score: 2.72727, faculty_id: 18, subject_id: 7275, url: \"https://syllabus.doshisha.ac.jp/html/2017/6501/165...\", term: 0, place: 1, credit: 1, teacher_id: 1497, teacher_name: \"山路 順子\">, #<SummarizedSubject id: 11014, name: \"ドイツ語入門II-951\", code: \"6502012-951\", number_of_students: nil, A: 0.0, B: 0.0, C: 0.0, D: 0.0, F: 0.0, other: 0.0, mean_score: 0.0, weighted_score: nil, faculty_id: 18, subject_id: 15564, url: \"https://syllabus.doshisha.ac.jp/html/2017/6502/165...\", term: 0, place: 0, credit: 2, teacher_id: 2999, teacher_name: \"湯浅 博章\">, #<SummarizedSubject id: 9808, name: \"英語講読2-534\", code: \"6501022-534\", number_of_students: nil, A: 0.0, B: 0.0, C: 0.0, D: 0.0, F: 0.0, other: 0.0, mean_score: 0.0, weighted_score: nil, faculty_id: 18, subject_id: 14953, url: \"https://syllabus.doshisha.ac.jp/html/2017/6501/165...\", term: 0, place: 0, credit: 1, teacher_id: 2766, teacher_name: \"﨑田 智子\">, #<SummarizedSubject id: 7479, name: \"DEVELOPMENT ECON\", code: \"2000321-000\", number_of_students: nil, A: 0.0, B: 0.0, C: 0.0, D: 0.0, F: 0.0, other: 0.0, mean_score: 0.0, weighted_score: nil, faculty_id: 14, subject_id: 14217, url: \"https://syllabus.doshisha.ac.jp/html/2017/2000/120...\", term: 1, place: 0, credit: 2, teacher_id: 721, teacher_name: \"川浦 昭彦\">, #<SummarizedSubject id: 7946, name: \"海外インタ-ンシップ (英語)-3\", code: \"2201151-003\", number_of_students: 0, A: 0.0, B: 0.0, C: 0.0, D: 0.0, F: 0.0, other: 0.0, mean_score: 0.0, weighted_score: nil, faculty_id: 15, subject_id: 10660, url: \"https://syllabus.doshisha.ac.jp/html/2017/2201/122...\", term: 0, place: 0, credit: 2, teacher_id: 1739, teacher_name: \"落合 明子\">, #<SummarizedSubject id: 4816, name: \"産業関係文献演習I-1\", code: \"0942021-001\", number_of_students: 0, A: 0.0, B: 0.0, C: 0.0, D: 0.0, F: 0.0, other: 0.0, mean_score: 0.0, weighted_score: nil, faculty_id: 8, subject_id: 3871, url: \"https://syllabus.doshisha.ac.jp/html/2017/0942/109...\", term: 0, place: 0, credit: 2, teacher_id: 946, teacher_name: \"岩月 真也\">, #<SummarizedSubject id: 11683, name: \"スペイン語応用3-771\", code: \"6505033-771\", number_of_students: nil, A: 0.0, B: 0.0, C: 0.0, D: 0.0, F: 0.0, other: 0.0, mean_score: 0.0, weighted_score: nil, faculty_id: 18, subject_id: 16233, url: \"https://syllabus.doshisha.ac.jp/html/2017/6505/165...\", term: 1, place: 0, credit: 1, teacher_id: 2937, teacher_name: \"駒村 幸\">, #<SummarizedSubject id: 11571, name: \"スペイン語入門I-12\", code: \"6505011-012\", number_of_students: nil, A: 0.0, B: 0.0, C: 0.0, D: 0.0, F: 0.0, other: 0.0, mean_score: 0.0, weighted_score: nil, faculty_id: 18, subject_id: 16121, url: \"https://syllabus.doshisha.ac.jp/html/2017/6505/165...\", term: 0, place: 1, credit: 2, teacher_id: 1581, teacher_name: \"立林 良一\">, #<SummarizedSubject id: 2613, name: \"民法IIIa(債権総論①)\", code: \"0308204-000\", number_of_students: 741, A: 17.2667, B: 20.1, C: 19.5, D: 23.3, F: 19.8667, other: 0.0, mean_score: 1.9, weighted_score: 1.84286, faculty_id: 3, subject_id: 8384, url: \"https://syllabus.doshisha.ac.jp/html/2017/0308/103...\", term: 0, place: 0, credit: 2, teacher_id: 1944, teacher_name: \"荻野 奈緒\">, #<SummarizedSubject id: 5297, name: \"電磁気学\", code: \"1411106-000\", number_of_students: 106, A: 16.15, B: 17.825, C: 15.725, D: 19.35, F: 30.95, other: 0.0, mean_score: 1.675, weighted_score: 1.57273, faculty_id: 9, subject_id: 4314, url: \"https://syllabus.doshisha.ac.jp/html/2017/1411/114...\", term: 1, place: 1, credit: 2, teacher_id: 1034, teacher_name: \"剣持 貴弘\">, #<SummarizedSubject id: 565, name: \"基礎演習II-7\", code: \"0210454-007\", number_of_students: nil, A: 0.0, B: 0.0, C: 0.0, D: 0.0, F: 0.0, other: 0.0, mean_score: 0.0, weighted_score: nil, faculty_id: 2, subject_id: 12652, url: \"https://syllabus.doshisha.ac.jp/html/2017/0210/102...\", term: 1, place: 0, credit: 2, teacher_id: 63, teacher_name: \"勝山 貴之\">, #<SummarizedSubject id: 614, name: \"Communicative English Skills A II-7\", code: \"0210713-007\", number_of_students: 32, A: 6.3, B: 46.9, C: 18.8, D: 6.3, F: 21.9, other: 0.0, mean_score: 2.1, weighted_score: 2.1, faculty_id: 2, subject_id: 9815, url: \"https://syllabus.doshisha.ac.jp/html/2017/0210/102...\", term: 1, place: 0, credit: 2, teacher_id: 78, teacher_name: \"浅沼 恵\">, #<SummarizedSubject id: 6830, name: \"演習(1)-6\", code: \"1700010-006\", number_of_students: nil, A: 0.0, B: 0.0, C: 0.0, D: 0.0, F: 0.0, other: 0.0, mean_score: 0.0, weighted_score: nil, faculty_id: 12, subject_id: 14017, url: \"https://syllabus.doshisha.ac.jp/html/2017/1700/117...\", term: 0, place: 1, credit: 2, teacher_id: 158, teacher_name: \"菊谷 まり子\">, #<SummarizedSubject id: 1319, name: \"哲学概論(2)-1\", code: \"0240108-001\", number_of_students: 18, A: 27.5333, B: 20.5, C: 13.2333, D: 0.0, F: 38.7667, other: 0.0, mean_score: 2.0, weighted_score: 2.24, faculty_id: 2, subject_id: 785, url: \"https://syllabus.doshisha.ac.jp/html/2017/0240/102...\", term: 1, place: 1, credit: 2, teacher_id: 146, teacher_name: \"田端 信廣\">, #<SummarizedSubject id: 9005, name: \"英語文化事情1-303\", code: \"6501011-303\", number_of_students: nil, A: 0.0, B: 0.0, C: 0.0, D: 0.0, F: 0.0, other: 0.0, mean_score: 0.0, weighted_score: nil, faculty_id: 18, subject_id: 14796, url: \"https://syllabus.doshisha.ac.jp/html/2017/6501/165...\", term: 0, place: 1, credit: 1, teacher_id: 2392, teacher_name: \"中田 賀之\">, #<SummarizedSubject id: 7860, name: \"グロ-バル地域文化入門セミナ--204\", code: \"2200052-204\", number_of_students: nil, A: 0.0, B: 0.0, C: 0.0, D: 0.0, F: 0.0, other: 0.0, mean_score: 0.0, weighted_score: nil, faculty_id: 15, subject_id: 14574, url: \"https://syllabus.doshisha.ac.jp/html/2017/2200/122...\", term: 1, place: 0, credit: 2, teacher_id: 2713, teacher_name: \"錢 鷗\">, #<SummarizedSubject id: 6268, name: \"機械工学実験-1\", code: \"1630043-001\", number_of_students: nil, A: 0.0, B: 0.0, C: 0.0, D: 0.0, F: 0.0, other: 0.0, mean_score: 0.0, weighted_score: nil, faculty_id: 11, subject_id: 13865, url: \"https://syllabus.doshisha.ac.jp/html/2017/1630/116...\", term: 0, place: 1, credit: 2, teacher_id: 1311, teacher_name: \"廣垣 俊樹\">, #<SummarizedSubject id: 6916, name: \"食行動の心理学\", code: \"1700210-000\", number_of_students: 105, A: 24.5, B: 25.05, C: 27.75, D: 11.6, F: 11.1, other: 0.0, mean_score: 2.4, weighted_score: 2.38235, faculty_id: 12, subject_id: 10611, url: \"https://syllabus.doshisha.ac.jp/html/2017/1700/117...\", term: 1, place: 1, credit: 2, teacher_id: 170, teacher_name: \"青山 謙二郎\">, #<SummarizedSubject id: 7294, name: \"基礎演習3-1\", code: \"1933053-001\", number_of_students: 0, A: 0.0, B: 0.0, C: 0.0, D: 0.0, F: 0.0, other: 0.0, mean_score: 0.0, weighted_score: nil, faculty_id: 13, subject_id: 5926, url: \"https://syllabus.doshisha.ac.jp/html/2017/1933/119...\", term: 0, place: 1, credit: 2, teacher_id: 1487, teacher_name: \"脇田 里子\">, #<SummarizedSubject id: 8923, name: \"スポ-ツ・パフォ-マンス1-522\", code: \"6601018-522\", number_of_students: 26, A: 33.625, B: 52.775, C: 9.15, D: 0.0, F: 4.45, other: 0.0, mean_score: 3.1, weighted_score: 3.11364, faculty_id: 17, subject_id: 6743, url: \"https://syllabus.doshisha.ac.jp/html/2017/6601/166...\", term: 0, place: 1, credit: 1, teacher_id: 1727, teacher_name: \"久保 陽\">, #<SummarizedSubject id: 2164, name: \"国際社会と民事法-1\", code: \"0307031-001\", number_of_students: 382, A: 17.25, B: 26.725, C: 26.4, D: 16.025, F: 13.6, other: 0.0, mean_score: 2.175, weighted_score: 2.20909, faculty_id: 3, subject_id: 1375, url: \"https://syllabus.doshisha.ac.jp/html/2017/0307/103...\", term: 0, place: 0, credit: 2, teacher_id: 2502, teacher_name: \"髙杉 直\">, #<SummarizedSubject id: 10880, name: \"I.C.T.(Tutorial)-2\", code: \"6501702-002\", number_of_students: nil, A: 0.0, B: 0.0, C: 0.0, D: 0.0, F: 0.0, other: 0.0, mean_score: 0.0, weighted_score: nil, faculty_id: 18, subject_id: 15430, url: \"https://syllabus.doshisha.ac.jp/html/2017/6501/165...\", term: 0, place: 1, credit: 1, teacher_id: 1908, teacher_name: \"綱井 勇吾\">, #<SummarizedSubject id: 1075, name: \"Reading A I-101\", code: \"0210888-101\", number_of_students: 13, A: 12.625, B: 19.275, C: 16.5, D: 24.0, F: 27.65, other: 0.0, mean_score: 1.65, weighted_score: 1.82727, faculty_id: 2, subject_id: 674, url: \"https://syllabus.doshisha.ac.jp/html/2017/0210/102...\", term: 0, place: 0, credit: 2, teacher_id: 53, teacher_name: \"石塚 則子\">, #<SummarizedSubject id: 7549, name: \"INTRO SEMINAR B-2\", code: \"2001002-002\", number_of_students: nil, A: 0.0, B: 0.0, C: 0.0, D: 0.0, F: 0.0, other: 0.0, mean_score: 0.0, weighted_score: nil, faculty_id: 14, subject_id: 14287, url: \"https://syllabus.doshisha.ac.jp/html/2017/2001/120...\", term: 1, place: 0, credit: 2, teacher_id: 1590, teacher_name: \"BRUCE WHITE\">, #<SummarizedSubject id: 5080, name: \"生涯学習概論-52\", code: \"0952223-052\", number_of_students: 135, A: 8.2, B: 44.275, C: 31.55, D: 3.725, F: 12.25, other: 0.0, mean_score: 2.325, weighted_score: 2.42727, faculty_id: 8, subject_id: 4142, url: \"https://syllabus.doshisha.ac.jp/html/2017/0952/109...\", term: 1, place: 0, credit: 2, teacher_id: 1005, teacher_name: \"神部 純一\">, #<SummarizedSubject id: 5201, name: \"学習指導と学校図書館-1\", code: \"0952810-001\", number_of_students: 0, A: 0.0, B: 0.0, C: 0.0, D: 0.0, F: 0.0, other: 0.0, mean_score: 0.0, weighted_score: nil, faculty_id: 8, subject_id: 4233, url: \"https://syllabus.doshisha.ac.jp/html/2017/0952/109...\", term: 1, place: 1, credit: 2, teacher_id: 1021, teacher_name: \"家城 清美\">, #<SummarizedSubject id: 4068, name: \"フィ-ルド・リサ-チ-102\", code: \"0702147-102\", number_of_students: nil, A: 0.0, B: 0.0, C: 0.0, D: 0.0, F: 0.0, other: 0.0, mean_score: 0.0, weighted_score: nil, faculty_id: 6, subject_id: 13399, url: \"https://syllabus.doshisha.ac.jp/html/2017/0702/107...\", term: 0, place: 0, credit: 2, teacher_id: 712, teacher_name: \"OFER FELDMAN\">, #<SummarizedSubject id: 10839, name: \"I.C.T.(Practice)-5\", code: \"6501701-005\", number_of_students: nil, A: 0.0, B: 0.0, C: 0.0, D: 0.0, F: 0.0, other: 0.0, mean_score: 0.0, weighted_score: nil, faculty_id: 18, subject_id: 15389, url: \"https://syllabus.doshisha.ac.jp/html/2017/6501/165...\", term: 0, place: 1, credit: 1, teacher_id: 2974, teacher_name: \"小林 英雄\">, #<SummarizedSubject id: 6070, name: \"電気基礎実験I\", code: \"1620012-000\", number_of_students: 191, A: 2.325, B: 21.975, C: 41.9, D: 27.85, F: 5.975, other: 0.0, mean_score: 1.875, weighted_score: 1.84091, faculty_id: 11, subject_id: 5026, url: \"https://syllabus.doshisha.ac.jp/html/2017/1620/116...\", term: 1, place: 1, credit: 2, teacher_id: 1273, teacher_name: \"大谷 直毅\">, #<SummarizedSubject id: 7296, name: \"基礎演習3-3\", code: \"1933053-003\", number_of_students: 0, A: 0.0, B: 0.0, C: 0.0, D: 0.0, F: 0.0, other: 0.0, mean_score: 0.0, weighted_score: nil, faculty_id: 13, subject_id: 5928, url: \"https://syllabus.doshisha.ac.jp/html/2017/1933/119...\", term: 0, place: 1, credit: 2, teacher_id: 2900, teacher_name: \"鈴木 伸子\">, #<SummarizedSubject id: 1624, name: \"日本文化史演習II(1)〔史2年〕-7\", code: \"0270213-007\", number_of_students: nil, A: 0.0, B: 0.0, C: 0.0, D: 0.0, F: 0.0, other: 0.0, mean_score: 0.0, weighted_score: nil, faculty_id: 2, subject_id: 12993, url: \"https://syllabus.doshisha.ac.jp/html/2017/0270/102...\", term: 0, place: 0, credit: 2, teacher_id: 2802, teacher_name: \"杉﨑 貴英\">, #<SummarizedSubject id: 1546, name: \"西洋文化史概説(1)-51\", code: \"0270101-051\", number_of_students: 72, A: 9.1, B: 11.35, C: 20.875, D: 28.925, F: 29.7, other: 0.0, mean_score: 1.425, weighted_score: 1.47273, faculty_id: 2, subject_id: 930, url: \"https://syllabus.doshisha.ac.jp/html/2017/0270/102...\", term: 0, place: 0, credit: 2, teacher_id: 234, teacher_name: \"坂井 聰\">, #<SummarizedSubject id: 3655, name: \"メディア環境変化と企業コミュニケ-ション\", code: \"0523563-000\", number_of_students: 114, A: 18.4, B: 25.4, C: 14.0, D: 19.3, F: 22.8, other: 0.0, mean_score: 2.0, weighted_score: 2.0, faculty_id: 5, subject_id: 11407, url: \"https://syllabus.doshisha.ac.jp/html/2017/0523/105...\", term: 1, place: 0, credit: 2, teacher_id: 614, teacher_name: \"西村 幸子\">, #<SummarizedSubject id: 7074, name: \"Advanced Seminar1-3\", code: \"1911055-003\", number_of_students: 0, A: 0.0, B: 0.0, C: 0.0, D: 0.0, F: 0.0, other: 0.0, mean_score: 0.0, weighted_score: nil, faculty_id: 13, subject_id: 9341, url: \"https://syllabus.doshisha.ac.jp/html/2017/1911/119...\", term: 0, place: 1, credit: 2, teacher_id: 1490, teacher_name: \"吉田 優子\">, #<SummarizedSubject id: 6976, name: \"教職実践演習(中・高)\", code: \"1700607-000\", number_of_students: 0, A: 0.0, B: 0.0, C: 0.0, D: 0.0, F: 0.0, other: 0.0, mean_score: 0.0, weighted_score: nil, faculty_id: 12, subject_id: 5665, url: \"https://syllabus.doshisha.ac.jp/html/2017/1700/117...\", term: 1, place: 1, credit: 2, teacher_id: 2043, teacher_name: \"田中 あゆみ\">, #<SummarizedSubject id: 3648, name: \"海外ビジネスII-1\", code: \"0523533-001\", number_of_students: 0, A: 0.0, B: 0.0, C: 0.0, D: 0.0, F: 0.0, other: 0.0, mean_score: 0.0, weighted_score: nil, faculty_id: 5, subject_id: 10262, url: \"https://syllabus.doshisha.ac.jp/html/2017/0523/105...\", term: 0, place: 0, credit: 4, teacher_id: 661, teacher_name: \"中川 優\">, #<SummarizedSubject id: 2431, name: \"4年次演習1(国際法)-140\", code: \"0307703-140\", number_of_students: 0, A: 0.0, B: 0.0, C: 0.0, D: 0.0, F: 0.0, other: 0.0, mean_score: 0.0, weighted_score: nil, faculty_id: 3, subject_id: 1642, url: \"https://syllabus.doshisha.ac.jp/html/2017/0307/103...\", term: 0, place: 0, credit: 2, teacher_id: 328, teacher_name: \"新井 京\">, #<SummarizedSubject id: 11830, name: \"ロシア語応用1-501\", code: \"6506031-501\", number_of_students: nil, A: 0.0, B: 0.0, C: 0.0, D: 0.0, F: 0.0, other: 0.0, mean_score: 0.0, weighted_score: nil, faculty_id: 18, subject_id: 16380, url: \"https://syllabus.doshisha.ac.jp/html/2017/6506/165...\", term: 0, place: 0, credit: 1, teacher_id: 3080, teacher_name: \"有信 優子\">, #<SummarizedSubject id: 3869, name: \"卒業論文-15\", code: \"0700151-015\", number_of_students: 0, A: 0.0, B: 0.0, C: 0.0, D: 0.0, F: 0.0, other: 0.0, mean_score: 0.0, weighted_score: nil, faculty_id: 6, subject_id: 3085, url: \"https://syllabus.doshisha.ac.jp/html/2017/0700/107...\", term: 1, place: 0, credit: 6, teacher_id: 724, teacher_name: \"野間 敏克\">, #<SummarizedSubject id: 12134, name: \"ハングル入門I-22\", code: \"6510011-022\", number_of_students: nil, A: 0.0, B: 0.0, C: 0.0, D: 0.0, F: 0.0, other: 0.0, mean_score: 0.0, weighted_score: nil, faculty_id: 18, subject_id: 16684, url: \"https://syllabus.doshisha.ac.jp/html/2017/6510/165...\", term: 0, place: 1, credit: 2, teacher_id: 3097, teacher_name: \"左 美和子\">, #<SummarizedSubject id: 2120, name: \"3年次演習2(憲法)-103\", code: \"0306959-103\", number_of_students: 0, A: 0.0, B: 0.0, C: 0.0, D: 0.0, F: 0.0, other: 0.0, mean_score: 0.0, weighted_score: nil, faculty_id: 3, subject_id: 1328, url: \"https://syllabus.doshisha.ac.jp/html/2017/0306/103...\", term: 1, place: 0, credit: 2, teacher_id: 411, teacher_name: \"勝山 教子\">, #<SummarizedSubject id: 3652, name: \"ワ-クショップ-2\", code: \"0523541-002\", number_of_students: 12, A: 100.0, B: 0.0, C: 0.0, D: 0.0, F: 0.0, other: 0.0, mean_score: 4.0, weighted_score: 4.0, faculty_id: 5, subject_id: 11405, url: \"https://syllabus.doshisha.ac.jp/html/2017/0523/105...\", term: 1, place: 0, credit: 2, teacher_id: 2262, teacher_name: \"佐藤 誠二\">, #<SummarizedSubject id: 4221, name: \"トピックス3\", code: \"0805713-000\", number_of_students: 122, A: 12.5, B: 31.9, C: 39.3, D: 0.7, F: 15.6, other: 0.0, mean_score: 2.25, weighted_score: 2.01429, faculty_id: 7, subject_id: 3339, url: \"https://syllabus.doshisha.ac.jp/html/2017/0805/108...\", term: 0, place: 1, credit: 2, teacher_id: 257, teacher_name: \"鋤柄 俊夫\">, #<SummarizedSubject id: 4842, name: \"産業関係学演習II-5\", code: \"0942032-005\", number_of_students: 0, A: 0.0, B: 0.0, C: 0.0, D: 0.0, F: 0.0, other: 0.0, mean_score: 0.0, weighted_score: nil, faculty_id: 8, subject_id: 3904, url: \"https://syllabus.doshisha.ac.jp/html/2017/0942/109...\", term: 1, place: 0, credit: 2, teacher_id: 947, teacher_name: \"寺井 基博\">, #<SummarizedSubject id: 7967, name: \"地域文化理解のためのポルトガル語5(講読)\", code: \"2201405-000\", number_of_students: 0, A: 0.0, B: 0.0, C: 0.0, D: 0.0, F: 0.0, other: 0.0, mean_score: 0.0, weighted_score: nil, faculty_id: 15, subject_id: 12001, url: \"https://syllabus.doshisha.ac.jp/html/2017/2201/122...\", term: 0, place: 0, credit: 2, teacher_id: 1569, teacher_name: \"住田 育法\">, #<SummarizedSubject id: 7692, name: \"INTRO BUS ADMIN\", code: \"2050206-000\", number_of_students: nil, A: 0.0, B: 0.0, C: 0.0, D: 0.0, F: 0.0, other: 0.0, mean_score: 0.0, weighted_score: nil, faculty_id: 14, subject_id: 14430, url: \"https://syllabus.doshisha.ac.jp/html/2017/2050/120...\", term: 0, place: 0, credit: 2, teacher_id: 2916, teacher_name: \"BISHNU KUMAR ADHIKARY\">, #<SummarizedSubject id: 2688, name: \"Curr Iss in Comp Law-1\", code: \"0308858-001\", number_of_students: nil, A: 0.0, B: 0.0, C: 0.0, D: 0.0, F: 0.0, other: 0.0, mean_score: 0.0, weighted_score: nil, faculty_id: 3, subject_id: 13183, url: \"https://syllabus.doshisha.ac.jp/html/2017/0308/103...\", term: 1, place: 0, credit: 2, teacher_id: 2522, teacher_name: \"西谷 祐子\">, #<SummarizedSubject id: 12512, name: \"日本の伝統と能楽-51\", code: \"9090097-051\", number_of_students: nil, A: 0.0, B: 0.0, C: 0.0, D: 0.0, F: 0.0, other: 0.0, mean_score: 0.0, weighted_score: nil, faculty_id: 19, subject_id: 16869, url: \"https://syllabus.doshisha.ac.jp/html/2017/9090/190...\", term: 0, place: 0, credit: 2, teacher_id: 1587, teacher_name: \"河村 晴久\">, #<SummarizedSubject id: 8291, name: \"世界近現代史-54\", code: \"6002201-054\", number_of_students: 110, A: 18.5, B: 31.5, C: 24.6667, D: 10.8333, F: 14.5, other: 0.0, mean_score: 2.26667, weighted_score: 2.25238, faculty_id: 16, subject_id: 9479, url: \"https://syllabus.doshisha.ac.jp/html/2017/6002/160...\", term: 1, place: 0, credit: 2, teacher_id: 2429, teacher_name: \"中山 俊\">, #<SummarizedSubject id: 328, name: \"Media in Eng.A(1)-1\", code: \"0210111-001\", number_of_students: 26, A: 29.05, B: 49.075, C: 15.525, D: 2.625, F: 3.725, other: 0.0, mean_score: 2.975, weighted_score: 2.92727, faculty_id: 2, subject_id: 250, url: \"https://syllabus.doshisha.ac.jp/html/2017/0210/102...\", term: 0, place: 0, credit: 2, teacher_id: 44, teacher_name: \"HENRY ATMORE\">, #<SummarizedSubject id: 7172, name: \"基幹中国語III講読-1\", code: \"1922006-001\", number_of_students: 22, A: 16.05, B: 16.4, C: 24.7, D: 29.5, F: 13.4, other: 0.0, mean_score: 1.9, weighted_score: 1.98824, faculty_id: 13, subject_id: 5835, url: \"https://syllabus.doshisha.ac.jp/html/2017/1922/119...\", term: 0, place: 1, credit: 4, teacher_id: 1524, teacher_name: \"後藤 裕也\">, #<SummarizedSubject id: 414, name: \"英語教育基礎論(2)\", code: \"0210317-000\", number_of_students: 71, A: 15.5, B: 21.1, C: 16.9, D: 16.9, F: 29.6, other: 0.0, mean_score: 1.8, weighted_score: 1.8, faculty_id: 2, subject_id: 9797, url: \"https://syllabus.doshisha.ac.jp/html/2017/0210/102...\", term: 0, place: 0, credit: 2, teacher_id: 70, teacher_name: \"田中 貴子\">, #<SummarizedSubject id: 12056, name: \"コリア語応用4-505\", code: \"6507034-505\", number_of_students: nil, A: 0.0, B: 0.0, C: 0.0, D: 0.0, F: 0.0, other: 0.0, mean_score: 0.0, weighted_score: nil, faculty_id: 18, subject_id: 16606, url: \"https://syllabus.doshisha.ac.jp/html/2017/6507/165...\", term: 1, place: 0, credit: 1, teacher_id: 3111, teacher_name: \"中村 知子\">, #<SummarizedSubject id: 11181, name: \"フランス語入門II-521\", code: \"6503012-521\", number_of_students: nil, A: 0.0, B: 0.0, C: 0.0, D: 0.0, F: 0.0, other: 0.0, mean_score: 0.0, weighted_score: nil, faculty_id: 18, subject_id: 15731, url: \"https://syllabus.doshisha.ac.jp/html/2017/6503/165...\", term: 1, place: 0, credit: 2, teacher_id: 3012, teacher_name: \"桂川 久\">, #<SummarizedSubject id: 8692, name: \"科学史・科学論1-51\", code: \"6016608-051\", number_of_students: nil, A: 0.0, B: 0.0, C: 0.0, D: 0.0, F: 0.0, other: 0.0, mean_score: 0.0, weighted_score: nil, faculty_id: 16, subject_id: 14723, url: \"https://syllabus.doshisha.ac.jp/html/2017/6016/160...\", term: 0, place: 0, credit: 2, teacher_id: 1462, teacher_name: \"林 隆夫\">, #<SummarizedSubject id: 10013, name: \"アナリティカル・リ-ディング1-588\", code: \"6501023-588\", number_of_students: 41, A: 24.4, B: 31.7, C: 19.5, D: 17.1, F: 7.3, other: 0.0, mean_score: 2.5, weighted_score: 2.5, faculty_id: 18, subject_id: 12406, url: \"https://syllabus.doshisha.ac.jp/html/2017/6501/165...\", term: 1, place: 0, credit: 1, teacher_id: 1841, teacher_name: \"中島 剛\">, #<SummarizedSubject id: 3436, name: \"簿記学II-2\", code: \"0522204-002\", number_of_students: 135, A: 35.7, B: 16.875, C: 14.55, D: 12.2, F: 20.65, other: 0.0, mean_score: 2.35, weighted_score: 2.33636, faculty_id: 5, subject_id: 2896, url: \"https://syllabus.doshisha.ac.jp/html/2017/0522/105...\", term: 1, place: 0, credit: 2, teacher_id: 2554, teacher_name: \"田中 圭\">, #<SummarizedSubject id: 10087, name: \"アナリティカル・リ-ディング2-506\", code: \"6501024-506\", number_of_students: 39, A: 21.65, B: 44.35, C: 16.725, D: 14.875, F: 2.375, other: 0.0, mean_score: 2.7, weighted_score: 2.94545, faculty_id: 18, subject_id: 7477, url: \"https://syllabus.doshisha.ac.jp/html/2017/6501/165...\", term: 0, place: 0, credit: 1, teacher_id: 2769, teacher_name: \"五十川 敬子\">, #<SummarizedSubject id: 8822, name: \"複合領域科目2-78\", code: \"6604019-078\", number_of_students: 37, A: 19.35, B: 44.675, C: 25.275, D: 0.675, F: 10.0, other: 0.0, mean_score: 2.65, weighted_score: 2.48636, faculty_id: 16, subject_id: 6617, url: \"https://syllabus.doshisha.ac.jp/html/2017/6604/166...\", term: 1, place: 0, credit: 2, teacher_id: 136, teacher_name: \"庭田 茂吉\">, #<SummarizedSubject id: 10057, name: \"アナリティカル・リ-ディング2-21\", code: \"6501024-021\", number_of_students: 38, A: 17.325, B: 33.15, C: 21.975, D: 18.075, F: 9.4, other: 0.0, mean_score: 2.3, weighted_score: 2.39545, faculty_id: 18, subject_id: 7446, url: \"https://syllabus.doshisha.ac.jp/html/2017/6501/165...\", term: 1, place: 1, credit: 1, teacher_id: 1497, teacher_name: \"山路 順子\">, #<SummarizedSubject id: 1946, name: \"特殊講義-1\", code: \"0305801-001\", number_of_students: 19, A: 98.0333, B: 1.96667, C: 0.0, D: 0.0, F: 0.0, other: 0.0, mean_score: 3.96667, weighted_score: 3.94167, faculty_id: 3, subject_id: 1122, url: \"https://syllabus.doshisha.ac.jp/html/2017/0305/103...\", term: 0, place: 0, credit: 2, teacher_id: 328, teacher_name: \"新井 京\">, #<SummarizedSubject id: 650, name: \"Communicative English Skills B II-14\", code: \"0210715-014\", number_of_students: 25, A: 26.85, B: 43.35, C: 24.6, D: 3.45, F: 1.7, other: 0.0, mean_score: 2.9, weighted_score: 2.96, faculty_id: 2, subject_id: 335, url: \"https://syllabus.doshisha.ac.jp/html/2017/0210/102...\", term: 1, place: 0, credit: 2, teacher_id: 60, teacher_name: \"MARK RICHARDSON\">, #<SummarizedSubject id: 4734, name: \"メディア学基礎演習I-3\", code: \"0932021-003\", number_of_students: 0, A: 0.0, B: 0.0, C: 0.0, D: 0.0, F: 0.0, other: 0.0, mean_score: 0.0, weighted_score: nil, faculty_id: 8, subject_id: 3786, url: \"https://syllabus.doshisha.ac.jp/html/2017/0932/109...\", term: 0, place: 0, credit: 2, teacher_id: 2866, teacher_name: \"北廣 麻貴\">, #<SummarizedSubject id: 398, name: \"英米文学特論A(5)\", code: \"0210265-000\", number_of_students: 182, A: 29.7, B: 35.75, C: 13.625, D: 4.35, F: 16.525, other: 0.0, mean_score: 2.575, weighted_score: 2.75909, faculty_id: 2, subject_id: 272, url: \"https://syllabus.doshisha.ac.jp/html/2017/0210/102...\", term: 1, place: 0, credit: 2, teacher_id: 55, teacher_name: \"圓月 勝博\">, #<SummarizedSubject id: 4193, name: \"数理モデル\", code: \"0805204-000\", number_of_students: 27, A: 22.7333, B: 18.0333, C: 11.6333, D: 12.8333, F: 34.8, other: 0.0, mean_score: 1.8, weighted_score: 1.86667, faculty_id: 7, subject_id: 3311, url: \"https://syllabus.doshisha.ac.jp/html/2017/0805/108...\", term: 0, place: 1, credit: 2, teacher_id: 2572, teacher_name: \"川﨑 廣吉\">, #<SummarizedSubject id: 7339, name: \"日本の経済と貿易\", code: \"1933204-000\", number_of_students: 27, A: 35.7, B: 23.4, C: 11.55, D: 1.9, F: 27.45, other: 0.0, mean_score: 2.4, weighted_score: 2.32941, faculty_id: 13, subject_id: 5954, url: \"https://syllabus.doshisha.ac.jp/html/2017/1933/119...\", term: 1, place: 1, credit: 2, teacher_id: 325, teacher_name: \"小田 勇一\">, #<SummarizedSubject id: 2958, name: \"情報システム論-1\", code: \"0407202-001\", number_of_students: nil, A: 0.0, B: 0.0, C: 0.0, D: 0.0, F: 0.0, other: 0.0, mean_score: 0.0, weighted_score: nil, faculty_id: 4, subject_id: 13210, url: \"https://syllabus.doshisha.ac.jp/html/2017/0407/104...\", term: 1, place: 1, credit: 2, teacher_id: 535, teacher_name: \"宮崎 耕\">, #<SummarizedSubject id: 12495, name: \"日本の伝統と芸能-51\", code: \"9090082-051\", number_of_students: nil, A: 0.0, B: 0.0, C: 0.0, D: 0.0, F: 0.0, other: 0.0, mean_score: 0.0, weighted_score: nil, faculty_id: 19, subject_id: 16865, url: \"https://syllabus.doshisha.ac.jp/html/2017/9090/190...\", term: 0, place: 0, credit: 2, teacher_id: 1586, teacher_name: \"中川 久公\">, #<SummarizedSubject id: 3828, name: \"卒業研究演習I-27\", code: \"0700131-027\", number_of_students: 0, A: 0.0, B: 0.0, C: 0.0, D: 0.0, F: 0.0, other: 0.0, mean_score: 0.0, weighted_score: nil, faculty_id: 6, subject_id: 3040, url: \"https://syllabus.doshisha.ac.jp/html/2017/0700/107...\", term: 0, place: 0, credit: 2, teacher_id: 696, teacher_name: \"今里 滋\">, #<SummarizedSubject id: 4405, name: \"数理統計II\", code: \"0806632-000\", number_of_students: 0, A: 0.0, B: 0.0, C: 0.0, D: 0.0, F: 0.0, other: 0.0, mean_score: 0.0, weighted_score: nil, faculty_id: 7, subject_id: 3468, url: \"https://syllabus.doshisha.ac.jp/html/2017/0806/108...\", term: 0, place: 1, credit: 2, teacher_id: 764, teacher_name: \"宿久 洋\">, #<SummarizedSubject id: 5369, name: \"卒業論文II-2\", code: \"1422099-002\", number_of_students: nil, A: 0.0, B: 0.0, C: 0.0, D: 0.0, F: 0.0, other: 0.0, mean_score: 0.0, weighted_score: nil, faculty_id: 9, subject_id: 13636, url: \"https://syllabus.doshisha.ac.jp/html/2017/1422/114...\", term: 1, place: 1, credit: 2, teacher_id: 1059, teacher_name: \"渡辺 好章\">, #<SummarizedSubject id: 2675, name: \"3・4年次合同演習1-120\", code: \"0308801-120\", number_of_students: nil, A: 0.0, B: 0.0, C: 0.0, D: 0.0, F: 0.0, other: 0.0, mean_score: 0.0, weighted_score: nil, faculty_id: 3, subject_id: 13175, url: \"https://syllabus.doshisha.ac.jp/html/2017/0308/103...\", term: 0, place: 0, credit: 2, teacher_id: 419, teacher_name: \"伊藤 靖史\">, #<SummarizedSubject id: 4745, name: \"メディア学演習I-3\", code: \"0932031-003\", number_of_students: 0, A: 0.0, B: 0.0, C: 0.0, D: 0.0, F: 0.0, other: 0.0, mean_score: 0.0, weighted_score: nil, faculty_id: 8, subject_id: 10507, url: \"https://syllabus.doshisha.ac.jp/html/2017/0932/109...\", term: 0, place: 0, credit: 2, teacher_id: 931, teacher_name: \"河崎 吉紀\">, #<SummarizedSubject id: 7970, name: \"地域文化理解のためのアラビア語3(コミュニケ-ション)\", code: \"2201503-000\", number_of_students: 29, A: 56.8, B: 6.85, C: 6.55, D: 9.65, F: 20.2, other: 0.0, mean_score: 2.7, weighted_score: 2.64706, faculty_id: 15, subject_id: 10665, url: \"https://syllabus.doshisha.ac.jp/html/2017/2201/122...\", term: 0, place: 0, credit: 2, teacher_id: 2508, teacher_name: \"ELBALTI BELIGH\">, #<SummarizedSubject id: 3044, name: \"オフィスICTスキルズII-5\", code: \"0407502-005\", number_of_students: 15, A: 21.5, B: 25.0, C: 9.4, D: 9.4, F: 34.65, other: 0.0, mean_score: 1.9, weighted_score: 1.98824, faculty_id: 4, subject_id: 10047, url: \"https://syllabus.doshisha.ac.jp/html/2017/0407/104...\", term: 0, place: 0, credit: 2, teacher_id: 2528, teacher_name: \"髙井 才明\">, #<SummarizedSubject id: 462, name: \"Junior Seminar I-18\", code: \"0210323-018\", number_of_students: nil, A: 0.0, B: 0.0, C: 0.0, D: 0.0, F: 0.0, other: 0.0, mean_score: 0.0, weighted_score: nil, faculty_id: 2, subject_id: 12559, url: \"https://syllabus.doshisha.ac.jp/html/2017/0210/102...\", term: 0, place: 0, credit: 2, teacher_id: 56, teacher_name: \"斉藤 延喜\">, #<SummarizedSubject id: 3307, name: \"Business English-15\", code: \"0501810-015\", number_of_students: 0, A: 0.0, B: 0.0, C: 0.0, D: 0.0, F: 0.0, other: 0.0, mean_score: 0.0, weighted_score: nil, faculty_id: 5, subject_id: 8724, url: \"https://syllabus.doshisha.ac.jp/html/2017/0501/105...\", term: 1, place: 0, credit: 2, teacher_id: 634, teacher_name: \"藤田 和孝\">, #<SummarizedSubject id: 9888, name: \"アナリティカル・リ-ディング1-8\", code: \"6501023-008\", number_of_students: 39, A: 17.4, B: 17.05, C: 25.125, D: 31.15, F: 9.275, other: 0.0, mean_score: 2.025, weighted_score: 2.04545, faculty_id: 18, subject_id: 7276, url: \"https://syllabus.doshisha.ac.jp/html/2017/6501/165...\", term: 1, place: 1, credit: 1, teacher_id: 1745, teacher_name: \"喜多 留女\">, #<SummarizedSubject id: 1585, name: \"人文地理学(2)-1\", code: \"0270128-001\", number_of_students: 17, A: 11.075, B: 26.85, C: 28.925, D: 12.325, F: 20.9, other: 0.0, mean_score: 1.95, weighted_score: 1.93636, faculty_id: 2, subject_id: 967, url: \"https://syllabus.doshisha.ac.jp/html/2017/0270/102...\", term: 1, place: 1, credit: 2, teacher_id: 248, teacher_name: \"川口 洋\">, #<SummarizedSubject id: 723, name: \"Skills in English(1)-13\", code: \"0210720-013\", number_of_students: 26, A: 23.1, B: 50.0, C: 19.2, D: 3.8, F: 3.8, other: 0.0, mean_score: 2.8, weighted_score: 2.8, faculty_id: 2, subject_id: 386, url: \"https://syllabus.doshisha.ac.jp/html/2017/0210/102...\", term: 0, place: 0, credit: 2, teacher_id: 47, teacher_name: \"大沼 由布\">, #<SummarizedSubject id: 7427, name: \"JPN MOD LITERATURE\", code: \"2000110-000\", number_of_students: nil, A: 0.0, B: 0.0, C: 0.0, D: 0.0, F: 0.0, other: 0.0, mean_score: 0.0, weighted_score: nil, faculty_id: 14, subject_id: 14165, url: \"https://syllabus.doshisha.ac.jp/html/2017/2000/120...\", term: 0, place: 0, credit: 2, teacher_id: 2914, teacher_name: \"THOMAS HACKNER\">, #<SummarizedSubject id: 10928, name: \"ドイツ語入門I-21\", code: \"6502011-021\", number_of_students: nil, A: 0.0, B: 0.0, C: 0.0, D: 0.0, F: 0.0, other: 0.0, mean_score: 0.0, weighted_score: nil, faculty_id: 18, subject_id: 15478, url: \"https://syllabus.doshisha.ac.jp/html/2017/6502/165...\", term: 0, place: 1, credit: 2, teacher_id: 389, teacher_name: \"青木 三陽\">, #<SummarizedSubject id: 349, name: \"留学ワ-クショップ(1)-4\", code: \"0210131-004\", number_of_students: 18, A: 50.0, B: 38.9, C: 5.6, D: 0.0, F: 5.6, other: 0.0, mean_score: 3.3, weighted_score: 3.3, faculty_id: 2, subject_id: 260, url: \"https://syllabus.doshisha.ac.jp/html/2017/0210/102...\", term: 1, place: 0, credit: 2, teacher_id: 46, teacher_name: \"D. RANDALL TERHUNE\">, #<SummarizedSubject id: 3466, name: \"マ-ケティング論-2\", code: \"0522323-002\", number_of_students: 367, A: 10.7, B: 34.0667, C: 28.8667, D: 18.1667, F: 8.26667, other: 0.0, mean_score: 2.2, weighted_score: 2.14286, faculty_id: 5, subject_id: 8855, url: \"https://syllabus.doshisha.ac.jp/html/2017/0522/105...\", term: 0, place: 0, credit: 2, teacher_id: 604, teacher_name: \"内野 雅之\">, #<SummarizedSubject id: 5431, name: \"細胞生物学I\", code: \"1433004-000\", number_of_students: 62, A: 42.775, B: 49.975, C: 5.825, D: 1.05, F: 0.35, other: 0.0, mean_score: 3.325, weighted_score: 3.37273, faculty_id: 9, subject_id: 4418, url: \"https://syllabus.doshisha.ac.jp/html/2017/1433/114...\", term: 0, place: 1, credit: 2, teacher_id: 1161, teacher_name: \"池川 雅哉\">, #<SummarizedSubject id: 5444, name: \"分子生物学実験\", code: \"1433016-000\", number_of_students: 67, A: 18.2, B: 52.575, C: 24.45, D: 2.8, F: 1.9, other: 0.0, mean_score: 2.825, weighted_score: 2.81818, faculty_id: 9, subject_id: 4431, url: \"https://syllabus.doshisha.ac.jp/html/2017/1433/114...\", term: 1, place: 1, credit: 2, teacher_id: 1154, teacher_name: \"舟本 聡\">, #<SummarizedSubject id: 2356, name: \"2年次演習(民法)-105\", code: \"0307701-105\", number_of_students: 0, A: 0.0, B: 0.0, C: 0.0, D: 0.0, F: 0.0, other: 0.0, mean_score: 0.0, weighted_score: nil, faculty_id: 3, subject_id: 1568, url: \"https://syllabus.doshisha.ac.jp/html/2017/0307/103...\", term: 1, place: 0, credit: 2, teacher_id: 412, teacher_name: \"梶山 玉香\">, #<SummarizedSubject id: 11470, name: \"中国語応用1-901\", code: \"6504031-901\", number_of_students: nil, A: 0.0, B: 0.0, C: 0.0, D: 0.0, F: 0.0, other: 0.0, mean_score: 0.0, weighted_score: nil, faculty_id: 18, subject_id: 16020, url: \"https://syllabus.doshisha.ac.jp/html/2017/6504/165...\", term: 0, place: 0, credit: 1, teacher_id: 3038, teacher_name: \"于 敏\">, #<SummarizedSubject id: 959, name: \"基礎演習II-14\", code: \"0210881-014\", number_of_students: nil, A: 0.0, B: 0.0, C: 0.0, D: 0.0, F: 0.0, other: 0.0, mean_score: 0.0, weighted_score: nil, faculty_id: 2, subject_id: 12759, url: \"https://syllabus.doshisha.ac.jp/html/2017/0210/102...\", term: 1, place: 0, credit: 2, teacher_id: 66, teacher_name: \"菅原 真理子\">, #<SummarizedSubject id: 8621, name: \"物質の科学1-4\", code: \"6016602-004\", number_of_students: nil, A: 0.0, B: 0.0, C: 0.0, D: 0.0, F: 0.0, other: 0.0, mean_score: 0.0, weighted_score: nil, faculty_id: 16, subject_id: 14652, url: \"https://syllabus.doshisha.ac.jp/html/2017/6016/160...\", term: 0, place: 1, credit: 2, teacher_id: 2058, teacher_name: \"木立 英行\">, #<SummarizedSubject id: 10554, name: \"イングリッシュ・ワ-クショップ1-628\", code: \"6501041-628\", number_of_students: nil, A: 0.0, B: 0.0, C: 0.0, D: 0.0, F: 0.0, other: 0.0, mean_score: 0.0, weighted_score: nil, faculty_id: 18, subject_id: 15104, url: \"https://syllabus.doshisha.ac.jp/html/2017/6501/165...\", term: 1, place: 0, credit: 1, teacher_id: 1804, teacher_name: \"JOHN GORMAN\">, #<SummarizedSubject id: 7178, name: \"基礎演習1-2\", code: \"1922051-002\", number_of_students: 0, A: 0.0, B: 0.0, C: 0.0, D: 0.0, F: 0.0, other: 0.0, mean_score: 0.0, weighted_score: nil, faculty_id: 13, subject_id: 5850, url: \"https://syllabus.doshisha.ac.jp/html/2017/1922/119...\", term: 0, place: 1, credit: 2, teacher_id: 1520, teacher_name: \"内田 尚孝\">, #<SummarizedSubject id: 11191, name: \"フランス語入門II-702\", code: \"6503012-702\", number_of_students: nil, A: 0.0, B: 0.0, C: 0.0, D: 0.0, F: 0.0, other: 0.0, mean_score: 0.0, weighted_score: nil, faculty_id: 18, subject_id: 15741, url: \"https://syllabus.doshisha.ac.jp/html/2017/6503/165...\", term: 0, place: 1, credit: 2, teacher_id: 1606, teacher_name: \"平尾 浩一\">, #<SummarizedSubject id: 12479, name: \"日本の法と政治-51\", code: \"9090069-051\", number_of_students: 0, A: 0.0, B: 0.0, C: 0.0, D: 0.0, F: 0.0, other: 0.0, mean_score: 0.0, weighted_score: nil, faculty_id: 19, subject_id: 12476, url: \"https://syllabus.doshisha.ac.jp/html/2017/9090/190...\", term: 0, place: 0, credit: 2, teacher_id: 460, teacher_name: \"中谷 直司\">, #<SummarizedSubject id: 8100, name: \"キリスト教と人間2-52\", code: \"6000012-052\", number_of_students: 194, A: 13.425, B: 19.2, C: 25.175, D: 10.3, F: 31.9, other: 0.0, mean_score: 1.725, weighted_score: 1.8, faculty_id: 16, subject_id: 6019, url: \"https://syllabus.doshisha.ac.jp/html/2017/6000/160...\", term: 1, place: 0, credit: 2, teacher_id: 1582, teacher_name: \"望月 修治\">, #<SummarizedSubject id: 9911, name: \"アナリティカル・リ-ディング1-31\", code: \"6501023-031\", number_of_students: 36, A: 7.05, B: 28.325, C: 25.175, D: 37.475, F: 1.975, other: 0.0, mean_score: 2.025, weighted_score: 2.16818, faculty_id: 18, subject_id: 7299, url: \"https://syllabus.doshisha.ac.jp/html/2017/6501/165...\", term: 0, place: 1, credit: 1, teacher_id: 1760, teacher_name: \"多賀谷 悟\">, #<SummarizedSubject id: 10253, name: \"イングリッシュ・セミナ-1-523\", code: \"6501031-523\", number_of_students: 41, A: 10.4667, B: 17.4, C: 32.7333, D: 37.7, F: 1.66667, other: 0.0, mean_score: 1.96667, weighted_score: 1.98095, faculty_id: 18, subject_id: 7642, url: \"https://syllabus.doshisha.ac.jp/html/2017/6501/165...\", term: 0, place: 0, credit: 1, teacher_id: 1819, teacher_name: \"薗田 浩一\">, #<SummarizedSubject id: 9707, name: \"英語講読1-584\", code: \"6501021-584\", number_of_students: 0, A: 0.0, B: 0.0, C: 0.0, D: 0.0, F: 0.0, other: 0.0, mean_score: 0.0, weighted_score: nil, faculty_id: 18, subject_id: 12323, url: \"https://syllabus.doshisha.ac.jp/html/2017/6501/165...\", term: 1, place: 0, credit: 1, teacher_id: 1840, teacher_name: \"小林 順\">, #<SummarizedSubject id: 6855, name: \"演習(2)-18\", code: \"1700011-018\", number_of_students: nil, A: 0.0, B: 0.0, C: 0.0, D: 0.0, F: 0.0, other: 0.0, mean_score: 0.0, weighted_score: nil, faculty_id: 12, subject_id: 14042, url: \"https://syllabus.doshisha.ac.jp/html/2017/1700/117...\", term: 0, place: 1, credit: 2, teacher_id: 2897, teacher_name: \"竹島 康博\">, #<SummarizedSubject id: 3968, name: \"アカデミック・スキル1-115\", code: \"0702003-115\", number_of_students: 0, A: 0.0, B: 0.0, C: 0.0, D: 0.0, F: 0.0, other: 0.0, mean_score: 0.0, weighted_score: nil, faculty_id: 6, subject_id: 3196, url: \"https://syllabus.doshisha.ac.jp/html/2017/0702/107...\", term: 1, place: 0, credit: 2, teacher_id: 2846, teacher_name: \"石川 愛世\">, #<SummarizedSubject id: 8399, name: \"考古学(2)-1\", code: \"6002353-001\", number_of_students: 47, A: 7.575, B: 18.65, C: 19.25, D: 39.05, F: 15.5, other: 0.0, mean_score: 1.65, weighted_score: 1.52727, faculty_id: 16, subject_id: 6264, url: \"https://syllabus.doshisha.ac.jp/html/2017/6002/160...\", term: 1, place: 1, credit: 2, teacher_id: 224, teacher_name: \"浜中 邦弘\">]"
      ]
     },
     "execution_count": 202,
     "metadata": {},
     "output_type": "execute_result"
    }
   ],
   "source": [
    "subjects = SummarizedSubject.find(SummarizedSubject.pluck(:id).shuffle[0..100])"
   ]
  },
  {
   "cell_type": "code",
   "execution_count": 203,
   "metadata": {
    "collapsed": false,
    "scrolled": true
   },
   "outputs": [
    {
     "name": "stdout",
     "output_type": "stream",
     "text": [
      "\"tag 概要\"\n",
      "\"tag 到達目標\"\n",
      "\"tag 授業計画\"\n",
      "\"tag 成績評価基準\"\n",
      "\"tag テキスト\"\n",
      "\"平常点(出席，クラス参加，グループ作業の成果等) \"\n",
      "\"提出物 \"\n",
      "\"小テスト \"\n",
      "\"tag 概要\"\n",
      "\"tag 到達目標\"\n",
      "\"tag 授業計画\"\n",
      "\"tag 成績評価基準\"\n",
      "\"tag テキスト\"\n",
      "\"tag 参照ＵＲＬ\"\n",
      "\"tag 備考\"\n",
      "\"平常点(出席，クラス参加，小テストの成績等) \"\n",
      "\"期末試験 \"\n",
      "\"特記事項 \"\n",
      "\"tag 概要\"\n",
      "\"tag 到達目標\"\n",
      "\"tag 授業計画\"\n",
      "\"tag 成績評価基準\"\n",
      "\"tag テキスト\"\n",
      "\"平常点(出席，クラスでの発表，授業態度等) \"\n",
      "\"中間試験，小テスト等 \"\n",
      "\"期末レポート試験，提出物等 \"\n",
      "\"tag 概要\"\n",
      "\"tag 到達目標\"\n",
      "\"tag 授業計画\"\n",
      "\"tag 成績評価基準\"\n",
      "\"tag テキスト\"\n",
      "\"tag 備考\"\n",
      "\"Contributions to the class including presentations, class discussions, attendance \"\n",
      "\"Examination \"\n",
      "\"tag 概要\"\n",
      "\"tag 到達目標\"\n",
      "\"tag 授業計画\"\n",
      "\"tag 成績評価基準\"\n",
      "\"tag テキスト\"\n",
      "\"tag 参考文献\"\n",
      "\"事前・事後授業への出席・貢献 \"\n",
      "\"成果報告（事後授業での発表） \"\n",
      "\"成果報告書（最終レポート） \"\n",
      "\"現地担当者による評価 \"\n",
      "\"tag 概要\"\n",
      "\"tag 到達目標\"\n",
      "\"tag 授業計画\"\n",
      "\"tag 成績評価基準\"\n",
      "\"tag 参考文献\"\n",
      "\"平常点(出席，クラス参加，グループ作業の成果等) \"\n",
      "\"中間レポート試験 \"\n",
      "\"期末レポート試験・論文 \"\n",
      "\"tag 概要\"\n",
      "\"tag 到達目標\"\n",
      "\"tag 授業計画\"\n",
      "\"tag 成績評価基準\"\n",
      "\"tag テキスト\"\n",
      "\"tag 備考\"\n",
      "\"平常点 \"\n",
      "\"小テスト \"\n",
      "\"中間試験 \"\n",
      "\"期末試験 \"\n",
      "\"tag 概要\"\n",
      "\"tag 到達目標\"\n",
      "\"tag 授業計画\"\n",
      "\"tag 成績評価基準\"\n",
      "\"tag テキスト\"\n",
      "\"tag 参考文献\"\n",
      "\"平常点(出席，クラス参加，グループ作業の成果等) \"\n",
      "\"期末試験 \"\n",
      "\"tag 概要\"\n",
      "\"tag 到達目標\"\n",
      "\"tag 授業計画\"\n",
      "\"tag 成績評価基準\"\n",
      "\"tag テキスト\"\n",
      "\"tag 備考\"\n",
      "\"期末筆記試験 \"\n",
      "\"tag 概要\"\n",
      "\"tag 到達目標\"\n",
      "\"tag 授業計画\"\n",
      "\"tag 成績評価基準\"\n",
      "\"tag 参考文献\"\n",
      "\"中間評価 \"\n",
      "\"期末筆記試験 \"\n",
      "\"tag 概要\"\n",
      "\"tag 到達目標\"\n",
      "\"tag 授業計画\"\n",
      "\"tag 成績評価基準\"\n",
      "\"tag テキスト\"\n",
      "\"平常点 \"\n",
      "\"プレゼンテーション \"\n",
      "\"期末レポート試験 \"\n",
      "\"tag 概要\"\n",
      "\"tag 到達目標\"\n",
      "\"tag 授業計画\"\n",
      "\"tag 成績評価基準\"\n",
      "\"tag テキスト\"\n",
      "\"平常点 \"\n",
      "\"課題点 \"\n",
      "\"期末試験 \"\n",
      "\"TOEFL-ITPリスニングのセクション \"\n",
      "\"特記事項 \"\n",
      "\"tag 概要\"\n",
      "\"tag 到達目標\"\n",
      "\"tag 授業計画\"\n",
      "\"tag 成績評価基準\"\n",
      "\"tag テキスト\"\n",
      "\"tag 参考文献\"\n",
      "\"平常点(出席，クラス参加，グループ作業の成果等) \"\n",
      "\"特記事項 \"\n",
      "\"tag 概要\"\n",
      "\"tag 到達目標\"\n",
      "\"tag 授業計画\"\n",
      "\"tag 成績評価基準\"\n",
      "\"tag テキスト\"\n",
      "\"tag 参考文献\"\n",
      "\"平常点 \"\n",
      "\"中間レポート試験および期末レポート試験 \"\n",
      "\"tag 概要\"\n",
      "\"tag 到達目標\"\n",
      "\"tag 授業計画\"\n",
      "\"tag 成績評価基準\"\n",
      "\"tag テキスト\"\n",
      "\"tag 参照ＵＲＬ\"\n",
      "\"平常点 \"\n",
      "\"小テスト \"\n",
      "\"課題 \"\n",
      "\"CASEC \"\n",
      "\"tag 概要\"\n",
      "\"tag 到達目標\"\n",
      "\"tag 授業計画\"\n",
      "\"tag 成績評価基準\"\n",
      "\"tag テキスト\"\n",
      "\"平常点(出席，クラス参加，グループ作業の成果等) \"\n",
      "\"期末レポート \"\n",
      "\"tag 概要\"\n",
      "\"tag 到達目標\"\n",
      "\"tag 授業計画\"\n",
      "\"tag 成績評価基準\"\n",
      "\"tag 備考\"\n",
      "\"第１回目の実験から最終回まで，それぞれの実験回数に応じて評価 \"\n",
      "\"tag 概要\"\n",
      "\"tag 到達目標\"\n",
      "\"tag 授業計画\"\n",
      "\"tag 成績評価基準\"\n",
      "\"tag テキスト\"\n",
      "\"tag 参考文献\"\n",
      "\"授業内評価 \"\n",
      "\"tag 概要\"\n",
      "\"tag 到達目標\"\n",
      "\"tag 授業計画\"\n",
      "\"tag 成績評価基準\"\n",
      "\"tag テキスト\"\n",
      "\"tag 参考文献\"\n",
      "\"平常点 \"\n",
      "\"クラスで発表など \"\n",
      "\"小テスト \"\n",
      "\"期末試験 \"\n",
      "\"特記事項 \"\n",
      "\"tag 概要\"\n",
      "\"tag 到達目標\"\n",
      "\"tag 授業計画\"\n",
      "\"tag 成績評価基準\"\n",
      "\"平常点 \"\n",
      "\"技術点 \"\n",
      "\"取組点 \"\n",
      "\"特記事項 \"\n",
      "\"tag 概要\"\n",
      "\"tag 到達目標\"\n",
      "\"tag 授業計画\"\n",
      "\"tag 成績評価基準\"\n",
      "\"tag テキスト\"\n",
      "\"tag 参考文献\"\n",
      "\"tag 備考\"\n",
      "\"平常点 \"\n",
      "\"tag 概要\"\n",
      "\"tag 到達目標\"\n",
      "\"tag 授業計画\"\n",
      "\"tag 成績評価基準\"\n",
      "\"tag テキスト\"\n",
      "\"tag 参考文献\"\n",
      "\"tag 参照ＵＲＬ\"\n",
      "\"平常点(出席，クラス参加，グループ作業の成果等) \"\n",
      "\"クラス発表 \"\n",
      "\"論文 \"\n",
      "\"提出物 \"\n",
      "\"その他（具体的に） \"\n",
      "\"tag 概要\"\n",
      "\"tag 到達目標\"\n",
      "\"tag 授業計画\"\n",
      "\"tag 成績評価基準\"\n",
      "\"tag テキスト\"\n",
      "\"tag 備考\"\n",
      "\"学期末試験 \"\n",
      "\"Quizzes \"\n",
      "\"平常点　 \"\n",
      "\"Book report \"\n",
      "\"実力試験（TOEFL） \"\n",
      "\"tag 概要\"\n",
      "\"tag 到達目標\"\n",
      "\"tag 授業計画\"\n",
      "\"tag 成績評価基準\"\n",
      "\"tag テキスト\"\n",
      "\"tag 備考\"\n",
      "\"Written Assignments \"\n",
      "\"Group and Individual Presentations \"\n",
      "\"tag 概要\"\n",
      "\"tag 到達目標\"\n",
      "\"tag 授業計画\"\n",
      "\"tag 成績評価基準\"\n",
      "\"tag テキスト\"\n",
      "\"tag 参考文献\"\n",
      "\"平常点(出席，クラス参加，グループ作業の成果等) \"\n",
      "\"期末試験 \"\n",
      "\"tag 概要\"\n",
      "\"tag 到達目標\"\n",
      "\"tag 授業計画\"\n",
      "\"tag 成績評価基準\"\n",
      "\"tag テキスト\"\n",
      "\"tag 参考文献\"\n",
      "\"tag 参照ＵＲＬ\"\n",
      "\"平常点(授業態度，クラス参加，グループ作業の成果等) \"\n",
      "\"期末試験 \"\n",
      "\"クラスで発表など \"\n",
      "\"提出物 \"\n",
      "\"tag 概要\"\n",
      "\"tag 到達目標\"\n",
      "\"tag 授業計画\"\n",
      "\"tag 成績評価基準\"\n",
      "\"tag テキスト\"\n",
      "\"tag 参考文献\"\n",
      "\"tag 備考\"\n",
      "\"期末レポート試験・論文 \"\n",
      "\"クラスでの発表など \"\n",
      "\"提出物 \"\n",
      "\"tag 概要\"\n",
      "\"tag 到達目標\"\n",
      "\"tag 授業計画\"\n",
      "\"tag 成績評価基準\"\n",
      "\"tag テキスト\"\n",
      "\"tag 参考文献\"\n",
      "\"tag 参照ＵＲＬ\"\n",
      "\"平常点(出席，クラス参加，グループ作業の成果等) \"\n",
      "\"提出物 \"\n",
      "\"小テスト \"\n",
      "\"その他（具体的に） \"\n",
      "\"特記事項 \"\n",
      "\"tag 概要\"\n",
      "\"tag 到達目標\"\n",
      "\"tag 授業計画\"\n",
      "\"tag 成績評価基準\"\n",
      "\"tag テキスト\"\n",
      "\"tag 備考\"\n",
      "\"実験レポート，製作実験，実験ノート \"\n",
      "\"tag 概要\"\n",
      "\"tag 到達目標\"\n",
      "\"tag 授業計画\"\n",
      "\"tag 成績評価基準\"\n",
      "\"tag 参考文献\"\n",
      "\"平常点(出席，クラス参加，グループ作業の成果等) \"\n",
      "\"期末レポート試験・論文 \"\n",
      "\"クラスで発表（グループ発表とミニスピーチ） \"\n",
      "\"tag 概要\"\n",
      "\"tag 到達目標\"\n",
      "\"tag 授業計画\"\n",
      "\"tag 成績評価基準\"\n",
      "\"tag テキスト\"\n",
      "\"tag 参考文献\"\n",
      "\"tag 参照ＵＲＬ\"\n",
      "\"tag 備考\"\n",
      "\"平常点 \"\n",
      "\"期末レポート試験 \"\n",
      "\"tag 概要\"\n",
      "\"tag 到達目標\"\n",
      "\"tag 授業計画\"\n",
      "\"tag 成績評価基準\"\n",
      "\"tag テキスト\"\n",
      "\"tag 参考文献\"\n",
      "\"tag 備考\"\n",
      "\"平常点 \"\n",
      "\"小レポート \"\n",
      "\"期末筆記試験 \"\n",
      "\"tag 概要\"\n",
      "\"tag 到達目標\"\n",
      "\"tag 授業計画\"\n",
      "\"tag 成績評価基準\"\n",
      "\"tag 参考文献\"\n",
      "\"期末筆記試験 \"\n",
      "\"tag 概要\"\n",
      "\"tag 到達目標\"\n",
      "\"tag 授業計画\"\n",
      "\"tag 成績評価基準\"\n",
      "\"tag 参考文献\"\n",
      "\"tag 参照ＵＲＬ\"\n",
      "\"平常点(出席，クラス参加，グループ作業の成果等) \"\n",
      "\"期末レポート試験・論文 \"\n",
      "\"クラスで発表など \"\n",
      "\"クラスへの貢献度 \"\n",
      "\"tag 概要\"\n",
      "\"tag 到達目標\"\n",
      "\"tag 授業計画\"\n",
      "\"tag 成績評価基準\"\n",
      "\"tag 参考文献\"\n",
      "\"平常点 \"\n",
      "\"小レポート \"\n",
      "\"tag 概要\"\n",
      "\"tag 到達目標\"\n",
      "\"tag 授業計画\"\n",
      "\"tag 成績評価基準\"\n",
      "\"tag テキスト\"\n",
      "\"tag 備考\"\n",
      "\"平常点 \"\n",
      "\"授業内の課題レポート \"\n",
      "\"tag 概要\"\n",
      "\"tag 到達目標\"\n",
      "\"tag 授業計画\"\n",
      "\"tag 成績評価基準\"\n",
      "\"tag テキスト\"\n",
      "\"平常点 \"\n",
      "\"その他 \"\n",
      "\"tag 概要\"\n",
      "\"tag 到達目標\"\n",
      "\"tag 授業計画\"\n",
      "\"tag 成績評価基準\"\n",
      "\"tag テキスト\"\n",
      "\"平常点(出席，クラス参加，グループ作業の成果等) \"\n",
      "\"提出物 \"\n",
      "\"中間試験 \"\n",
      "\"期末試験 \"\n",
      "\"tag 概要\"\n",
      "\"tag 到達目標\"\n",
      "\"tag 授業計画\"\n",
      "\"tag 成績評価基準\"\n",
      "\"tag 備考\"\n",
      "\"提出物 \"\n",
      "\"tag 概要\"\n",
      "\"tag 到達目標\"\n",
      "\"tag 授業計画\"\n",
      "\"tag 成績評価基準\"\n",
      "\"tag テキスト\"\n",
      "\"tag 参考文献\"\n",
      "\"tag 参照ＵＲＬ\"\n",
      "\"平常点（出席など） \"\n",
      "\"平常点（小テストなど） \"\n",
      "\"期末試験 \"\n",
      "\"tag 概要\"\n",
      "\"tag 到達目標\"\n",
      "\"tag 授業計画\"\n",
      "\"tag 成績評価基準\"\n",
      "\"tag テキスト\"\n",
      "\"tag 参考文献\"\n",
      "\"平常点（出席，クラス参加，発表，グループ作業の成果等） \"\n",
      "\"tag 概要\"\n",
      "\"tag 到達目標\"\n",
      "\"tag 授業計画\"\n",
      "\"tag 成績評価基準\"\n",
      "\"平常点(出席，クラス参加，グループ作業の成果等) \"\n",
      "\"小レポート \"\n",
      "\"tag 概要\"\n",
      "\"tag 到達目標\"\n",
      "\"tag 授業計画\"\n",
      "\"tag 成績評価基準\"\n",
      "\"tag テキスト\"\n",
      "\"tag 参考文献\"\n",
      "\"tag 備考\"\n",
      "\"平常点 \"\n",
      "\"小レポート \"\n",
      "\"期末筆記試験 \"\n",
      "\"tag 概要\"\n",
      "\"tag 到達目標\"\n",
      "\"tag 授業計画\"\n",
      "\"tag 成績評価基準\"\n",
      "\"平常点 \"\n",
      "\"期末レポート \"\n",
      "\"tag 概要\"\n",
      "\"tag 到達目標\"\n",
      "\"tag 授業計画\"\n",
      "\"tag 成績評価基準\"\n",
      "\"tag テキスト\"\n",
      "\"tag 参考文献\"\n",
      "\"tag 参照ＵＲＬ\"\n",
      "\"tag 備考\"\n",
      "\"平常点(出席，クラス参加，グループ作業の成果等) \"\n",
      "\"クラスで発表など \"\n",
      "\"小テスト \"\n",
      "\"tag 概要\"\n",
      "\"tag 到達目標\"\n",
      "\"tag 授業計画\"\n",
      "\"tag 成績評価基準\"\n",
      "\"tag テキスト\"\n",
      "\"tag 参考文献\"\n",
      "\"tag 備考\"\n",
      "\"Attendance and participation \"\n",
      "\"In-class evaluation (Quizzes) \"\n",
      "\"Presentation \"\n",
      "\"Final Report \"\n",
      "\"tag 概要\"\n",
      "\"tag 到達目標\"\n",
      "\"tag 授業計画\"\n",
      "\"tag 成績評価基準\"\n",
      "\"平常点(出席，クラス参加，グループ作業の成果等) \"\n",
      "\"クラスで発表など \"\n",
      "\"クラスへの貢献度 \"\n",
      "\"tag 概要\"\n",
      "\"tag 到達目標\"\n",
      "\"tag 授業計画\"\n",
      "\"tag 成績評価基準\"\n",
      "\"tag テキスト\"\n",
      "\"tag 参考文献\"\n",
      "\"tag 備考\"\n",
      "\"平常点 \"\n",
      "\"史跡見学レポート \"\n",
      "\"舞台鑑賞レポート　2回 \"\n",
      "\"期末レポート試験 \"\n",
      "\"tag 概要\"\n",
      "\"tag 到達目標\"\n",
      "\"tag 授業計画\"\n",
      "\"tag 成績評価基準\"\n",
      "\"tag テキスト\"\n",
      "\"tag 参考文献\"\n",
      "\"平常点 \"\n",
      "\"小レポート \"\n",
      "\"期末試験 \"\n",
      "\"tag 概要\"\n",
      "\"tag 到達目標\"\n",
      "\"tag 授業計画\"\n",
      "\"tag 成績評価基準\"\n",
      "\"tag 備考\"\n",
      "\"平常点(出席，クラス参加，グループ作業の成果等) \"\n",
      "\"期末レポート試験・論文 \"\n",
      "\"クラスで発表など \"\n",
      "\"提出物 \"\n",
      "\"tag 概要\"\n",
      "\"tag 到達目標\"\n",
      "\"tag 授業計画\"\n",
      "\"tag 成績評価基準\"\n",
      "\"tag テキスト\"\n",
      "\"平常点 \"\n",
      "\"期末試験 \"\n",
      "\"tag 概要\"\n",
      "\"tag 到達目標\"\n",
      "\"tag 授業計画\"\n",
      "\"tag 成績評価基準\"\n",
      "\"tag テキスト\"\n",
      "\"tag 参考文献\"\n",
      "\"tag 備考\"\n",
      "\"中間テスト \"\n",
      "\"期末筆記試験 \"\n",
      "\"tag 概要\"\n",
      "\"tag 到達目標\"\n",
      "\"tag 授業計画\"\n",
      "\"tag 成績評価基準\"\n",
      "\"tag テキスト\"\n",
      "\"tag 参照ＵＲＬ\"\n",
      "\"平常点（出席，授業参加など） \"\n",
      "\"小テスト \"\n",
      "\"期末テスト \"\n",
      "\"tag 概要\"\n",
      "\"tag 到達目標\"\n",
      "\"tag 授業計画\"\n",
      "\"tag 成績評価基準\"\n",
      "\"tag テキスト\"\n",
      "\"tag 備考\"\n",
      "\"【文法】平常点(出席，クラス参加，グループ作業の成果等) \"\n",
      "\"【文法】小テスト \"\n",
      "\"【文法】期末試験 \"\n",
      "\"【文法】その他（具体的に） \"\n",
      "\"【実習】平常点(出席，クラス参加，グループ作業の成果等) \"\n",
      "\"【実習】小テスト \"\n",
      "\"【実習】期末試験 \"\n",
      "\"【実習】その他（具体的に） \"\n",
      "\"tag 概要\"\n",
      "\"tag 到達目標\"\n",
      "\"tag 授業計画\"\n",
      "\"tag 成績評価基準\"\n",
      "\"tag テキスト\"\n",
      "\"tag 参考文献\"\n",
      "\"平常点（出席，クラス参加，発表，グループ作業の成果等） \"\n",
      "\"期末筆記試験 \"\n",
      "\"tag 概要\"\n",
      "\"tag 到達目標\"\n",
      "\"tag 授業計画\"\n",
      "\"tag 成績評価基準\"\n",
      "\"tag テキスト\"\n",
      "\"tag 備考\"\n",
      "\"平常点(出席，クラス参加等) \"\n",
      "\"小レポート \"\n",
      "\"小テスト \"\n",
      "\"期末試験 \"\n",
      "\"tag 概要\"\n",
      "\"tag 到達目標\"\n",
      "\"tag 授業計画\"\n",
      "\"tag 成績評価基準\"\n",
      "\"tag テキスト\"\n",
      "\"tag 備考\"\n",
      "\"中間評価(または小テスト) \"\n",
      "\"期末筆記試験 \"\n",
      "\"tag 概要\"\n",
      "\"tag 到達目標\"\n",
      "\"tag 授業計画\"\n",
      "\"tag 成績評価基準\"\n",
      "\"tag テキスト\"\n",
      "\"平常点(出席，クラス参加，グループ作業の成果等) \"\n",
      "\"小レポート \"\n",
      "\"小テスト \"\n",
      "\"中間評価 \"\n",
      "\"期末評価 \"\n",
      "\"tag 概要\"\n",
      "\"tag 到達目標\"\n",
      "\"tag 授業計画\"\n",
      "\"tag 成績評価基準\"\n",
      "\"tag テキスト\"\n",
      "\"tag 参考文献\"\n",
      "\"平常点(出席，クラス参加，グループ作業の成果等) \"\n",
      "\"期末レポート試験・論文 \"\n",
      "\"tag 概要\"\n",
      "\"tag 到達目標\"\n",
      "\"tag 授業計画\"\n",
      "\"tag 成績評価基準\"\n",
      "\"tag テキスト\"\n",
      "\"平常点(出席，クラス参加，グループ作業の成果等) \"\n",
      "\"提出物 \"\n",
      "\"小テスト \"\n",
      "\"tag 概要\"\n",
      "\"tag 到達目標\"\n",
      "\"tag 授業計画\"\n",
      "\"tag 成績評価基準\"\n",
      "\"tag 参照ＵＲＬ\"\n",
      "\"平常点(出席，クラス参加，グループ作業の成果等) \"\n",
      "\"tag 概要\"\n",
      "\"tag 到達目標\"\n",
      "\"tag 授業計画\"\n",
      "\"tag 成績評価基準\"\n",
      "\"tag テキスト\"\n",
      "\"tag 備考\"\n",
      "\"Participation and Attendance \"\n",
      "\"Presentation， Homework and Quizzes \"\n",
      "\"tag 概要\"\n",
      "\"tag 到達目標\"\n",
      "\"tag 授業計画\"\n",
      "\"tag 成績評価基準\"\n",
      "\"平常点(出席，クラス参加，グループ作業の成果等) \"\n",
      "\"クラスで発表など \"\n",
      "\"クラスへの貢献度 \"\n",
      "\"tag 概要\"\n",
      "\"tag 到達目標\"\n",
      "\"tag 授業計画\"\n",
      "\"tag 成績評価基準\"\n",
      "\"tag テキスト\"\n",
      "\"tag 参考文献\"\n",
      "\"平常点 \"\n",
      "\"期末試験 \"\n",
      "\"tag 概要\"\n",
      "\"tag 到達目標\"\n",
      "\"tag 授業計画\"\n",
      "\"tag 成績評価基準\"\n",
      "\"tag テキスト\"\n",
      "\"tag 参考文献\"\n",
      "\"平常点（出席， 中間レポート等） \"\n",
      "\"期末筆記試験 \"\n",
      "\"tag 概要\"\n",
      "\"tag 到達目標\"\n",
      "\"tag 授業計画\"\n",
      "\"tag 成績評価基準\"\n",
      "\"tag 参考文献\"\n",
      "\"提出物 \"\n",
      "\"期末試験 \"\n",
      "\"tag 概要\"\n",
      "\"tag 到達目標\"\n",
      "\"tag 授業計画\"\n",
      "\"tag 成績評価基準\"\n",
      "\"tag 参考文献\"\n",
      "\"tag 参照ＵＲＬ\"\n",
      "\"tag 備考\"\n",
      "\"オンラインクイズ \"\n",
      "\"レポート課題 \"\n",
      "\"期末テスト \"\n",
      "\"tag 概要\"\n",
      "\"tag 到達目標\"\n",
      "\"tag 授業計画\"\n",
      "\"tag 成績評価基準\"\n",
      "\"tag テキスト\"\n",
      "\"tag 参考文献\"\n",
      "\"tag 備考\"\n",
      "\"平常点 \"\n",
      "\"期末レポート試験 \"\n",
      "\"tag 概要\"\n",
      "\"tag 到達目標\"\n",
      "\"tag 授業計画\"\n",
      "\"tag 成績評価基準\"\n",
      "\"tag テキスト\"\n",
      "\"tag 参考文献\"\n",
      "\"平常点（出席，クラス参加，発表，グループ作業の成果等） \"\n",
      "\"tag 概要\"\n",
      "\"tag 到達目標\"\n",
      "\"tag 授業計画\"\n",
      "\"tag 成績評価基準\"\n",
      "\"tag テキスト\"\n",
      "\"平常点(出席，クラス参加，グループ作業の成果等) \"\n",
      "\"中間レポート \"\n",
      "\"最終評価 \"\n",
      "\"tag 概要\"\n",
      "\"tag 到達目標\"\n",
      "\"tag 授業計画\"\n",
      "\"tag 成績評価基準\"\n",
      "\"tag 備考\"\n",
      "\"その他（具体的に） \"\n",
      "\"tag 概要\"\n",
      "\"tag 到達目標\"\n",
      "\"tag 授業計画\"\n",
      "\"tag 成績評価基準\"\n",
      "\"tag 参考文献\"\n",
      "\"tag 参照ＵＲＬ\"\n",
      "\"平常点 \"\n",
      "\"特記事項 \"\n",
      "\"tag 概要\"\n",
      "\"tag 到達目標\"\n",
      "\"tag 授業計画\"\n",
      "\"tag 成績評価基準\"\n",
      "\"tag 参照ＵＲＬ\"\n",
      "\"平常点 \"\n",
      "\"tag 概要\"\n",
      "\"tag 到達目標\"\n",
      "\"tag 授業計画\"\n",
      "\"tag 成績評価基準\"\n",
      "\"tag 参考文献\"\n",
      "\"平常点(出席，クラス参加，グループ作業の成果等) \"\n",
      "\"期末レポート試験・論文 \"\n",
      "\"tag 概要\"\n",
      "\"tag 到達目標\"\n",
      "\"tag 授業計画\"\n",
      "\"tag 成績評価基準\"\n",
      "\"tag テキスト\"\n",
      "\"tag 参照ＵＲＬ\"\n",
      "\"実習評価 \"\n",
      "\"オンラインクイズ \"\n",
      "\"期末テスト \"\n",
      "\"tag 概要\"\n",
      "\"tag 到達目標\"\n",
      "\"tag 授業計画\"\n",
      "\"tag 成績評価基準\"\n",
      "\"tag テキスト\"\n",
      "\"平常点 \"\n",
      "\"期末レポート試験 \"\n",
      "\"tag 概要\"\n",
      "\"tag 到達目標\"\n",
      "\"tag 授業計画\"\n",
      "\"tag 成績評価基準\"\n",
      "\"tag テキスト\"\n",
      "\"tag 参考文献\"\n",
      "\"平常点(出席，クラス参加，グループ作業の成果等) \"\n",
      "\"小テスト \"\n",
      "\"tag 概要\"\n",
      "\"tag 到達目標\"\n",
      "\"tag 授業計画\"\n",
      "\"tag 成績評価基準\"\n",
      "\"tag テキスト\"\n",
      "\"tag 備考\"\n",
      "\"平常点 \"\n",
      "\"テスト \"\n",
      "\"tag 概要\"\n",
      "\"tag 到達目標\"\n",
      "\"tag 授業計画\"\n",
      "\"tag 成績評価基準\"\n",
      "\"tag テキスト\"\n",
      "\"tag 参考文献\"\n",
      "\"tag 参照ＵＲＬ\"\n",
      "\"中間レポート \"\n",
      "\"期末筆記試験 \"\n",
      "\"特記事項 \"\n",
      "\"tag 概要\"\n",
      "\"tag 到達目標\"\n",
      "\"tag 授業計画\"\n",
      "\"tag 成績評価基準\"\n",
      "\"tag テキスト\"\n",
      "\"tag 備考\"\n",
      "\"平常点 \"\n",
      "\"単語テスト \"\n",
      "\"中間テスト \"\n",
      "\"期末筆記試験 \"\n",
      "\"特記事項 \"\n",
      "\"tag 概要\"\n",
      "\"tag 到達目標\"\n",
      "\"tag 授業計画\"\n",
      "\"tag 成績評価基準\"\n",
      "\"tag 参考文献\"\n",
      "\"tag 備考\"\n",
      "\"Report submission \"\n",
      "\"Contributions to the class including presentations, class discussions, attendance \"\n",
      "\"tag 概要\"\n",
      "\"tag 到達目標\"\n",
      "\"tag 授業計画\"\n",
      "\"tag 成績評価基準\"\n",
      "\"tag テキスト\"\n",
      "\"tag 参照ＵＲＬ\"\n",
      "\"tag 備考\"\n",
      "\"平常点（出席，課題の提出，小テストなど） \"\n",
      "\"期末試験 \"\n",
      "\"特記事項 \"\n",
      "\"tag 概要\"\n",
      "\"tag 到達目標\"\n",
      "\"tag 授業計画\"\n",
      "\"tag 成績評価基準\"\n",
      "\"tag テキスト\"\n",
      "\"tag 備考\"\n",
      "\"Mid-term exam (first speech test)  \"\n",
      "\"Final exam (second speech test)  \"\n",
      "\"Class participation \"\n",
      "\"tag 概要\"\n",
      "\"tag 到達目標\"\n",
      "\"tag 授業計画\"\n",
      "\"tag 成績評価基準\"\n",
      "\"tag 参考文献\"\n",
      "\"tag 参照ＵＲＬ\"\n",
      "\"期末試験 \"\n",
      "\"tag 概要\"\n",
      "\"tag 到達目標\"\n",
      "\"tag 授業計画\"\n",
      "\"tag 成績評価基準\"\n",
      "\"tag テキスト\"\n",
      "\"平常点（出席，小テスト等） \"\n",
      "\"期末筆記試験 \"\n",
      "\"tag 概要\"\n",
      "\"tag 到達目標\"\n",
      "\"tag 授業計画\"\n",
      "\"tag 成績評価基準\"\n",
      "\"tag テキスト\"\n",
      "\"平常点(出席，クラス参加，グループ作業の成果等) \"\n",
      "\"小レポート \"\n",
      "\"提出物 \"\n",
      "\"tag 概要\"\n",
      "\"tag 到達目標\"\n",
      "\"tag 授業計画\"\n",
      "\"tag 成績評価基準\"\n",
      "\"tag テキスト\"\n",
      "\"tag 参照ＵＲＬ\"\n",
      "\"出席 \"\n",
      "\"報告担当回の評価 \"\n",
      "\"報告担当回以外の評価 \"\n",
      "\"提出物の評価 \"\n",
      "\"ゼミ運営への貢献 \"\n",
      "\"tag 概要\"\n",
      "\"tag 到達目標\"\n",
      "\"tag 授業計画\"\n",
      "\"tag 成績評価基準\"\n",
      "\"tag テキスト\"\n",
      "\"平常点（出席，授業態度など） \"\n",
      "\"小テスト \"\n",
      "\"総括 \"\n",
      "\"tag 概要\"\n",
      "\"tag 到達目標\"\n",
      "\"tag 授業計画\"\n",
      "\"tag 成績評価基準\"\n",
      "\"tag 参考文献\"\n",
      "\"平常点 \"\n",
      "\"発表 \"\n",
      "\"期末レポート \"\n",
      "\"期末筆記試験 \"\n",
      "\"tag 概要\"\n",
      "\"tag 到達目標\"\n",
      "\"tag 授業計画\"\n",
      "\"tag 成績評価基準\"\n",
      "\"tag テキスト\"\n",
      "\"tag 参考文献\"\n",
      "\"平常点(出席，クラス参加，グループ作業の成果等) \"\n",
      "\"小レポート \"\n",
      "\"期末試験 \"\n",
      "\"tag 概要\"\n",
      "\"tag 到達目標\"\n",
      "\"tag 授業計画\"\n",
      "\"tag 成績評価基準\"\n",
      "\"tag テキスト\"\n",
      "\"tag 参照ＵＲＬ\"\n",
      "\"tag 備考\"\n",
      "\"Attendance / Participation \"\n",
      "\"Homework \"\n",
      "\"Personal Reaction Presentation \"\n",
      "\"Role Play \"\n",
      "\"tag 概要\"\n",
      "\"tag 到達目標\"\n",
      "\"tag 授業計画\"\n",
      "\"tag 成績評価基準\"\n",
      "\"tag テキスト\"\n",
      "\"tag 参考文献\"\n",
      "\"平常点 \"\n",
      "\"小レポート \"\n",
      "\"クラスでの発表 \"\n",
      "\"tag 概要\"\n",
      "\"tag 到達目標\"\n",
      "\"tag 授業計画\"\n",
      "\"tag 成績評価基準\"\n",
      "\"tag テキスト\"\n",
      "\"tag 備考\"\n",
      "\"【文法】平常点(出席，クラス参加，グループ作業の成果等) \"\n",
      "\"【文法】小テスト \"\n",
      "\"【文法】期末試験 \"\n",
      "\"【文法】その他（具体的に） \"\n",
      "\"【実習】平常点(出席，クラス参加，グループ作業の成果等) \"\n",
      "\"【実習】小テスト \"\n",
      "\"【実習】期末試験 \"\n",
      "\"【実習】その他（具体的に） \"\n",
      "\"tag 概要\"\n",
      "\"tag 到達目標\"\n",
      "\"tag 授業計画\"\n",
      "\"tag 成績評価基準\"\n",
      "\"tag テキスト\"\n",
      "\"tag 参考文献\"\n",
      "\"平常点(出席，クラス参加，グループ作業の成果等) \"\n",
      "\"ブックレポート \"\n",
      "\"tag 概要\"\n",
      "\"tag 到達目標\"\n",
      "\"tag 授業計画\"\n",
      "\"tag 成績評価基準\"\n",
      "\"tag テキスト\"\n",
      "\"tag 参考文献\"\n",
      "\"平常点(出席等) \"\n",
      "\"中間レポート \"\n",
      "\"期末試験 \"\n",
      "\"tag 概要\"\n",
      "\"tag 到達目標\"\n",
      "\"tag 授業計画\"\n",
      "\"tag 成績評価基準\"\n",
      "\"tag テキスト\"\n",
      "\"tag 参照ＵＲＬ\"\n",
      "\"tag 備考\"\n",
      "\"平常点（出席，授業態度など） \"\n",
      "\"クラスでの発表など \"\n",
      "\"中間試験及び総括 \"\n",
      "\"tag 概要\"\n",
      "\"tag 到達目標\"\n",
      "\"tag 授業計画\"\n",
      "\"tag 成績評価基準\"\n",
      "\"tag テキスト\"\n",
      "\"平常点(出席，クラス参加，グループ作業の成果等) \"\n",
      "\"期末レポート試験・論文 \"\n",
      "\"クラスで発表など \"\n",
      "\"小テスト \"\n",
      "\"その他（具体的に） \"\n",
      "\"tag 概要\"\n",
      "\"tag 到達目標\"\n",
      "\"tag 授業計画\"\n",
      "\"tag 成績評価基準\"\n",
      "\"tag テキスト\"\n",
      "\"tag 参照ＵＲＬ\"\n",
      "\"平常点(クラス参加，グループ作業の成果等) \"\n",
      "\"小レポート \"\n",
      "\"中間レポート試験 \"\n",
      "\"期末レポート試験・論文 \"\n",
      "\"tag 概要\"\n",
      "\"tag 到達目標\"\n",
      "\"tag 授業計画\"\n",
      "\"tag 成績評価基準\"\n",
      "\"平常点(出席，クラス参加，グループ作業の成果等) \"\n",
      "\"特記事項 \"\n",
      "\"tag 概要\"\n",
      "\"tag 到達目標\"\n",
      "\"tag 授業計画\"\n",
      "\"tag 成績評価基準\"\n",
      "\"tag テキスト\"\n",
      "\"tag 参考文献\"\n",
      "\"tag 参照ＵＲＬ\"\n",
      "\"平常点 \"\n",
      "\"レポート \"\n",
      "\"クラスでの発表（グループワーク，ディベート，ディスカッション，報告等） \"\n",
      "\"tag 概要\"\n",
      "\"tag 到達目標\"\n",
      "\"tag 授業計画\"\n",
      "\"tag 成績評価基準\"\n",
      "\"tag テキスト\"\n",
      "\"tag 参考文献\"\n",
      "\"平常点(出席，クラス参加，グループ作業の成果等) \"\n",
      "\"期末レポート試験・論文 \"\n"
     ]
    },
    {
     "data": {
      "text/plain": [
       "[#<SummarizedSubject id: 9887, name: \"アナリティカル・リ-ディング1-7\", code: \"6501023-007\", number_of_students: 38, A: 22.975, B: 35.325, C: 23.25, D: 10.325, F: 8.075, other: 0.0, mean_score: 2.55, weighted_score: 2.72727, faculty_id: 18, subject_id: 7275, url: \"https://syllabus.doshisha.ac.jp/html/2017/6501/165...\", term: 0, place: 1, credit: 1, teacher_id: 1497, teacher_name: \"山路 順子\">, #<SummarizedSubject id: 11014, name: \"ドイツ語入門II-951\", code: \"6502012-951\", number_of_students: nil, A: 0.0, B: 0.0, C: 0.0, D: 0.0, F: 0.0, other: 0.0, mean_score: 0.0, weighted_score: nil, faculty_id: 18, subject_id: 15564, url: \"https://syllabus.doshisha.ac.jp/html/2017/6502/165...\", term: 0, place: 0, credit: 2, teacher_id: 2999, teacher_name: \"湯浅 博章\">, #<SummarizedSubject id: 9808, name: \"英語講読2-534\", code: \"6501022-534\", number_of_students: nil, A: 0.0, B: 0.0, C: 0.0, D: 0.0, F: 0.0, other: 0.0, mean_score: 0.0, weighted_score: nil, faculty_id: 18, subject_id: 14953, url: \"https://syllabus.doshisha.ac.jp/html/2017/6501/165...\", term: 0, place: 0, credit: 1, teacher_id: 2766, teacher_name: \"﨑田 智子\">, #<SummarizedSubject id: 7479, name: \"DEVELOPMENT ECON\", code: \"2000321-000\", number_of_students: nil, A: 0.0, B: 0.0, C: 0.0, D: 0.0, F: 0.0, other: 0.0, mean_score: 0.0, weighted_score: nil, faculty_id: 14, subject_id: 14217, url: \"https://syllabus.doshisha.ac.jp/html/2017/2000/120...\", term: 1, place: 0, credit: 2, teacher_id: 721, teacher_name: \"川浦 昭彦\">, #<SummarizedSubject id: 7946, name: \"海外インタ-ンシップ (英語)-3\", code: \"2201151-003\", number_of_students: 0, A: 0.0, B: 0.0, C: 0.0, D: 0.0, F: 0.0, other: 0.0, mean_score: 0.0, weighted_score: nil, faculty_id: 15, subject_id: 10660, url: \"https://syllabus.doshisha.ac.jp/html/2017/2201/122...\", term: 0, place: 0, credit: 2, teacher_id: 1739, teacher_name: \"落合 明子\">, #<SummarizedSubject id: 4816, name: \"産業関係文献演習I-1\", code: \"0942021-001\", number_of_students: 0, A: 0.0, B: 0.0, C: 0.0, D: 0.0, F: 0.0, other: 0.0, mean_score: 0.0, weighted_score: nil, faculty_id: 8, subject_id: 3871, url: \"https://syllabus.doshisha.ac.jp/html/2017/0942/109...\", term: 0, place: 0, credit: 2, teacher_id: 946, teacher_name: \"岩月 真也\">, #<SummarizedSubject id: 11683, name: \"スペイン語応用3-771\", code: \"6505033-771\", number_of_students: nil, A: 0.0, B: 0.0, C: 0.0, D: 0.0, F: 0.0, other: 0.0, mean_score: 0.0, weighted_score: nil, faculty_id: 18, subject_id: 16233, url: \"https://syllabus.doshisha.ac.jp/html/2017/6505/165...\", term: 1, place: 0, credit: 1, teacher_id: 2937, teacher_name: \"駒村 幸\">, #<SummarizedSubject id: 11571, name: \"スペイン語入門I-12\", code: \"6505011-012\", number_of_students: nil, A: 0.0, B: 0.0, C: 0.0, D: 0.0, F: 0.0, other: 0.0, mean_score: 0.0, weighted_score: nil, faculty_id: 18, subject_id: 16121, url: \"https://syllabus.doshisha.ac.jp/html/2017/6505/165...\", term: 0, place: 1, credit: 2, teacher_id: 1581, teacher_name: \"立林 良一\">, #<SummarizedSubject id: 2613, name: \"民法IIIa(債権総論①)\", code: \"0308204-000\", number_of_students: 741, A: 17.2667, B: 20.1, C: 19.5, D: 23.3, F: 19.8667, other: 0.0, mean_score: 1.9, weighted_score: 1.84286, faculty_id: 3, subject_id: 8384, url: \"https://syllabus.doshisha.ac.jp/html/2017/0308/103...\", term: 0, place: 0, credit: 2, teacher_id: 1944, teacher_name: \"荻野 奈緒\">, #<SummarizedSubject id: 5297, name: \"電磁気学\", code: \"1411106-000\", number_of_students: 106, A: 16.15, B: 17.825, C: 15.725, D: 19.35, F: 30.95, other: 0.0, mean_score: 1.675, weighted_score: 1.57273, faculty_id: 9, subject_id: 4314, url: \"https://syllabus.doshisha.ac.jp/html/2017/1411/114...\", term: 1, place: 1, credit: 2, teacher_id: 1034, teacher_name: \"剣持 貴弘\">, #<SummarizedSubject id: 565, name: \"基礎演習II-7\", code: \"0210454-007\", number_of_students: nil, A: 0.0, B: 0.0, C: 0.0, D: 0.0, F: 0.0, other: 0.0, mean_score: 0.0, weighted_score: nil, faculty_id: 2, subject_id: 12652, url: \"https://syllabus.doshisha.ac.jp/html/2017/0210/102...\", term: 1, place: 0, credit: 2, teacher_id: 63, teacher_name: \"勝山 貴之\">, #<SummarizedSubject id: 614, name: \"Communicative English Skills A II-7\", code: \"0210713-007\", number_of_students: 32, A: 6.3, B: 46.9, C: 18.8, D: 6.3, F: 21.9, other: 0.0, mean_score: 2.1, weighted_score: 2.1, faculty_id: 2, subject_id: 9815, url: \"https://syllabus.doshisha.ac.jp/html/2017/0210/102...\", term: 1, place: 0, credit: 2, teacher_id: 78, teacher_name: \"浅沼 恵\">, #<SummarizedSubject id: 6830, name: \"演習(1)-6\", code: \"1700010-006\", number_of_students: nil, A: 0.0, B: 0.0, C: 0.0, D: 0.0, F: 0.0, other: 0.0, mean_score: 0.0, weighted_score: nil, faculty_id: 12, subject_id: 14017, url: \"https://syllabus.doshisha.ac.jp/html/2017/1700/117...\", term: 0, place: 1, credit: 2, teacher_id: 158, teacher_name: \"菊谷 まり子\">, #<SummarizedSubject id: 1319, name: \"哲学概論(2)-1\", code: \"0240108-001\", number_of_students: 18, A: 27.5333, B: 20.5, C: 13.2333, D: 0.0, F: 38.7667, other: 0.0, mean_score: 2.0, weighted_score: 2.24, faculty_id: 2, subject_id: 785, url: \"https://syllabus.doshisha.ac.jp/html/2017/0240/102...\", term: 1, place: 1, credit: 2, teacher_id: 146, teacher_name: \"田端 信廣\">, #<SummarizedSubject id: 9005, name: \"英語文化事情1-303\", code: \"6501011-303\", number_of_students: nil, A: 0.0, B: 0.0, C: 0.0, D: 0.0, F: 0.0, other: 0.0, mean_score: 0.0, weighted_score: nil, faculty_id: 18, subject_id: 14796, url: \"https://syllabus.doshisha.ac.jp/html/2017/6501/165...\", term: 0, place: 1, credit: 1, teacher_id: 2392, teacher_name: \"中田 賀之\">, #<SummarizedSubject id: 7860, name: \"グロ-バル地域文化入門セミナ--204\", code: \"2200052-204\", number_of_students: nil, A: 0.0, B: 0.0, C: 0.0, D: 0.0, F: 0.0, other: 0.0, mean_score: 0.0, weighted_score: nil, faculty_id: 15, subject_id: 14574, url: \"https://syllabus.doshisha.ac.jp/html/2017/2200/122...\", term: 1, place: 0, credit: 2, teacher_id: 2713, teacher_name: \"錢 鷗\">, #<SummarizedSubject id: 6268, name: \"機械工学実験-1\", code: \"1630043-001\", number_of_students: nil, A: 0.0, B: 0.0, C: 0.0, D: 0.0, F: 0.0, other: 0.0, mean_score: 0.0, weighted_score: nil, faculty_id: 11, subject_id: 13865, url: \"https://syllabus.doshisha.ac.jp/html/2017/1630/116...\", term: 0, place: 1, credit: 2, teacher_id: 1311, teacher_name: \"廣垣 俊樹\">, #<SummarizedSubject id: 6916, name: \"食行動の心理学\", code: \"1700210-000\", number_of_students: 105, A: 24.5, B: 25.05, C: 27.75, D: 11.6, F: 11.1, other: 0.0, mean_score: 2.4, weighted_score: 2.38235, faculty_id: 12, subject_id: 10611, url: \"https://syllabus.doshisha.ac.jp/html/2017/1700/117...\", term: 1, place: 1, credit: 2, teacher_id: 170, teacher_name: \"青山 謙二郎\">, #<SummarizedSubject id: 7294, name: \"基礎演習3-1\", code: \"1933053-001\", number_of_students: 0, A: 0.0, B: 0.0, C: 0.0, D: 0.0, F: 0.0, other: 0.0, mean_score: 0.0, weighted_score: nil, faculty_id: 13, subject_id: 5926, url: \"https://syllabus.doshisha.ac.jp/html/2017/1933/119...\", term: 0, place: 1, credit: 2, teacher_id: 1487, teacher_name: \"脇田 里子\">, #<SummarizedSubject id: 8923, name: \"スポ-ツ・パフォ-マンス1-522\", code: \"6601018-522\", number_of_students: 26, A: 33.625, B: 52.775, C: 9.15, D: 0.0, F: 4.45, other: 0.0, mean_score: 3.1, weighted_score: 3.11364, faculty_id: 17, subject_id: 6743, url: \"https://syllabus.doshisha.ac.jp/html/2017/6601/166...\", term: 0, place: 1, credit: 1, teacher_id: 1727, teacher_name: \"久保 陽\">, #<SummarizedSubject id: 2164, name: \"国際社会と民事法-1\", code: \"0307031-001\", number_of_students: 382, A: 17.25, B: 26.725, C: 26.4, D: 16.025, F: 13.6, other: 0.0, mean_score: 2.175, weighted_score: 2.20909, faculty_id: 3, subject_id: 1375, url: \"https://syllabus.doshisha.ac.jp/html/2017/0307/103...\", term: 0, place: 0, credit: 2, teacher_id: 2502, teacher_name: \"髙杉 直\">, #<SummarizedSubject id: 10880, name: \"I.C.T.(Tutorial)-2\", code: \"6501702-002\", number_of_students: nil, A: 0.0, B: 0.0, C: 0.0, D: 0.0, F: 0.0, other: 0.0, mean_score: 0.0, weighted_score: nil, faculty_id: 18, subject_id: 15430, url: \"https://syllabus.doshisha.ac.jp/html/2017/6501/165...\", term: 0, place: 1, credit: 1, teacher_id: 1908, teacher_name: \"綱井 勇吾\">, #<SummarizedSubject id: 1075, name: \"Reading A I-101\", code: \"0210888-101\", number_of_students: 13, A: 12.625, B: 19.275, C: 16.5, D: 24.0, F: 27.65, other: 0.0, mean_score: 1.65, weighted_score: 1.82727, faculty_id: 2, subject_id: 674, url: \"https://syllabus.doshisha.ac.jp/html/2017/0210/102...\", term: 0, place: 0, credit: 2, teacher_id: 53, teacher_name: \"石塚 則子\">, #<SummarizedSubject id: 7549, name: \"INTRO SEMINAR B-2\", code: \"2001002-002\", number_of_students: nil, A: 0.0, B: 0.0, C: 0.0, D: 0.0, F: 0.0, other: 0.0, mean_score: 0.0, weighted_score: nil, faculty_id: 14, subject_id: 14287, url: \"https://syllabus.doshisha.ac.jp/html/2017/2001/120...\", term: 1, place: 0, credit: 2, teacher_id: 1590, teacher_name: \"BRUCE WHITE\">, #<SummarizedSubject id: 5080, name: \"生涯学習概論-52\", code: \"0952223-052\", number_of_students: 135, A: 8.2, B: 44.275, C: 31.55, D: 3.725, F: 12.25, other: 0.0, mean_score: 2.325, weighted_score: 2.42727, faculty_id: 8, subject_id: 4142, url: \"https://syllabus.doshisha.ac.jp/html/2017/0952/109...\", term: 1, place: 0, credit: 2, teacher_id: 1005, teacher_name: \"神部 純一\">, #<SummarizedSubject id: 5201, name: \"学習指導と学校図書館-1\", code: \"0952810-001\", number_of_students: 0, A: 0.0, B: 0.0, C: 0.0, D: 0.0, F: 0.0, other: 0.0, mean_score: 0.0, weighted_score: nil, faculty_id: 8, subject_id: 4233, url: \"https://syllabus.doshisha.ac.jp/html/2017/0952/109...\", term: 1, place: 1, credit: 2, teacher_id: 1021, teacher_name: \"家城 清美\">, #<SummarizedSubject id: 4068, name: \"フィ-ルド・リサ-チ-102\", code: \"0702147-102\", number_of_students: nil, A: 0.0, B: 0.0, C: 0.0, D: 0.0, F: 0.0, other: 0.0, mean_score: 0.0, weighted_score: nil, faculty_id: 6, subject_id: 13399, url: \"https://syllabus.doshisha.ac.jp/html/2017/0702/107...\", term: 0, place: 0, credit: 2, teacher_id: 712, teacher_name: \"OFER FELDMAN\">, #<SummarizedSubject id: 10839, name: \"I.C.T.(Practice)-5\", code: \"6501701-005\", number_of_students: nil, A: 0.0, B: 0.0, C: 0.0, D: 0.0, F: 0.0, other: 0.0, mean_score: 0.0, weighted_score: nil, faculty_id: 18, subject_id: 15389, url: \"https://syllabus.doshisha.ac.jp/html/2017/6501/165...\", term: 0, place: 1, credit: 1, teacher_id: 2974, teacher_name: \"小林 英雄\">, #<SummarizedSubject id: 6070, name: \"電気基礎実験I\", code: \"1620012-000\", number_of_students: 191, A: 2.325, B: 21.975, C: 41.9, D: 27.85, F: 5.975, other: 0.0, mean_score: 1.875, weighted_score: 1.84091, faculty_id: 11, subject_id: 5026, url: \"https://syllabus.doshisha.ac.jp/html/2017/1620/116...\", term: 1, place: 1, credit: 2, teacher_id: 1273, teacher_name: \"大谷 直毅\">, #<SummarizedSubject id: 7296, name: \"基礎演習3-3\", code: \"1933053-003\", number_of_students: 0, A: 0.0, B: 0.0, C: 0.0, D: 0.0, F: 0.0, other: 0.0, mean_score: 0.0, weighted_score: nil, faculty_id: 13, subject_id: 5928, url: \"https://syllabus.doshisha.ac.jp/html/2017/1933/119...\", term: 0, place: 1, credit: 2, teacher_id: 2900, teacher_name: \"鈴木 伸子\">, #<SummarizedSubject id: 1624, name: \"日本文化史演習II(1)〔史2年〕-7\", code: \"0270213-007\", number_of_students: nil, A: 0.0, B: 0.0, C: 0.0, D: 0.0, F: 0.0, other: 0.0, mean_score: 0.0, weighted_score: nil, faculty_id: 2, subject_id: 12993, url: \"https://syllabus.doshisha.ac.jp/html/2017/0270/102...\", term: 0, place: 0, credit: 2, teacher_id: 2802, teacher_name: \"杉﨑 貴英\">, #<SummarizedSubject id: 1546, name: \"西洋文化史概説(1)-51\", code: \"0270101-051\", number_of_students: 72, A: 9.1, B: 11.35, C: 20.875, D: 28.925, F: 29.7, other: 0.0, mean_score: 1.425, weighted_score: 1.47273, faculty_id: 2, subject_id: 930, url: \"https://syllabus.doshisha.ac.jp/html/2017/0270/102...\", term: 0, place: 0, credit: 2, teacher_id: 234, teacher_name: \"坂井 聰\">, #<SummarizedSubject id: 3655, name: \"メディア環境変化と企業コミュニケ-ション\", code: \"0523563-000\", number_of_students: 114, A: 18.4, B: 25.4, C: 14.0, D: 19.3, F: 22.8, other: 0.0, mean_score: 2.0, weighted_score: 2.0, faculty_id: 5, subject_id: 11407, url: \"https://syllabus.doshisha.ac.jp/html/2017/0523/105...\", term: 1, place: 0, credit: 2, teacher_id: 614, teacher_name: \"西村 幸子\">, #<SummarizedSubject id: 7074, name: \"Advanced Seminar1-3\", code: \"1911055-003\", number_of_students: 0, A: 0.0, B: 0.0, C: 0.0, D: 0.0, F: 0.0, other: 0.0, mean_score: 0.0, weighted_score: nil, faculty_id: 13, subject_id: 9341, url: \"https://syllabus.doshisha.ac.jp/html/2017/1911/119...\", term: 0, place: 1, credit: 2, teacher_id: 1490, teacher_name: \"吉田 優子\">, #<SummarizedSubject id: 6976, name: \"教職実践演習(中・高)\", code: \"1700607-000\", number_of_students: 0, A: 0.0, B: 0.0, C: 0.0, D: 0.0, F: 0.0, other: 0.0, mean_score: 0.0, weighted_score: nil, faculty_id: 12, subject_id: 5665, url: \"https://syllabus.doshisha.ac.jp/html/2017/1700/117...\", term: 1, place: 1, credit: 2, teacher_id: 2043, teacher_name: \"田中 あゆみ\">, #<SummarizedSubject id: 3648, name: \"海外ビジネスII-1\", code: \"0523533-001\", number_of_students: 0, A: 0.0, B: 0.0, C: 0.0, D: 0.0, F: 0.0, other: 0.0, mean_score: 0.0, weighted_score: nil, faculty_id: 5, subject_id: 10262, url: \"https://syllabus.doshisha.ac.jp/html/2017/0523/105...\", term: 0, place: 0, credit: 4, teacher_id: 661, teacher_name: \"中川 優\">, #<SummarizedSubject id: 2431, name: \"4年次演習1(国際法)-140\", code: \"0307703-140\", number_of_students: 0, A: 0.0, B: 0.0, C: 0.0, D: 0.0, F: 0.0, other: 0.0, mean_score: 0.0, weighted_score: nil, faculty_id: 3, subject_id: 1642, url: \"https://syllabus.doshisha.ac.jp/html/2017/0307/103...\", term: 0, place: 0, credit: 2, teacher_id: 328, teacher_name: \"新井 京\">, #<SummarizedSubject id: 11830, name: \"ロシア語応用1-501\", code: \"6506031-501\", number_of_students: nil, A: 0.0, B: 0.0, C: 0.0, D: 0.0, F: 0.0, other: 0.0, mean_score: 0.0, weighted_score: nil, faculty_id: 18, subject_id: 16380, url: \"https://syllabus.doshisha.ac.jp/html/2017/6506/165...\", term: 0, place: 0, credit: 1, teacher_id: 3080, teacher_name: \"有信 優子\">, #<SummarizedSubject id: 3869, name: \"卒業論文-15\", code: \"0700151-015\", number_of_students: 0, A: 0.0, B: 0.0, C: 0.0, D: 0.0, F: 0.0, other: 0.0, mean_score: 0.0, weighted_score: nil, faculty_id: 6, subject_id: 3085, url: \"https://syllabus.doshisha.ac.jp/html/2017/0700/107...\", term: 1, place: 0, credit: 6, teacher_id: 724, teacher_name: \"野間 敏克\">, #<SummarizedSubject id: 12134, name: \"ハングル入門I-22\", code: \"6510011-022\", number_of_students: nil, A: 0.0, B: 0.0, C: 0.0, D: 0.0, F: 0.0, other: 0.0, mean_score: 0.0, weighted_score: nil, faculty_id: 18, subject_id: 16684, url: \"https://syllabus.doshisha.ac.jp/html/2017/6510/165...\", term: 0, place: 1, credit: 2, teacher_id: 3097, teacher_name: \"左 美和子\">, #<SummarizedSubject id: 2120, name: \"3年次演習2(憲法)-103\", code: \"0306959-103\", number_of_students: 0, A: 0.0, B: 0.0, C: 0.0, D: 0.0, F: 0.0, other: 0.0, mean_score: 0.0, weighted_score: nil, faculty_id: 3, subject_id: 1328, url: \"https://syllabus.doshisha.ac.jp/html/2017/0306/103...\", term: 1, place: 0, credit: 2, teacher_id: 411, teacher_name: \"勝山 教子\">, #<SummarizedSubject id: 3652, name: \"ワ-クショップ-2\", code: \"0523541-002\", number_of_students: 12, A: 100.0, B: 0.0, C: 0.0, D: 0.0, F: 0.0, other: 0.0, mean_score: 4.0, weighted_score: 4.0, faculty_id: 5, subject_id: 11405, url: \"https://syllabus.doshisha.ac.jp/html/2017/0523/105...\", term: 1, place: 0, credit: 2, teacher_id: 2262, teacher_name: \"佐藤 誠二\">, #<SummarizedSubject id: 4221, name: \"トピックス3\", code: \"0805713-000\", number_of_students: 122, A: 12.5, B: 31.9, C: 39.3, D: 0.7, F: 15.6, other: 0.0, mean_score: 2.25, weighted_score: 2.01429, faculty_id: 7, subject_id: 3339, url: \"https://syllabus.doshisha.ac.jp/html/2017/0805/108...\", term: 0, place: 1, credit: 2, teacher_id: 257, teacher_name: \"鋤柄 俊夫\">, #<SummarizedSubject id: 4842, name: \"産業関係学演習II-5\", code: \"0942032-005\", number_of_students: 0, A: 0.0, B: 0.0, C: 0.0, D: 0.0, F: 0.0, other: 0.0, mean_score: 0.0, weighted_score: nil, faculty_id: 8, subject_id: 3904, url: \"https://syllabus.doshisha.ac.jp/html/2017/0942/109...\", term: 1, place: 0, credit: 2, teacher_id: 947, teacher_name: \"寺井 基博\">, #<SummarizedSubject id: 7967, name: \"地域文化理解のためのポルトガル語5(講読)\", code: \"2201405-000\", number_of_students: 0, A: 0.0, B: 0.0, C: 0.0, D: 0.0, F: 0.0, other: 0.0, mean_score: 0.0, weighted_score: nil, faculty_id: 15, subject_id: 12001, url: \"https://syllabus.doshisha.ac.jp/html/2017/2201/122...\", term: 0, place: 0, credit: 2, teacher_id: 1569, teacher_name: \"住田 育法\">, #<SummarizedSubject id: 7692, name: \"INTRO BUS ADMIN\", code: \"2050206-000\", number_of_students: nil, A: 0.0, B: 0.0, C: 0.0, D: 0.0, F: 0.0, other: 0.0, mean_score: 0.0, weighted_score: nil, faculty_id: 14, subject_id: 14430, url: \"https://syllabus.doshisha.ac.jp/html/2017/2050/120...\", term: 0, place: 0, credit: 2, teacher_id: 2916, teacher_name: \"BISHNU KUMAR ADHIKARY\">, #<SummarizedSubject id: 2688, name: \"Curr Iss in Comp Law-1\", code: \"0308858-001\", number_of_students: nil, A: 0.0, B: 0.0, C: 0.0, D: 0.0, F: 0.0, other: 0.0, mean_score: 0.0, weighted_score: nil, faculty_id: 3, subject_id: 13183, url: \"https://syllabus.doshisha.ac.jp/html/2017/0308/103...\", term: 1, place: 0, credit: 2, teacher_id: 2522, teacher_name: \"西谷 祐子\">, #<SummarizedSubject id: 12512, name: \"日本の伝統と能楽-51\", code: \"9090097-051\", number_of_students: nil, A: 0.0, B: 0.0, C: 0.0, D: 0.0, F: 0.0, other: 0.0, mean_score: 0.0, weighted_score: nil, faculty_id: 19, subject_id: 16869, url: \"https://syllabus.doshisha.ac.jp/html/2017/9090/190...\", term: 0, place: 0, credit: 2, teacher_id: 1587, teacher_name: \"河村 晴久\">, #<SummarizedSubject id: 8291, name: \"世界近現代史-54\", code: \"6002201-054\", number_of_students: 110, A: 18.5, B: 31.5, C: 24.6667, D: 10.8333, F: 14.5, other: 0.0, mean_score: 2.26667, weighted_score: 2.25238, faculty_id: 16, subject_id: 9479, url: \"https://syllabus.doshisha.ac.jp/html/2017/6002/160...\", term: 1, place: 0, credit: 2, teacher_id: 2429, teacher_name: \"中山 俊\">, #<SummarizedSubject id: 328, name: \"Media in Eng.A(1)-1\", code: \"0210111-001\", number_of_students: 26, A: 29.05, B: 49.075, C: 15.525, D: 2.625, F: 3.725, other: 0.0, mean_score: 2.975, weighted_score: 2.92727, faculty_id: 2, subject_id: 250, url: \"https://syllabus.doshisha.ac.jp/html/2017/0210/102...\", term: 0, place: 0, credit: 2, teacher_id: 44, teacher_name: \"HENRY ATMORE\">, #<SummarizedSubject id: 7172, name: \"基幹中国語III講読-1\", code: \"1922006-001\", number_of_students: 22, A: 16.05, B: 16.4, C: 24.7, D: 29.5, F: 13.4, other: 0.0, mean_score: 1.9, weighted_score: 1.98824, faculty_id: 13, subject_id: 5835, url: \"https://syllabus.doshisha.ac.jp/html/2017/1922/119...\", term: 0, place: 1, credit: 4, teacher_id: 1524, teacher_name: \"後藤 裕也\">, #<SummarizedSubject id: 414, name: \"英語教育基礎論(2)\", code: \"0210317-000\", number_of_students: 71, A: 15.5, B: 21.1, C: 16.9, D: 16.9, F: 29.6, other: 0.0, mean_score: 1.8, weighted_score: 1.8, faculty_id: 2, subject_id: 9797, url: \"https://syllabus.doshisha.ac.jp/html/2017/0210/102...\", term: 0, place: 0, credit: 2, teacher_id: 70, teacher_name: \"田中 貴子\">, #<SummarizedSubject id: 12056, name: \"コリア語応用4-505\", code: \"6507034-505\", number_of_students: nil, A: 0.0, B: 0.0, C: 0.0, D: 0.0, F: 0.0, other: 0.0, mean_score: 0.0, weighted_score: nil, faculty_id: 18, subject_id: 16606, url: \"https://syllabus.doshisha.ac.jp/html/2017/6507/165...\", term: 1, place: 0, credit: 1, teacher_id: 3111, teacher_name: \"中村 知子\">, #<SummarizedSubject id: 11181, name: \"フランス語入門II-521\", code: \"6503012-521\", number_of_students: nil, A: 0.0, B: 0.0, C: 0.0, D: 0.0, F: 0.0, other: 0.0, mean_score: 0.0, weighted_score: nil, faculty_id: 18, subject_id: 15731, url: \"https://syllabus.doshisha.ac.jp/html/2017/6503/165...\", term: 1, place: 0, credit: 2, teacher_id: 3012, teacher_name: \"桂川 久\">, #<SummarizedSubject id: 8692, name: \"科学史・科学論1-51\", code: \"6016608-051\", number_of_students: nil, A: 0.0, B: 0.0, C: 0.0, D: 0.0, F: 0.0, other: 0.0, mean_score: 0.0, weighted_score: nil, faculty_id: 16, subject_id: 14723, url: \"https://syllabus.doshisha.ac.jp/html/2017/6016/160...\", term: 0, place: 0, credit: 2, teacher_id: 1462, teacher_name: \"林 隆夫\">, #<SummarizedSubject id: 10013, name: \"アナリティカル・リ-ディング1-588\", code: \"6501023-588\", number_of_students: 41, A: 24.4, B: 31.7, C: 19.5, D: 17.1, F: 7.3, other: 0.0, mean_score: 2.5, weighted_score: 2.5, faculty_id: 18, subject_id: 12406, url: \"https://syllabus.doshisha.ac.jp/html/2017/6501/165...\", term: 1, place: 0, credit: 1, teacher_id: 1841, teacher_name: \"中島 剛\">, #<SummarizedSubject id: 3436, name: \"簿記学II-2\", code: \"0522204-002\", number_of_students: 135, A: 35.7, B: 16.875, C: 14.55, D: 12.2, F: 20.65, other: 0.0, mean_score: 2.35, weighted_score: 2.33636, faculty_id: 5, subject_id: 2896, url: \"https://syllabus.doshisha.ac.jp/html/2017/0522/105...\", term: 1, place: 0, credit: 2, teacher_id: 2554, teacher_name: \"田中 圭\">, #<SummarizedSubject id: 10087, name: \"アナリティカル・リ-ディング2-506\", code: \"6501024-506\", number_of_students: 39, A: 21.65, B: 44.35, C: 16.725, D: 14.875, F: 2.375, other: 0.0, mean_score: 2.7, weighted_score: 2.94545, faculty_id: 18, subject_id: 7477, url: \"https://syllabus.doshisha.ac.jp/html/2017/6501/165...\", term: 0, place: 0, credit: 1, teacher_id: 2769, teacher_name: \"五十川 敬子\">, #<SummarizedSubject id: 8822, name: \"複合領域科目2-78\", code: \"6604019-078\", number_of_students: 37, A: 19.35, B: 44.675, C: 25.275, D: 0.675, F: 10.0, other: 0.0, mean_score: 2.65, weighted_score: 2.48636, faculty_id: 16, subject_id: 6617, url: \"https://syllabus.doshisha.ac.jp/html/2017/6604/166...\", term: 1, place: 0, credit: 2, teacher_id: 136, teacher_name: \"庭田 茂吉\">, #<SummarizedSubject id: 10057, name: \"アナリティカル・リ-ディング2-21\", code: \"6501024-021\", number_of_students: 38, A: 17.325, B: 33.15, C: 21.975, D: 18.075, F: 9.4, other: 0.0, mean_score: 2.3, weighted_score: 2.39545, faculty_id: 18, subject_id: 7446, url: \"https://syllabus.doshisha.ac.jp/html/2017/6501/165...\", term: 1, place: 1, credit: 1, teacher_id: 1497, teacher_name: \"山路 順子\">, #<SummarizedSubject id: 1946, name: \"特殊講義-1\", code: \"0305801-001\", number_of_students: 19, A: 98.0333, B: 1.96667, C: 0.0, D: 0.0, F: 0.0, other: 0.0, mean_score: 3.96667, weighted_score: 3.94167, faculty_id: 3, subject_id: 1122, url: \"https://syllabus.doshisha.ac.jp/html/2017/0305/103...\", term: 0, place: 0, credit: 2, teacher_id: 328, teacher_name: \"新井 京\">, #<SummarizedSubject id: 650, name: \"Communicative English Skills B II-14\", code: \"0210715-014\", number_of_students: 25, A: 26.85, B: 43.35, C: 24.6, D: 3.45, F: 1.7, other: 0.0, mean_score: 2.9, weighted_score: 2.96, faculty_id: 2, subject_id: 335, url: \"https://syllabus.doshisha.ac.jp/html/2017/0210/102...\", term: 1, place: 0, credit: 2, teacher_id: 60, teacher_name: \"MARK RICHARDSON\">, #<SummarizedSubject id: 4734, name: \"メディア学基礎演習I-3\", code: \"0932021-003\", number_of_students: 0, A: 0.0, B: 0.0, C: 0.0, D: 0.0, F: 0.0, other: 0.0, mean_score: 0.0, weighted_score: nil, faculty_id: 8, subject_id: 3786, url: \"https://syllabus.doshisha.ac.jp/html/2017/0932/109...\", term: 0, place: 0, credit: 2, teacher_id: 2866, teacher_name: \"北廣 麻貴\">, #<SummarizedSubject id: 398, name: \"英米文学特論A(5)\", code: \"0210265-000\", number_of_students: 182, A: 29.7, B: 35.75, C: 13.625, D: 4.35, F: 16.525, other: 0.0, mean_score: 2.575, weighted_score: 2.75909, faculty_id: 2, subject_id: 272, url: \"https://syllabus.doshisha.ac.jp/html/2017/0210/102...\", term: 1, place: 0, credit: 2, teacher_id: 55, teacher_name: \"圓月 勝博\">, #<SummarizedSubject id: 4193, name: \"数理モデル\", code: \"0805204-000\", number_of_students: 27, A: 22.7333, B: 18.0333, C: 11.6333, D: 12.8333, F: 34.8, other: 0.0, mean_score: 1.8, weighted_score: 1.86667, faculty_id: 7, subject_id: 3311, url: \"https://syllabus.doshisha.ac.jp/html/2017/0805/108...\", term: 0, place: 1, credit: 2, teacher_id: 2572, teacher_name: \"川﨑 廣吉\">, #<SummarizedSubject id: 7339, name: \"日本の経済と貿易\", code: \"1933204-000\", number_of_students: 27, A: 35.7, B: 23.4, C: 11.55, D: 1.9, F: 27.45, other: 0.0, mean_score: 2.4, weighted_score: 2.32941, faculty_id: 13, subject_id: 5954, url: \"https://syllabus.doshisha.ac.jp/html/2017/1933/119...\", term: 1, place: 1, credit: 2, teacher_id: 325, teacher_name: \"小田 勇一\">, #<SummarizedSubject id: 2958, name: \"情報システム論-1\", code: \"0407202-001\", number_of_students: nil, A: 0.0, B: 0.0, C: 0.0, D: 0.0, F: 0.0, other: 0.0, mean_score: 0.0, weighted_score: nil, faculty_id: 4, subject_id: 13210, url: \"https://syllabus.doshisha.ac.jp/html/2017/0407/104...\", term: 1, place: 1, credit: 2, teacher_id: 535, teacher_name: \"宮崎 耕\">, #<SummarizedSubject id: 12495, name: \"日本の伝統と芸能-51\", code: \"9090082-051\", number_of_students: nil, A: 0.0, B: 0.0, C: 0.0, D: 0.0, F: 0.0, other: 0.0, mean_score: 0.0, weighted_score: nil, faculty_id: 19, subject_id: 16865, url: \"https://syllabus.doshisha.ac.jp/html/2017/9090/190...\", term: 0, place: 0, credit: 2, teacher_id: 1586, teacher_name: \"中川 久公\">, #<SummarizedSubject id: 3828, name: \"卒業研究演習I-27\", code: \"0700131-027\", number_of_students: 0, A: 0.0, B: 0.0, C: 0.0, D: 0.0, F: 0.0, other: 0.0, mean_score: 0.0, weighted_score: nil, faculty_id: 6, subject_id: 3040, url: \"https://syllabus.doshisha.ac.jp/html/2017/0700/107...\", term: 0, place: 0, credit: 2, teacher_id: 696, teacher_name: \"今里 滋\">, #<SummarizedSubject id: 4405, name: \"数理統計II\", code: \"0806632-000\", number_of_students: 0, A: 0.0, B: 0.0, C: 0.0, D: 0.0, F: 0.0, other: 0.0, mean_score: 0.0, weighted_score: nil, faculty_id: 7, subject_id: 3468, url: \"https://syllabus.doshisha.ac.jp/html/2017/0806/108...\", term: 0, place: 1, credit: 2, teacher_id: 764, teacher_name: \"宿久 洋\">, #<SummarizedSubject id: 5369, name: \"卒業論文II-2\", code: \"1422099-002\", number_of_students: nil, A: 0.0, B: 0.0, C: 0.0, D: 0.0, F: 0.0, other: 0.0, mean_score: 0.0, weighted_score: nil, faculty_id: 9, subject_id: 13636, url: \"https://syllabus.doshisha.ac.jp/html/2017/1422/114...\", term: 1, place: 1, credit: 2, teacher_id: 1059, teacher_name: \"渡辺 好章\">, #<SummarizedSubject id: 2675, name: \"3・4年次合同演習1-120\", code: \"0308801-120\", number_of_students: nil, A: 0.0, B: 0.0, C: 0.0, D: 0.0, F: 0.0, other: 0.0, mean_score: 0.0, weighted_score: nil, faculty_id: 3, subject_id: 13175, url: \"https://syllabus.doshisha.ac.jp/html/2017/0308/103...\", term: 0, place: 0, credit: 2, teacher_id: 419, teacher_name: \"伊藤 靖史\">, #<SummarizedSubject id: 4745, name: \"メディア学演習I-3\", code: \"0932031-003\", number_of_students: 0, A: 0.0, B: 0.0, C: 0.0, D: 0.0, F: 0.0, other: 0.0, mean_score: 0.0, weighted_score: nil, faculty_id: 8, subject_id: 10507, url: \"https://syllabus.doshisha.ac.jp/html/2017/0932/109...\", term: 0, place: 0, credit: 2, teacher_id: 931, teacher_name: \"河崎 吉紀\">, #<SummarizedSubject id: 7970, name: \"地域文化理解のためのアラビア語3(コミュニケ-ション)\", code: \"2201503-000\", number_of_students: 29, A: 56.8, B: 6.85, C: 6.55, D: 9.65, F: 20.2, other: 0.0, mean_score: 2.7, weighted_score: 2.64706, faculty_id: 15, subject_id: 10665, url: \"https://syllabus.doshisha.ac.jp/html/2017/2201/122...\", term: 0, place: 0, credit: 2, teacher_id: 2508, teacher_name: \"ELBALTI BELIGH\">, #<SummarizedSubject id: 3044, name: \"オフィスICTスキルズII-5\", code: \"0407502-005\", number_of_students: 15, A: 21.5, B: 25.0, C: 9.4, D: 9.4, F: 34.65, other: 0.0, mean_score: 1.9, weighted_score: 1.98824, faculty_id: 4, subject_id: 10047, url: \"https://syllabus.doshisha.ac.jp/html/2017/0407/104...\", term: 0, place: 0, credit: 2, teacher_id: 2528, teacher_name: \"髙井 才明\">, #<SummarizedSubject id: 462, name: \"Junior Seminar I-18\", code: \"0210323-018\", number_of_students: nil, A: 0.0, B: 0.0, C: 0.0, D: 0.0, F: 0.0, other: 0.0, mean_score: 0.0, weighted_score: nil, faculty_id: 2, subject_id: 12559, url: \"https://syllabus.doshisha.ac.jp/html/2017/0210/102...\", term: 0, place: 0, credit: 2, teacher_id: 56, teacher_name: \"斉藤 延喜\">, #<SummarizedSubject id: 3307, name: \"Business English-15\", code: \"0501810-015\", number_of_students: 0, A: 0.0, B: 0.0, C: 0.0, D: 0.0, F: 0.0, other: 0.0, mean_score: 0.0, weighted_score: nil, faculty_id: 5, subject_id: 8724, url: \"https://syllabus.doshisha.ac.jp/html/2017/0501/105...\", term: 1, place: 0, credit: 2, teacher_id: 634, teacher_name: \"藤田 和孝\">, #<SummarizedSubject id: 9888, name: \"アナリティカル・リ-ディング1-8\", code: \"6501023-008\", number_of_students: 39, A: 17.4, B: 17.05, C: 25.125, D: 31.15, F: 9.275, other: 0.0, mean_score: 2.025, weighted_score: 2.04545, faculty_id: 18, subject_id: 7276, url: \"https://syllabus.doshisha.ac.jp/html/2017/6501/165...\", term: 1, place: 1, credit: 1, teacher_id: 1745, teacher_name: \"喜多 留女\">, #<SummarizedSubject id: 1585, name: \"人文地理学(2)-1\", code: \"0270128-001\", number_of_students: 17, A: 11.075, B: 26.85, C: 28.925, D: 12.325, F: 20.9, other: 0.0, mean_score: 1.95, weighted_score: 1.93636, faculty_id: 2, subject_id: 967, url: \"https://syllabus.doshisha.ac.jp/html/2017/0270/102...\", term: 1, place: 1, credit: 2, teacher_id: 248, teacher_name: \"川口 洋\">, #<SummarizedSubject id: 723, name: \"Skills in English(1)-13\", code: \"0210720-013\", number_of_students: 26, A: 23.1, B: 50.0, C: 19.2, D: 3.8, F: 3.8, other: 0.0, mean_score: 2.8, weighted_score: 2.8, faculty_id: 2, subject_id: 386, url: \"https://syllabus.doshisha.ac.jp/html/2017/0210/102...\", term: 0, place: 0, credit: 2, teacher_id: 47, teacher_name: \"大沼 由布\">, #<SummarizedSubject id: 7427, name: \"JPN MOD LITERATURE\", code: \"2000110-000\", number_of_students: nil, A: 0.0, B: 0.0, C: 0.0, D: 0.0, F: 0.0, other: 0.0, mean_score: 0.0, weighted_score: nil, faculty_id: 14, subject_id: 14165, url: \"https://syllabus.doshisha.ac.jp/html/2017/2000/120...\", term: 0, place: 0, credit: 2, teacher_id: 2914, teacher_name: \"THOMAS HACKNER\">, #<SummarizedSubject id: 10928, name: \"ドイツ語入門I-21\", code: \"6502011-021\", number_of_students: nil, A: 0.0, B: 0.0, C: 0.0, D: 0.0, F: 0.0, other: 0.0, mean_score: 0.0, weighted_score: nil, faculty_id: 18, subject_id: 15478, url: \"https://syllabus.doshisha.ac.jp/html/2017/6502/165...\", term: 0, place: 1, credit: 2, teacher_id: 389, teacher_name: \"青木 三陽\">, #<SummarizedSubject id: 349, name: \"留学ワ-クショップ(1)-4\", code: \"0210131-004\", number_of_students: 18, A: 50.0, B: 38.9, C: 5.6, D: 0.0, F: 5.6, other: 0.0, mean_score: 3.3, weighted_score: 3.3, faculty_id: 2, subject_id: 260, url: \"https://syllabus.doshisha.ac.jp/html/2017/0210/102...\", term: 1, place: 0, credit: 2, teacher_id: 46, teacher_name: \"D. RANDALL TERHUNE\">, #<SummarizedSubject id: 3466, name: \"マ-ケティング論-2\", code: \"0522323-002\", number_of_students: 367, A: 10.7, B: 34.0667, C: 28.8667, D: 18.1667, F: 8.26667, other: 0.0, mean_score: 2.2, weighted_score: 2.14286, faculty_id: 5, subject_id: 8855, url: \"https://syllabus.doshisha.ac.jp/html/2017/0522/105...\", term: 0, place: 0, credit: 2, teacher_id: 604, teacher_name: \"内野 雅之\">, #<SummarizedSubject id: 5431, name: \"細胞生物学I\", code: \"1433004-000\", number_of_students: 62, A: 42.775, B: 49.975, C: 5.825, D: 1.05, F: 0.35, other: 0.0, mean_score: 3.325, weighted_score: 3.37273, faculty_id: 9, subject_id: 4418, url: \"https://syllabus.doshisha.ac.jp/html/2017/1433/114...\", term: 0, place: 1, credit: 2, teacher_id: 1161, teacher_name: \"池川 雅哉\">, #<SummarizedSubject id: 5444, name: \"分子生物学実験\", code: \"1433016-000\", number_of_students: 67, A: 18.2, B: 52.575, C: 24.45, D: 2.8, F: 1.9, other: 0.0, mean_score: 2.825, weighted_score: 2.81818, faculty_id: 9, subject_id: 4431, url: \"https://syllabus.doshisha.ac.jp/html/2017/1433/114...\", term: 1, place: 1, credit: 2, teacher_id: 1154, teacher_name: \"舟本 聡\">, #<SummarizedSubject id: 2356, name: \"2年次演習(民法)-105\", code: \"0307701-105\", number_of_students: 0, A: 0.0, B: 0.0, C: 0.0, D: 0.0, F: 0.0, other: 0.0, mean_score: 0.0, weighted_score: nil, faculty_id: 3, subject_id: 1568, url: \"https://syllabus.doshisha.ac.jp/html/2017/0307/103...\", term: 1, place: 0, credit: 2, teacher_id: 412, teacher_name: \"梶山 玉香\">, #<SummarizedSubject id: 11470, name: \"中国語応用1-901\", code: \"6504031-901\", number_of_students: nil, A: 0.0, B: 0.0, C: 0.0, D: 0.0, F: 0.0, other: 0.0, mean_score: 0.0, weighted_score: nil, faculty_id: 18, subject_id: 16020, url: \"https://syllabus.doshisha.ac.jp/html/2017/6504/165...\", term: 0, place: 0, credit: 1, teacher_id: 3038, teacher_name: \"于 敏\">, #<SummarizedSubject id: 959, name: \"基礎演習II-14\", code: \"0210881-014\", number_of_students: nil, A: 0.0, B: 0.0, C: 0.0, D: 0.0, F: 0.0, other: 0.0, mean_score: 0.0, weighted_score: nil, faculty_id: 2, subject_id: 12759, url: \"https://syllabus.doshisha.ac.jp/html/2017/0210/102...\", term: 1, place: 0, credit: 2, teacher_id: 66, teacher_name: \"菅原 真理子\">, #<SummarizedSubject id: 8621, name: \"物質の科学1-4\", code: \"6016602-004\", number_of_students: nil, A: 0.0, B: 0.0, C: 0.0, D: 0.0, F: 0.0, other: 0.0, mean_score: 0.0, weighted_score: nil, faculty_id: 16, subject_id: 14652, url: \"https://syllabus.doshisha.ac.jp/html/2017/6016/160...\", term: 0, place: 1, credit: 2, teacher_id: 2058, teacher_name: \"木立 英行\">, #<SummarizedSubject id: 10554, name: \"イングリッシュ・ワ-クショップ1-628\", code: \"6501041-628\", number_of_students: nil, A: 0.0, B: 0.0, C: 0.0, D: 0.0, F: 0.0, other: 0.0, mean_score: 0.0, weighted_score: nil, faculty_id: 18, subject_id: 15104, url: \"https://syllabus.doshisha.ac.jp/html/2017/6501/165...\", term: 1, place: 0, credit: 1, teacher_id: 1804, teacher_name: \"JOHN GORMAN\">, #<SummarizedSubject id: 7178, name: \"基礎演習1-2\", code: \"1922051-002\", number_of_students: 0, A: 0.0, B: 0.0, C: 0.0, D: 0.0, F: 0.0, other: 0.0, mean_score: 0.0, weighted_score: nil, faculty_id: 13, subject_id: 5850, url: \"https://syllabus.doshisha.ac.jp/html/2017/1922/119...\", term: 0, place: 1, credit: 2, teacher_id: 1520, teacher_name: \"内田 尚孝\">, #<SummarizedSubject id: 11191, name: \"フランス語入門II-702\", code: \"6503012-702\", number_of_students: nil, A: 0.0, B: 0.0, C: 0.0, D: 0.0, F: 0.0, other: 0.0, mean_score: 0.0, weighted_score: nil, faculty_id: 18, subject_id: 15741, url: \"https://syllabus.doshisha.ac.jp/html/2017/6503/165...\", term: 0, place: 1, credit: 2, teacher_id: 1606, teacher_name: \"平尾 浩一\">, #<SummarizedSubject id: 12479, name: \"日本の法と政治-51\", code: \"9090069-051\", number_of_students: 0, A: 0.0, B: 0.0, C: 0.0, D: 0.0, F: 0.0, other: 0.0, mean_score: 0.0, weighted_score: nil, faculty_id: 19, subject_id: 12476, url: \"https://syllabus.doshisha.ac.jp/html/2017/9090/190...\", term: 0, place: 0, credit: 2, teacher_id: 460, teacher_name: \"中谷 直司\">, #<SummarizedSubject id: 8100, name: \"キリスト教と人間2-52\", code: \"6000012-052\", number_of_students: 194, A: 13.425, B: 19.2, C: 25.175, D: 10.3, F: 31.9, other: 0.0, mean_score: 1.725, weighted_score: 1.8, faculty_id: 16, subject_id: 6019, url: \"https://syllabus.doshisha.ac.jp/html/2017/6000/160...\", term: 1, place: 0, credit: 2, teacher_id: 1582, teacher_name: \"望月 修治\">, #<SummarizedSubject id: 9911, name: \"アナリティカル・リ-ディング1-31\", code: \"6501023-031\", number_of_students: 36, A: 7.05, B: 28.325, C: 25.175, D: 37.475, F: 1.975, other: 0.0, mean_score: 2.025, weighted_score: 2.16818, faculty_id: 18, subject_id: 7299, url: \"https://syllabus.doshisha.ac.jp/html/2017/6501/165...\", term: 0, place: 1, credit: 1, teacher_id: 1760, teacher_name: \"多賀谷 悟\">, #<SummarizedSubject id: 10253, name: \"イングリッシュ・セミナ-1-523\", code: \"6501031-523\", number_of_students: 41, A: 10.4667, B: 17.4, C: 32.7333, D: 37.7, F: 1.66667, other: 0.0, mean_score: 1.96667, weighted_score: 1.98095, faculty_id: 18, subject_id: 7642, url: \"https://syllabus.doshisha.ac.jp/html/2017/6501/165...\", term: 0, place: 0, credit: 1, teacher_id: 1819, teacher_name: \"薗田 浩一\">, #<SummarizedSubject id: 9707, name: \"英語講読1-584\", code: \"6501021-584\", number_of_students: 0, A: 0.0, B: 0.0, C: 0.0, D: 0.0, F: 0.0, other: 0.0, mean_score: 0.0, weighted_score: nil, faculty_id: 18, subject_id: 12323, url: \"https://syllabus.doshisha.ac.jp/html/2017/6501/165...\", term: 1, place: 0, credit: 1, teacher_id: 1840, teacher_name: \"小林 順\">, #<SummarizedSubject id: 6855, name: \"演習(2)-18\", code: \"1700011-018\", number_of_students: nil, A: 0.0, B: 0.0, C: 0.0, D: 0.0, F: 0.0, other: 0.0, mean_score: 0.0, weighted_score: nil, faculty_id: 12, subject_id: 14042, url: \"https://syllabus.doshisha.ac.jp/html/2017/1700/117...\", term: 0, place: 1, credit: 2, teacher_id: 2897, teacher_name: \"竹島 康博\">, #<SummarizedSubject id: 3968, name: \"アカデミック・スキル1-115\", code: \"0702003-115\", number_of_students: 0, A: 0.0, B: 0.0, C: 0.0, D: 0.0, F: 0.0, other: 0.0, mean_score: 0.0, weighted_score: nil, faculty_id: 6, subject_id: 3196, url: \"https://syllabus.doshisha.ac.jp/html/2017/0702/107...\", term: 1, place: 0, credit: 2, teacher_id: 2846, teacher_name: \"石川 愛世\">, #<SummarizedSubject id: 8399, name: \"考古学(2)-1\", code: \"6002353-001\", number_of_students: 47, A: 7.575, B: 18.65, C: 19.25, D: 39.05, F: 15.5, other: 0.0, mean_score: 1.65, weighted_score: 1.52727, faculty_id: 16, subject_id: 6264, url: \"https://syllabus.doshisha.ac.jp/html/2017/6002/160...\", term: 1, place: 1, credit: 2, teacher_id: 224, teacher_name: \"浜中 邦弘\">]"
      ]
     },
     "execution_count": 203,
     "metadata": {},
     "output_type": "execute_result"
    }
   ],
   "source": [
    "subjects.each do |subject|\n",
    "  url = subject.url\n",
    "  agent = Mechanize.new\n",
    "  page = agent.get(url)\n",
    "  data = page.css('body > div > table:nth-child(2) > tbody > tr:nth-child(4) > td')\n",
    "  children=data.children\n",
    "  table_hash = {}\n",
    "  text_hash = {}\n",
    "  tag = 'init'\n",
    "  children.each do |t|\n",
    "    text = t.text.strip\n",
    "    if t.node_name == 'table'\n",
    "      table_hash[tag] = t\n",
    "    elsif text.present?\n",
    "      if ret = text.match(/^＜(.+)＞$/)\n",
    "        p \"tag #{tag = ret[1].split('/')[0]}\"\n",
    "      else\n",
    "        text_hash[tag] = text\n",
    "      end\n",
    "    end\n",
    "  end\n",
    "  table_hash[\"成績評価基準\"].css('tbody > tr').each do |tr|\n",
    "    record_tag = tr.css('td')[0].text.strip\n",
    "    p record_tag\n",
    "    hash[record_tag] += 1\n",
    "  end\n",
    "  sleep(1)\n",
    "end"
   ]
  },
  {
   "cell_type": "code",
   "execution_count": 211,
   "metadata": {
    "collapsed": false,
    "scrolled": false
   },
   "outputs": [
    {
     "data": {
      "text/plain": [
       "[[\"期末試験 \", 37], [\"平常点(出席，クラス参加，グループ作業の成果等) \", 35], [\"平常点（出席，クラス参加，グループ作業の成果等） \", 28], [\"平常点 \", 28], [\"クラスでの発表など \", 22], [\"期末レポート試験・論文 \", 21], [\"小レポート \", 18], [\"期末レポート試験 \", 16], [\"中間レポート \", 15], [\"期末筆記試験 \", 13], [\"小テスト \", 13], [\"クラスへの貢献度 \", 11], [\"クラスで発表など \", 11], [\"期末レポート \", 11], [\"提出物 \", 11], [\"特記事項 \", 11], [\"平常点（出席，意見・感想） \", 8], [\"平常点(出席等) \", 6], [\"平常点（出席） \", 6], [\"その他（具体的に） \", 4], [\"平常点(出席，クラス参加等) \", 3], [\"平常点（出席，クラス参加，発表，グループ作業の成果等） \", 3], [\"期末テスト \", 3], [\" \", 3], [\"【文法】期末試験 \", 2], [\"【実習】期末試験 \", 2], [\"平常点（出席，授業態度など） \", 2], [\"【実習】小テスト \", 2], [\"【実習】平常点(出席，クラス参加，グループ作業の成果等) \", 2], [\"【文法】その他（具体的に） \", 2], [\"Contributions to the class including presentations, class discussions, attendance \", 2], [\"総合評価 \", 2], [\"【文法】小テスト \", 2], [\"【文法】平常点(出席，クラス参加，グループ作業の成果等) \", 2], [\"提出レポート \", 2], [\"中間テスト \", 2], [\"中間レポート試験 \", 2], [\"平常点(出席，感想) \", 2], [\"中間試験 \", 2], [\"平常点(出席，意見・感想) \", 2], [\"中間評価 \", 2], [\"オンラインクイズ \", 2], [\"【実習】その他（具体的に） \", 2], [\"平常点（出席， 中間レポート等） \", 1], [\"中間レポート試験および期末レポート試験 \", 1], [\"課題 \", 1], [\"CASEC \", 1], [\"第１回目の実験から最終回まで，それぞれの実験回数に応じて評価 \", 1], [\"授業内評価 \", 1], [\"技術点 \", 1], [\"取組点 \", 1], [\"クラス発表 \", 1], [\"論文 \", 1], [\"課題点 \", 1], [\"学期末試験 \", 1], [\"Quizzes \", 1], [\"平常点　 \", 1], [\"Book report \", 1], [\"実力試験（TOEFL） \", 1], [\"Written Assignments \", 1], [\"Group and Individual Presentations \", 1], [\"平常点(授業態度，クラス参加，グループ作業の成果等) \", 1], [\"実験レポート，製作実験，実験ノート \", 1], [\"クラスで発表（グループ発表とミニスピーチ） \", 1], [\"授業内の課題レポート \", 1], [\"その他 \", 1], [\"平常点（出席など） \", 1], [\"平常点（小テストなど） \", 1], [\"プレゼンテーション \", 1], [\"Attendance and participation \", 1], [\"In-class evaluation (Quizzes) \", 1], [\"Presentation \", 1], [\"Final Report \", 1], [\"史跡見学レポート \", 1], [\"舞台鑑賞レポート　2回 \", 1], [\"現地担当者による評価 \", 1], [\"平常点（出席，授業参加など） \", 1], [\"成果報告書（最終レポート） \", 1], [\"成果報告（事後授業での発表） \", 1], [\"事前・事後授業への出席・貢献 \", 1], [\"Examination \", 1], [\"期末レポート試験，提出物等 \", 1], [\"中間試験，小テスト等 \", 1], [\"平常点(出席，クラスでの発表，授業態度等) \", 1], [\"平常点(出席，クラス参加，小テストの成績等) \", 1], [\"出席回数 \", 1], [\"中間評価(または小テスト) \", 1], [\"期末評価 \", 1], [\"Participation and Attendance \", 1], [\"Presentation， Homework and Quizzes \", 1], [\"TOEFL-ITPリスニングのセクション \", 1], [\"期末テスト（書物，資料など持込可能） \", 1], [\"レポート課題 \", 1], [\"最終評価 \", 1], [\"実習評価 \", 1], [\"テスト \", 1], [\"単語テスト \", 1], [\"Report submission \", 1], [\"平常点（出席，課題の提出，小テストなど） \", 1], [\"Mid-term exam (first speech test)  \", 1], [\"Final exam (second speech test)  \", 1], [\"Class participation \", 1], [\"平常点（出席，小テスト等） \", 1], [\"出席 \", 1], [\"報告担当回の評価 \", 1], [\"報告担当回以外の評価 \", 1], [\"提出物の評価 \", 1], [\"ゼミ運営への貢献 \", 1], [\"平常点（出席，クラス参加など） \", 1], [\"総括 \", 1], [\"発表 \", 1], [\"Attendance / Participation \", 1], [\"Homework \", 1], [\"Personal Reaction Presentation \", 1], [\"Role Play \", 1], [\"クラスでの発表 \", 1], [\"ブックレポート \", 1], [\"中間試験及び総括 \", 1], [\"平常点(クラス参加，グループ作業の成果等) \", 1], [\"レポート \", 1], [\"クラスでの発表（グループワーク，ディベート，ディスカッション，報告等） \", 1]]"
      ]
     },
     "execution_count": 211,
     "metadata": {},
     "output_type": "execute_result"
    }
   ],
   "source": [
    "new_hash = Hash.new(0)\n",
    "hash.sort_by {|k, v| -v }.each do |h|\n",
    "  if h[0].include?(\"平常点\")\n",
    "    new_hash[\"平常点\"] += h[1].to_i\n",
    "  else\n",
    "    new_hash[h[0]] += h[1].to_i\n",
    "  end\n",
    "end"
   ]
  },
  {
   "cell_type": "code",
   "execution_count": 212,
   "metadata": {
    "collapsed": false
   },
   "outputs": [
    {
     "name": "stdout",
     "output_type": "stream",
     "text": [
      "[\"平常点\", 139]\n",
      "[\"期末試験 \", 37]\n",
      "[\"クラスでの発表など \", 22]\n",
      "[\"期末レポート試験・論文 \", 21]\n",
      "[\"小レポート \", 18]\n",
      "[\"期末レポート試験 \", 16]\n",
      "[\"中間レポート \", 15]\n",
      "[\"期末筆記試験 \", 13]\n",
      "[\"小テスト \", 13]\n",
      "[\"クラスへの貢献度 \", 11]\n",
      "[\"クラスで発表など \", 11]\n",
      "[\"期末レポート \", 11]\n",
      "[\"特記事項 \", 11]\n",
      "[\"提出物 \", 11]\n",
      "[\"その他（具体的に） \", 4]\n",
      "[\" \", 3]\n",
      "[\"期末テスト \", 3]\n",
      "[\"【文法】期末試験 \", 2]\n",
      "[\"【実習】期末試験 \", 2]\n",
      "[\"【実習】小テスト \", 2]\n",
      "[\"【文法】その他（具体的に） \", 2]\n",
      "[\"Contributions to the class including presentations, class discussions, attendance \", 2]\n",
      "[\"総合評価 \", 2]\n",
      "[\"【文法】小テスト \", 2]\n",
      "[\"提出レポート \", 2]\n",
      "[\"中間テスト \", 2]\n",
      "[\"中間レポート試験 \", 2]\n",
      "[\"中間試験 \", 2]\n",
      "[\"中間評価 \", 2]\n",
      "[\"オンラインクイズ \", 2]\n",
      "[\"【実習】その他（具体的に） \", 2]\n",
      "[\"レポート課題 \", 1]\n",
      "[\"課題 \", 1]\n",
      "[\"CASEC \", 1]\n",
      "[\"第１回目の実験から最終回まで，それぞれの実験回数に応じて評価 \", 1]\n",
      "[\"授業内評価 \", 1]\n",
      "[\"技術点 \", 1]\n",
      "[\"取組点 \", 1]\n",
      "[\"クラス発表 \", 1]\n",
      "[\"論文 \", 1]\n",
      "[\"課題点 \", 1]\n",
      "[\"学期末試験 \", 1]\n",
      "[\"Quizzes \", 1]\n",
      "[\"Book report \", 1]\n",
      "[\"実力試験（TOEFL） \", 1]\n",
      "[\"Written Assignments \", 1]\n",
      "[\"Group and Individual Presentations \", 1]\n",
      "[\"実験レポート，製作実験，実験ノート \", 1]\n",
      "[\"クラスで発表（グループ発表とミニスピーチ） \", 1]\n",
      "[\"授業内の課題レポート \", 1]\n",
      "[\"その他 \", 1]\n",
      "[\"プレゼンテーション \", 1]\n",
      "[\"Attendance and participation \", 1]\n",
      "[\"In-class evaluation (Quizzes) \", 1]\n",
      "[\"Presentation \", 1]\n",
      "[\"Final Report \", 1]\n",
      "[\"史跡見学レポート \", 1]\n",
      "[\"舞台鑑賞レポート　2回 \", 1]\n",
      "[\"現地担当者による評価 \", 1]\n",
      "[\"成果報告書（最終レポート） \", 1]\n",
      "[\"成果報告（事後授業での発表） \", 1]\n",
      "[\"事前・事後授業への出席・貢献 \", 1]\n",
      "[\"Examination \", 1]\n",
      "[\"期末レポート試験，提出物等 \", 1]\n",
      "[\"中間試験，小テスト等 \", 1]\n",
      "[\"出席回数 \", 1]\n",
      "[\"中間評価(または小テスト) \", 1]\n",
      "[\"期末評価 \", 1]\n",
      "[\"Participation and Attendance \", 1]\n",
      "[\"Presentation， Homework and Quizzes \", 1]\n",
      "[\"TOEFL-ITPリスニングのセクション \", 1]\n",
      "[\"期末テスト（書物，資料など持込可能） \", 1]\n",
      "[\"中間レポート試験および期末レポート試験 \", 1]\n",
      "[\"最終評価 \", 1]\n",
      "[\"実習評価 \", 1]\n",
      "[\"テスト \", 1]\n",
      "[\"単語テスト \", 1]\n",
      "[\"Report submission \", 1]\n",
      "[\"Mid-term exam (first speech test)  \", 1]\n",
      "[\"Final exam (second speech test)  \", 1]\n",
      "[\"Class participation \", 1]\n",
      "[\"出席 \", 1]\n",
      "[\"報告担当回の評価 \", 1]\n",
      "[\"報告担当回以外の評価 \", 1]\n",
      "[\"提出物の評価 \", 1]\n",
      "[\"ゼミ運営への貢献 \", 1]\n",
      "[\"総括 \", 1]\n",
      "[\"発表 \", 1]\n",
      "[\"Attendance / Participation \", 1]\n",
      "[\"Homework \", 1]\n",
      "[\"Personal Reaction Presentation \", 1]\n",
      "[\"Role Play \", 1]\n",
      "[\"クラスでの発表 \", 1]\n",
      "[\"ブックレポート \", 1]\n",
      "[\"中間試験及び総括 \", 1]\n",
      "[\"レポート \", 1]\n",
      "[\"クラスでの発表（グループワーク，ディベート，ディスカッション，報告等） \", 1]\n"
     ]
    },
    {
     "data": {
      "text/plain": [
       "[[\"平常点\", 139], [\"期末試験 \", 37], [\"クラスでの発表など \", 22], [\"期末レポート試験・論文 \", 21], [\"小レポート \", 18], [\"期末レポート試験 \", 16], [\"中間レポート \", 15], [\"期末筆記試験 \", 13], [\"小テスト \", 13], [\"クラスへの貢献度 \", 11], [\"クラスで発表など \", 11], [\"期末レポート \", 11], [\"特記事項 \", 11], [\"提出物 \", 11], [\"その他（具体的に） \", 4], [\" \", 3], [\"期末テスト \", 3], [\"【文法】期末試験 \", 2], [\"【実習】期末試験 \", 2], [\"【実習】小テスト \", 2], [\"【文法】その他（具体的に） \", 2], [\"Contributions to the class including presentations, class discussions, attendance \", 2], [\"総合評価 \", 2], [\"【文法】小テスト \", 2], [\"提出レポート \", 2], [\"中間テスト \", 2], [\"中間レポート試験 \", 2], [\"中間試験 \", 2], [\"中間評価 \", 2], [\"オンラインクイズ \", 2], [\"【実習】その他（具体的に） \", 2], [\"レポート課題 \", 1], [\"課題 \", 1], [\"CASEC \", 1], [\"第１回目の実験から最終回まで，それぞれの実験回数に応じて評価 \", 1], [\"授業内評価 \", 1], [\"技術点 \", 1], [\"取組点 \", 1], [\"クラス発表 \", 1], [\"論文 \", 1], [\"課題点 \", 1], [\"学期末試験 \", 1], [\"Quizzes \", 1], [\"Book report \", 1], [\"実力試験（TOEFL） \", 1], [\"Written Assignments \", 1], [\"Group and Individual Presentations \", 1], [\"実験レポート，製作実験，実験ノート \", 1], [\"クラスで発表（グループ発表とミニスピーチ） \", 1], [\"授業内の課題レポート \", 1], [\"その他 \", 1], [\"プレゼンテーション \", 1], [\"Attendance and participation \", 1], [\"In-class evaluation (Quizzes) \", 1], [\"Presentation \", 1], [\"Final Report \", 1], [\"史跡見学レポート \", 1], [\"舞台鑑賞レポート　2回 \", 1], [\"現地担当者による評価 \", 1], [\"成果報告書（最終レポート） \", 1], [\"成果報告（事後授業での発表） \", 1], [\"事前・事後授業への出席・貢献 \", 1], [\"Examination \", 1], [\"期末レポート試験，提出物等 \", 1], [\"中間試験，小テスト等 \", 1], [\"出席回数 \", 1], [\"中間評価(または小テスト) \", 1], [\"期末評価 \", 1], [\"Participation and Attendance \", 1], [\"Presentation， Homework and Quizzes \", 1], [\"TOEFL-ITPリスニングのセクション \", 1], [\"期末テスト（書物，資料など持込可能） \", 1], [\"中間レポート試験および期末レポート試験 \", 1], [\"最終評価 \", 1], [\"実習評価 \", 1], [\"テスト \", 1], [\"単語テスト \", 1], [\"Report submission \", 1], [\"Mid-term exam (first speech test)  \", 1], [\"Final exam (second speech test)  \", 1], [\"Class participation \", 1], [\"出席 \", 1], [\"報告担当回の評価 \", 1], [\"報告担当回以外の評価 \", 1], [\"提出物の評価 \", 1], [\"ゼミ運営への貢献 \", 1], [\"総括 \", 1], [\"発表 \", 1], [\"Attendance / Participation \", 1], [\"Homework \", 1], [\"Personal Reaction Presentation \", 1], [\"Role Play \", 1], [\"クラスでの発表 \", 1], [\"ブックレポート \", 1], [\"中間試験及び総括 \", 1], [\"レポート \", 1], [\"クラスでの発表（グループワーク，ディベート，ディスカッション，報告等） \", 1]]"
      ]
     },
     "execution_count": 212,
     "metadata": {},
     "output_type": "execute_result"
    }
   ],
   "source": [
    "new_hash.sort_by {|k, v| -v }.each do |h|\n",
    "  p h\n",
    "end"
   ]
  },
  {
   "cell_type": "code",
   "execution_count": 19,
   "metadata": {
    "collapsed": false
   },
   "outputs": [
    {
     "ename": "NameError",
     "evalue": "undefined local variable or method `table_hash' for main:Object",
     "output_type": "error",
     "traceback": [
      "\u001b[31mNameError\u001b[0m: undefined local variable or method `table_hash' for main:Object",
      "\u001b[37m(pry):211:in `<main>'\u001b[0m",
      "\u001b[37m/Users/sato/hobby/doshisha-tanni/syllabus_plus/vendor/bundle/ruby/2.2.0/gems/pry-0.10.4/lib/pry/pry_instance.rb:355:in `eval'\u001b[0m",
      "\u001b[37m/Users/sato/hobby/doshisha-tanni/syllabus_plus/vendor/bundle/ruby/2.2.0/gems/pry-0.10.4/lib/pry/pry_instance.rb:355:in `evaluate_ruby'\u001b[0m",
      "\u001b[37m/Users/sato/hobby/doshisha-tanni/syllabus_plus/vendor/bundle/ruby/2.2.0/gems/pry-0.10.4/lib/pry/pry_instance.rb:323:in `handle_line'\u001b[0m",
      "\u001b[37m/Users/sato/hobby/doshisha-tanni/syllabus_plus/vendor/bundle/ruby/2.2.0/gems/pry-0.10.4/lib/pry/pry_instance.rb:243:in `block (2 levels) in eval'\u001b[0m",
      "\u001b[37m/Users/sato/hobby/doshisha-tanni/syllabus_plus/vendor/bundle/ruby/2.2.0/gems/pry-0.10.4/lib/pry/pry_instance.rb:242:in `catch'\u001b[0m",
      "\u001b[37m/Users/sato/hobby/doshisha-tanni/syllabus_plus/vendor/bundle/ruby/2.2.0/gems/pry-0.10.4/lib/pry/pry_instance.rb:242:in `block in eval'\u001b[0m",
      "\u001b[37m/Users/sato/hobby/doshisha-tanni/syllabus_plus/vendor/bundle/ruby/2.2.0/gems/pry-0.10.4/lib/pry/pry_instance.rb:241:in `catch'\u001b[0m",
      "\u001b[37m/Users/sato/hobby/doshisha-tanni/syllabus_plus/vendor/bundle/ruby/2.2.0/gems/pry-0.10.4/lib/pry/pry_instance.rb:241:in `eval'\u001b[0m",
      "\u001b[37m/Users/sato/.rbenv/versions/2.2.3/lib/ruby/gems/2.2.0/gems/iruby-0.2.9/lib/iruby/backend.rb:66:in `eval'\u001b[0m",
      "\u001b[37m/Users/sato/.rbenv/versions/2.2.3/lib/ruby/gems/2.2.0/gems/iruby-0.2.9/lib/iruby/backend.rb:12:in `eval'\u001b[0m",
      "\u001b[37m/Users/sato/.rbenv/versions/2.2.3/lib/ruby/gems/2.2.0/gems/iruby-0.2.9/lib/iruby/kernel.rb:87:in `execute_request'\u001b[0m",
      "\u001b[37m/Users/sato/.rbenv/versions/2.2.3/lib/ruby/gems/2.2.0/gems/iruby-0.2.9/lib/iruby/kernel.rb:47:in `dispatch'\u001b[0m",
      "\u001b[37m/Users/sato/.rbenv/versions/2.2.3/lib/ruby/gems/2.2.0/gems/iruby-0.2.9/lib/iruby/kernel.rb:37:in `run'\u001b[0m",
      "\u001b[37m/Users/sato/.rbenv/versions/2.2.3/lib/ruby/gems/2.2.0/gems/iruby-0.2.9/lib/iruby/command.rb:70:in `run_kernel'\u001b[0m",
      "\u001b[37m/Users/sato/.rbenv/versions/2.2.3/lib/ruby/gems/2.2.0/gems/iruby-0.2.9/lib/iruby/command.rb:34:in `run'\u001b[0m",
      "\u001b[37m/Users/sato/.rbenv/versions/2.2.3/lib/ruby/gems/2.2.0/gems/iruby-0.2.9/bin/iruby:5:in `<top (required)>'\u001b[0m",
      "\u001b[37m/Users/sato/.rbenv/versions/2.2.3/bin/iruby:23:in `load'\u001b[0m",
      "\u001b[37m/Users/sato/.rbenv/versions/2.2.3/bin/iruby:23:in `<main>'\u001b[0m"
     ]
    }
   ],
   "source": [
    "table_hash"
   ]
  },
  {
   "cell_type": "markdown",
   "metadata": {},
   "source": [
    "## テキストから書籍名を取ってくる"
   ]
  },
  {
   "cell_type": "code",
   "execution_count": 64,
   "metadata": {
    "collapsed": false
   },
   "outputs": [
    {
     "data": {
      "text/plain": [
       "\"\\n\\n\\n\\n\\n\\nハイデッガー \\n『存在と時間（I, II, III）』原佑・渡邉二郎訳 (中公クラシックス、2003)\\n\\n\\n\\n\\n\\n \\n\\n\\n\\n\\n\\nレヴィナス \\n『全体性と無限（上・下）』熊野純彦訳 (岩波文庫、2006)\\n\\n\\n\\n\\n\\n \\n\\n\\n\""
      ]
     },
     "execution_count": 64,
     "metadata": {},
     "output_type": "execute_result"
    }
   ],
   "source": [
    "t=table_hash[\"参考文献\"].text"
   ]
  },
  {
   "cell_type": "code",
   "execution_count": 66,
   "metadata": {
    "collapsed": false
   },
   "outputs": [
    {
     "data": {
      "text/plain": [
       "\"存在と時間（I, II, III）\""
      ]
     },
     "execution_count": 66,
     "metadata": {},
     "output_type": "execute_result"
    }
   ],
   "source": [
    "keyword = t.match(/『(.+)』/)[1]"
   ]
  },
  {
   "cell_type": "markdown",
   "metadata": {
    "collapsed": true
   },
   "source": [
    "# Amazon URL\n",
    "検索のキーワードを指定し，検索結果画面のリンクを作成する  \n",
    "root: \"https://www.amazon.co.jp/s/ref=as_li_ss_tl?__mk_ja_JP=%E3%82%AB%E3%82%BF%E3%82%AB%E3%83%8A&url=search-alias=stripbooks&field-keywords=#{keyword}&rh=n:465392,k:#{keyword}&linkCode=ll2&tag=johshisha-22\""
   ]
  },
  {
   "cell_type": "code",
   "execution_count": 67,
   "metadata": {
    "collapsed": false
   },
   "outputs": [
    {
     "data": {
      "text/plain": [
       "\"https://www.amazon.co.jp/s/ref=as_li_ss_tl?__mk_ja_JP=%E3%82%AB%E3%82%BF%E3%82%AB%E3%83%8A&url=search-alias=stripbooks&field-keywords=存在と時間（I, II, III）&rh=n:465392,k:存在と時間（I, II, III）&linkCode=ll2&tag=johshisha-22\""
      ]
     },
     "execution_count": 67,
     "metadata": {},
     "output_type": "execute_result"
    }
   ],
   "source": [
    "#keyword = \"ゼロから始める\"\n",
    "url = \"https://www.amazon.co.jp/s/ref=as_li_ss_tl?__mk_ja_JP=%E3%82%AB%E3%82%BF%E3%82%AB%E3%83%8A&url=search-alias=stripbooks&field-keywords=#{keyword}&rh=n:465392,k:#{keyword}&linkCode=ll2&tag=johshisha-22\""
   ]
  },
  {
   "cell_type": "code",
   "execution_count": null,
   "metadata": {
    "collapsed": true
   },
   "outputs": [],
   "source": []
  }
 ],
 "metadata": {
  "kernelspec": {
   "display_name": "Ruby 2.2.3",
   "language": "ruby",
   "name": "ruby"
  },
  "language_info": {
   "file_extension": ".rb",
   "mimetype": "application/x-ruby",
   "name": "ruby",
   "version": "2.2.3"
  }
 },
 "nbformat": 4,
 "nbformat_minor": 1
}
