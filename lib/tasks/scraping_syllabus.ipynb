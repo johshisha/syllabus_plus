{
 "cells": [
  {
   "cell_type": "code",
   "execution_count": 1,
   "metadata": {
    "collapsed": false
   },
   "outputs": [
    {
     "data": {
      "text/plain": [
       "true"
      ]
     },
     "execution_count": 1,
     "metadata": {},
     "output_type": "execute_result"
    }
   ],
   "source": [
    "FileUtils.cd '../../'\n",
    "require './config/boot'\n",
    "APP_PATH  = File.expand_path('config/application') unless defined?(APP_PATH)\n",
    "require APP_PATH\n",
    "Rails.application.require_environment!"
   ]
  },
  {
   "cell_type": "code",
   "execution_count": 2,
   "metadata": {
    "collapsed": false
   },
   "outputs": [
    {
     "data": {
      "text/plain": [
       "true"
      ]
     },
     "execution_count": 2,
     "metadata": {},
     "output_type": "execute_result"
    }
   ],
   "source": [
    "require \"#{Rails.root}/app/models/subject\"\n",
    "require \"#{Rails.root}/app/models/year_datum\"\n",
    "require \"#{Rails.root}/app/models/faculty\"\n",
    "require \"#{Rails.root}/app/models/subject_score\"\n",
    "require \"#{Rails.root}/app/models/summarized_subject\""
   ]
  },
  {
   "cell_type": "code",
   "execution_count": 3,
   "metadata": {
    "collapsed": false
   },
   "outputs": [
    {
     "data": {
      "text/plain": [
       "false"
      ]
     },
     "execution_count": 3,
     "metadata": {},
     "output_type": "execute_result"
    }
   ],
   "source": [
    "require 'open-uri'\n",
    "require 'nokogiri'\n",
    "require 'mechanize'\n",
    "require 'robotex'"
   ]
  },
  {
   "cell_type": "code",
   "execution_count": 42,
   "metadata": {
    "collapsed": false
   },
   "outputs": [
    {
     "data": {
      "text/plain": [
       "{}"
      ]
     },
     "execution_count": 42,
     "metadata": {},
     "output_type": "execute_result"
    }
   ],
   "source": [
    "hash = Hash.new(0)"
   ]
  },
  {
   "cell_type": "markdown",
   "metadata": {},
   "source": [
    "## 設定"
   ]
  },
  {
   "cell_type": "code",
   "execution_count": 10,
   "metadata": {
    "collapsed": false
   },
   "outputs": [
    {
     "data": {
      "text/plain": [
       "\"https://syllabus.doshisha.ac.jp/html/2016/03/103001003.html\""
      ]
     },
     "execution_count": 10,
     "metadata": {},
     "output_type": "execute_result"
    }
   ],
   "source": [
    "# 神学部 神学入門－3 \n",
    "url = 'https://syllabus.doshisha.ac.jp/html/2016/03/103001003.html'"
   ]
  },
  {
   "cell_type": "code",
   "execution_count": 54,
   "metadata": {
    "collapsed": false
   },
   "outputs": [
    {
     "data": {
      "text/plain": [
       "\"https://syllabus.doshisha.ac.jp/html/2016/11/111079000.html\""
      ]
     },
     "execution_count": 54,
     "metadata": {},
     "output_type": "execute_result"
    }
   ],
   "source": [
    "# 文学 現代哲学（１）\n",
    "url = 'https://syllabus.doshisha.ac.jp/html/2016/11/111079000.html'"
   ]
  },
  {
   "cell_type": "code",
   "execution_count": 45,
   "metadata": {
    "collapsed": false
   },
   "outputs": [
    {
     "data": {
      "text/plain": [
       "\"https://syllabus.doshisha.ac.jp/html/2015/37/137584004.html\""
      ]
     },
     "execution_count": 45,
     "metadata": {},
     "output_type": "execute_result"
    }
   ],
   "source": [
    "url = 'https://syllabus.doshisha.ac.jp/html/2015/37/137584004.html'"
   ]
  },
  {
   "cell_type": "code",
   "execution_count": 55,
   "metadata": {
    "collapsed": false
   },
   "outputs": [
    {
     "name": "stdout",
     "output_type": "stream",
     "text": [
      "\"robots: false\"\n"
     ]
    },
    {
     "data": {
      "text/plain": [
       "\"\""
      ]
     },
     "execution_count": 55,
     "metadata": {},
     "output_type": "execute_result"
    }
   ],
   "source": [
    "agent = Mechanize.new\n",
    "robotex = Robotex.new\n",
    "p \"robots: #{robotex.allowed?(url)}\"\n",
    "page = agent.get(url)\n",
    "''"
   ]
  },
  {
   "cell_type": "markdown",
   "metadata": {},
   "source": [
    "## スクレイピング\n",
    "タグ（項目？）ごとにtable, textのハッシュを作成"
   ]
  },
  {
   "cell_type": "code",
   "execution_count": 56,
   "metadata": {
    "collapsed": false,
    "scrolled": true
   },
   "outputs": [
    {
     "data": {
      "text/plain": [
       "\"\""
      ]
     },
     "execution_count": 56,
     "metadata": {},
     "output_type": "execute_result"
    }
   ],
   "source": [
    "data = page.css('body > div > table:nth-child(2) > tbody > tr:nth-child(4) > td')\n",
    "children=data.children\n",
    "''"
   ]
  },
  {
   "cell_type": "code",
   "execution_count": 57,
   "metadata": {
    "collapsed": false
   },
   "outputs": [
    {
     "data": {
      "text/plain": [
       "\"init\""
      ]
     },
     "execution_count": 57,
     "metadata": {},
     "output_type": "execute_result"
    }
   ],
   "source": [
    "table_hash = {}\n",
    "text_hash = {}\n",
    "tag = 'init'"
   ]
  },
  {
   "cell_type": "code",
   "execution_count": 58,
   "metadata": {
    "collapsed": false,
    "scrolled": false
   },
   "outputs": [
    {
     "name": "stdout",
     "output_type": "stream",
     "text": [
      "\"tag 概要\"\n",
      "\"tag 到達目標\"\n",
      "\"tag 授業計画\"\n",
      "\"tag 成績評価基準\"\n",
      "\"tag 参考文献\"\n"
     ]
    },
    {
     "data": {
      "text/plain": [
       "[\"授業計画\", \"成績評価基準\", \"参考文献\"]"
      ]
     },
     "execution_count": 58,
     "metadata": {},
     "output_type": "execute_result"
    }
   ],
   "source": [
    "children.each do |t|\n",
    "  text = t.text.strip\n",
    "  if t.node_name == 'table'\n",
    "    table_hash[tag] = t\n",
    "  elsif text.present?\n",
    "    if ret = text.match(/^＜(.+)＞$/)\n",
    "      p \"tag #{tag = ret[1]}\"\n",
    "    else\n",
    "      text_hash[tag] = text\n",
    "    end\n",
    "  end\n",
    "end\n",
    "''\n",
    "table_hash.keys"
   ]
  },
  {
   "cell_type": "code",
   "execution_count": 59,
   "metadata": {
    "collapsed": false,
    "scrolled": true
   },
   "outputs": [
    {
     "data": {
      "text/plain": [
       "\"\\n平常点 \\n\\n期末試験 \\n\""
      ]
     },
     "execution_count": 59,
     "metadata": {},
     "output_type": "execute_result"
    }
   ],
   "source": [
    "table_hash[\"成績評価基準\"].css('tbody > tr > td:nth-child(1)').text"
   ]
  },
  {
   "cell_type": "code",
   "execution_count": 60,
   "metadata": {
    "collapsed": false
   },
   "outputs": [
    {
     "data": {
      "text/plain": [
       "\"\\n30% \\n\\n70% \\n\""
      ]
     },
     "execution_count": 60,
     "metadata": {},
     "output_type": "execute_result"
    }
   ],
   "source": [
    "table_hash[\"成績評価基準\"].css('tbody > tr > td:nth-child(2)').text"
   ]
  },
  {
   "cell_type": "code",
   "execution_count": 61,
   "metadata": {
    "collapsed": false
   },
   "outputs": [
    {
     "name": "stdout",
     "output_type": "stream",
     "text": [
      "\"平常点 \"\n",
      "\"期末試験 \"\n"
     ]
    },
    {
     "data": {
      "text/plain": [
       "0"
      ]
     },
     "execution_count": 61,
     "metadata": {},
     "output_type": "execute_result"
    }
   ],
   "source": [
    "table_hash[\"成績評価基準\"].css('tbody > tr').each do |tr|\n",
    "  tag = tr.css('td')[0].text.strip\n",
    "  p tag\n",
    "  hash[tag] += 1\n",
    "end"
   ]
  },
  {
   "cell_type": "code",
   "execution_count": 62,
   "metadata": {
    "collapsed": false
   },
   "outputs": [
    {
     "data": {
      "text/plain": [
       "{\"平常点（出席，クラス参加，グループ作業の成果等） \"=>1, \"小レポート \"=>1, \"平常点(出席，クラス参加，グループ作業の成果等) \"=>1, \"平常点 \"=>1, \"期末試験 \"=>1}"
      ]
     },
     "execution_count": 62,
     "metadata": {},
     "output_type": "execute_result"
    }
   ],
   "source": [
    "hash"
   ]
  },
  {
   "cell_type": "code",
   "execution_count": 63,
   "metadata": {
    "collapsed": false
   },
   "outputs": [
    {
     "data": {
      "text/plain": [
       "{\"概要\"=>\"本講義では、２０世紀における存在論の展開を取り上げます。アリストテレス以来、重要な哲学的主題の一つであり続けた存在論は、２０世紀に新たな展開をみます。ドイツでは、古典的存在論が、現象学的方法の発展と相まって深化を遂げ、フランスでは、異なる歴史的文脈から、このドイツの運動に新たな方向性がつけ加えられることになります。こうした２０世紀存在論の展開とそれに対するフランス現象学独自の貢献を、歴史的な背景を詳解しながら、明らかにしたいと思います。　　キーワード：存在、ハイデガー、実存論的分析論、レヴィナス、感覚\", \"到達目標\"=>\"２０世紀の主要な哲学的思考様式の一つを学び，現代哲学における存在論の意義と他の思想に与えた影響の広がりを把握することを目指します。\", \"授業計画\"=>\"授業計画は，受講生と相談の上で，適宜変更する場合があります。\", \"参考文献\"=>\"その他の関連文献については，各回に紹介します\"}"
      ]
     },
     "execution_count": 63,
     "metadata": {},
     "output_type": "execute_result"
    }
   ],
   "source": [
    "text_hash"
   ]
  },
  {
   "cell_type": "markdown",
   "metadata": {},
   "source": [
    "## テキストから書籍名を取ってくる"
   ]
  },
  {
   "cell_type": "code",
   "execution_count": 64,
   "metadata": {
    "collapsed": false
   },
   "outputs": [
    {
     "data": {
      "text/plain": [
       "\"\\n\\n\\n\\n\\n\\nハイデッガー \\n『存在と時間（I, II, III）』原佑・渡邉二郎訳 (中公クラシックス、2003)\\n\\n\\n\\n\\n\\n \\n\\n\\n\\n\\n\\nレヴィナス \\n『全体性と無限（上・下）』熊野純彦訳 (岩波文庫、2006)\\n\\n\\n\\n\\n\\n \\n\\n\\n\""
      ]
     },
     "execution_count": 64,
     "metadata": {},
     "output_type": "execute_result"
    }
   ],
   "source": [
    "t=table_hash[\"参考文献\"].text"
   ]
  },
  {
   "cell_type": "code",
   "execution_count": 66,
   "metadata": {
    "collapsed": false
   },
   "outputs": [
    {
     "data": {
      "text/plain": [
       "\"存在と時間（I, II, III）\""
      ]
     },
     "execution_count": 66,
     "metadata": {},
     "output_type": "execute_result"
    }
   ],
   "source": [
    "keyword = t.match(/『(.+)』/)[1]"
   ]
  },
  {
   "cell_type": "markdown",
   "metadata": {
    "collapsed": true
   },
   "source": [
    "# Amazon URL\n",
    "検索のキーワードを指定し，検索結果画面のリンクを作成する  \n",
    "root: \"https://www.amazon.co.jp/s/ref=as_li_ss_tl?__mk_ja_JP=%E3%82%AB%E3%82%BF%E3%82%AB%E3%83%8A&url=search-alias=stripbooks&field-keywords=#{keyword}&rh=n:465392,k:#{keyword}&linkCode=ll2&tag=johshisha-22\""
   ]
  },
  {
   "cell_type": "code",
   "execution_count": 67,
   "metadata": {
    "collapsed": false
   },
   "outputs": [
    {
     "data": {
      "text/plain": [
       "\"https://www.amazon.co.jp/s/ref=as_li_ss_tl?__mk_ja_JP=%E3%82%AB%E3%82%BF%E3%82%AB%E3%83%8A&url=search-alias=stripbooks&field-keywords=存在と時間（I, II, III）&rh=n:465392,k:存在と時間（I, II, III）&linkCode=ll2&tag=johshisha-22\""
      ]
     },
     "execution_count": 67,
     "metadata": {},
     "output_type": "execute_result"
    }
   ],
   "source": [
    "#keyword = \"ゼロから始める\"\n",
    "url = \"https://www.amazon.co.jp/s/ref=as_li_ss_tl?__mk_ja_JP=%E3%82%AB%E3%82%BF%E3%82%AB%E3%83%8A&url=search-alias=stripbooks&field-keywords=#{keyword}&rh=n:465392,k:#{keyword}&linkCode=ll2&tag=johshisha-22\""
   ]
  },
  {
   "cell_type": "code",
   "execution_count": null,
   "metadata": {
    "collapsed": true
   },
   "outputs": [],
   "source": []
  }
 ],
 "metadata": {
  "kernelspec": {
   "display_name": "Ruby 2.2.3",
   "language": "ruby",
   "name": "ruby"
  },
  "language_info": {
   "file_extension": ".rb",
   "mimetype": "application/x-ruby",
   "name": "ruby",
   "version": "2.2.3"
  }
 },
 "nbformat": 4,
 "nbformat_minor": 1
}
