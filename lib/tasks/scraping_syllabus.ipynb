{
 "cells": [
  {
   "cell_type": "code",
   "execution_count": 1,
   "metadata": {
    "collapsed": false
   },
   "outputs": [
    {
     "data": {
      "text/plain": [
       "true"
      ]
     },
     "execution_count": 1,
     "metadata": {},
     "output_type": "execute_result"
    }
   ],
   "source": [
    "FileUtils.cd '../../'\n",
    "require './config/boot'\n",
    "APP_PATH  = File.expand_path('config/application') unless defined?(APP_PATH)\n",
    "require APP_PATH\n",
    "Rails.application.require_environment!"
   ]
  },
  {
   "cell_type": "code",
   "execution_count": 2,
   "metadata": {
    "collapsed": false
   },
   "outputs": [
    {
     "data": {
      "text/plain": [
       "true"
      ]
     },
     "execution_count": 2,
     "metadata": {},
     "output_type": "execute_result"
    }
   ],
   "source": [
    "require \"#{Rails.root}/app/models/subject\"\n",
    "require \"#{Rails.root}/app/models/year_datum\"\n",
    "require \"#{Rails.root}/app/models/faculty\"\n",
    "require \"#{Rails.root}/app/models/subject_score\"\n",
    "require \"#{Rails.root}/app/models/summarized_subject\""
   ]
  },
  {
   "cell_type": "code",
   "execution_count": 3,
   "metadata": {
    "collapsed": false
   },
   "outputs": [
    {
     "data": {
      "text/plain": [
       "false"
      ]
     },
     "execution_count": 3,
     "metadata": {},
     "output_type": "execute_result"
    }
   ],
   "source": [
    "require 'open-uri'\n",
    "require 'nokogiri'\n",
    "require 'mechanize'\n",
    "require 'robotex'"
   ]
  },
  {
   "cell_type": "markdown",
   "metadata": {},
   "source": [
    "## 設定"
   ]
  },
  {
   "cell_type": "code",
   "execution_count": 23,
   "metadata": {
    "collapsed": false
   },
   "outputs": [
    {
     "data": {
      "text/plain": [
       "\"https://syllabus.doshisha.ac.jp/html/2015/37/137584004.html\""
      ]
     },
     "execution_count": 23,
     "metadata": {},
     "output_type": "execute_result"
    }
   ],
   "source": [
    "url = 'https://syllabus.doshisha.ac.jp/html/2015/37/137584004.html'"
   ]
  },
  {
   "cell_type": "code",
   "execution_count": 24,
   "metadata": {
    "collapsed": false
   },
   "outputs": [
    {
     "name": "stdout",
     "output_type": "stream",
     "text": [
      "\"robots: false\"\n"
     ]
    },
    {
     "data": {
      "text/plain": [
       "\"\""
      ]
     },
     "execution_count": 24,
     "metadata": {},
     "output_type": "execute_result"
    }
   ],
   "source": [
    "agent = Mechanize.new\n",
    "robotex = Robotex.new\n",
    "p \"robots: #{robotex.allowed?(url)}\"\n",
    "page = agent.get(url)\n",
    "''"
   ]
  },
  {
   "cell_type": "markdown",
   "metadata": {},
   "source": [
    "## スクレイピング\n",
    "タグ（項目？）ごとにtable, textのハッシュを作成"
   ]
  },
  {
   "cell_type": "code",
   "execution_count": 25,
   "metadata": {
    "collapsed": false,
    "scrolled": true
   },
   "outputs": [
    {
     "data": {
      "text/plain": [
       "\"\""
      ]
     },
     "execution_count": 25,
     "metadata": {},
     "output_type": "execute_result"
    }
   ],
   "source": [
    "data = page.css('body > div > table:nth-child(2) > tbody > tr:nth-child(4) > td')\n",
    "children=data.children\n",
    "''"
   ]
  },
  {
   "cell_type": "code",
   "execution_count": 26,
   "metadata": {
    "collapsed": false
   },
   "outputs": [
    {
     "data": {
      "text/plain": [
       "\"init\""
      ]
     },
     "execution_count": 26,
     "metadata": {},
     "output_type": "execute_result"
    }
   ],
   "source": [
    "table_hash = {}\n",
    "text_hash = {}\n",
    "tag = 'init'"
   ]
  },
  {
   "cell_type": "code",
   "execution_count": 27,
   "metadata": {
    "collapsed": false,
    "scrolled": false
   },
   "outputs": [
    {
     "name": "stdout",
     "output_type": "stream",
     "text": [
      "\"tag 概要\"\n",
      "\"tag 到達目標\"\n",
      "\"tag 授業計画\"\n",
      "\"tag 成績評価基準\"\n",
      "\"tag 備考\"\n"
     ]
    },
    {
     "data": {
      "text/plain": [
       "[\"授業計画\", \"成績評価基準\"]"
      ]
     },
     "execution_count": 27,
     "metadata": {},
     "output_type": "execute_result"
    }
   ],
   "source": [
    "children.each do |t|\n",
    "  text = t.text.strip\n",
    "  if t.node_name == 'table'\n",
    "    table_hash[tag] = t\n",
    "  elsif text.present?\n",
    "    if ret = text.match(/^＜(.+)＞$/)\n",
    "      p \"tag #{tag = ret[1]}\"\n",
    "    else\n",
    "      text_hash[tag] = text\n",
    "    end\n",
    "  end\n",
    "end\n",
    "''\n",
    "table_hash.keys"
   ]
  },
  {
   "cell_type": "code",
   "execution_count": 35,
   "metadata": {
    "collapsed": false,
    "scrolled": true
   },
   "outputs": [
    {
     "data": {
      "text/plain": [
       "\"\\n平常点(出席，クラス参加，グループ作業の成果等) \\n\""
      ]
     },
     "execution_count": 35,
     "metadata": {},
     "output_type": "execute_result"
    }
   ],
   "source": [
    "table_hash[\"成績評価基準\"].css('tbody > tr > td:nth-child(1)').text"
   ]
  },
  {
   "cell_type": "code",
   "execution_count": 36,
   "metadata": {
    "collapsed": false
   },
   "outputs": [
    {
     "data": {
      "text/plain": [
       "\"\\n100% \\n\""
      ]
     },
     "execution_count": 36,
     "metadata": {},
     "output_type": "execute_result"
    }
   ],
   "source": [
    "table_hash[\"成績評価基準\"].css('tbody > tr > td:nth-child(2)').text"
   ]
  },
  {
   "cell_type": "code",
   "execution_count": 29,
   "metadata": {
    "collapsed": false
   },
   "outputs": [
    {
     "data": {
      "text/plain": [
       "{\"概要\"=>\"この授業は，政治学科の1年次生を対象に春学期に開講される「政治学入門」の続編的な科目として位置付けられています。具体的には，「政治学入門」で学んだアカデミック・リテラシーを踏まえた上で，レジュメ作成・報告・レポート作成の技術をさらに向上させていくことを目的としています。実際，大学での「学問」においては，様々な知的作業を「一人」で行っていかなければならない場面が多々あります。そうして自らが発表したものは，今度は自分以外の多くの人から様々に評価されていくものです。　『論語』の有名な一節に「学びて思わざれば則ち罔し（くらし），思いて学ばざれば則ち殆し（あやうし）」とあるように，自ら考えることと他者から学ぶことは，ともに車の両輪のごとく大切な学問的態度です。受講生には，この授業を学問成果のアウトプットと，学問的批判のインプットに関するトレーニングの場として活用してほしいと思います。\", \"到達目標\"=>\"政治学を学ぶ上での基礎的な能力の向上\", \"成績評価基準\"=>\"①出席，②演習への取り組み，③課題の提出及びその内容をもとにして評価を行います。\", \"備考\"=>\"前期の講義内容を復習しておくこと。 \"}"
      ]
     },
     "execution_count": 29,
     "metadata": {},
     "output_type": "execute_result"
    }
   ],
   "source": [
    "text_hash"
   ]
  },
  {
   "cell_type": "markdown",
   "metadata": {},
   "source": [
    "## テキストから書籍名を取ってくる"
   ]
  },
  {
   "cell_type": "code",
   "execution_count": 30,
   "metadata": {
    "collapsed": false
   },
   "outputs": [
    {
     "ename": "NoMethodError",
     "evalue": "undefined method `text' for nil:NilClass",
     "output_type": "error",
     "traceback": [
      "\u001b[31mNoMethodError\u001b[0m: undefined method `text' for nil:NilClass",
      "\u001b[37m(pry):83:in `<main>'\u001b[0m",
      "\u001b[37m/Users/sato/hobby/doshisha-tanni/syllabus_plus/vendor/bundle/ruby/2.2.0/gems/pry-0.10.4/lib/pry/pry_instance.rb:355:in `eval'\u001b[0m",
      "\u001b[37m/Users/sato/hobby/doshisha-tanni/syllabus_plus/vendor/bundle/ruby/2.2.0/gems/pry-0.10.4/lib/pry/pry_instance.rb:355:in `evaluate_ruby'\u001b[0m",
      "\u001b[37m/Users/sato/hobby/doshisha-tanni/syllabus_plus/vendor/bundle/ruby/2.2.0/gems/pry-0.10.4/lib/pry/pry_instance.rb:323:in `handle_line'\u001b[0m",
      "\u001b[37m/Users/sato/hobby/doshisha-tanni/syllabus_plus/vendor/bundle/ruby/2.2.0/gems/pry-0.10.4/lib/pry/pry_instance.rb:243:in `block (2 levels) in eval'\u001b[0m",
      "\u001b[37m/Users/sato/hobby/doshisha-tanni/syllabus_plus/vendor/bundle/ruby/2.2.0/gems/pry-0.10.4/lib/pry/pry_instance.rb:242:in `catch'\u001b[0m",
      "\u001b[37m/Users/sato/hobby/doshisha-tanni/syllabus_plus/vendor/bundle/ruby/2.2.0/gems/pry-0.10.4/lib/pry/pry_instance.rb:242:in `block in eval'\u001b[0m",
      "\u001b[37m/Users/sato/hobby/doshisha-tanni/syllabus_plus/vendor/bundle/ruby/2.2.0/gems/pry-0.10.4/lib/pry/pry_instance.rb:241:in `catch'\u001b[0m",
      "\u001b[37m/Users/sato/hobby/doshisha-tanni/syllabus_plus/vendor/bundle/ruby/2.2.0/gems/pry-0.10.4/lib/pry/pry_instance.rb:241:in `eval'\u001b[0m",
      "\u001b[37m/Users/sato/.rbenv/versions/2.2.3/lib/ruby/gems/2.2.0/gems/iruby-0.2.9/lib/iruby/backend.rb:66:in `eval'\u001b[0m",
      "\u001b[37m/Users/sato/.rbenv/versions/2.2.3/lib/ruby/gems/2.2.0/gems/iruby-0.2.9/lib/iruby/backend.rb:12:in `eval'\u001b[0m",
      "\u001b[37m/Users/sato/.rbenv/versions/2.2.3/lib/ruby/gems/2.2.0/gems/iruby-0.2.9/lib/iruby/kernel.rb:87:in `execute_request'\u001b[0m",
      "\u001b[37m/Users/sato/.rbenv/versions/2.2.3/lib/ruby/gems/2.2.0/gems/iruby-0.2.9/lib/iruby/kernel.rb:47:in `dispatch'\u001b[0m",
      "\u001b[37m/Users/sato/.rbenv/versions/2.2.3/lib/ruby/gems/2.2.0/gems/iruby-0.2.9/lib/iruby/kernel.rb:37:in `run'\u001b[0m",
      "\u001b[37m/Users/sato/.rbenv/versions/2.2.3/lib/ruby/gems/2.2.0/gems/iruby-0.2.9/lib/iruby/command.rb:70:in `run_kernel'\u001b[0m",
      "\u001b[37m/Users/sato/.rbenv/versions/2.2.3/lib/ruby/gems/2.2.0/gems/iruby-0.2.9/lib/iruby/command.rb:34:in `run'\u001b[0m",
      "\u001b[37m/Users/sato/.rbenv/versions/2.2.3/lib/ruby/gems/2.2.0/gems/iruby-0.2.9/bin/iruby:5:in `<top (required)>'\u001b[0m",
      "\u001b[37m/Users/sato/.rbenv/versions/2.2.3/bin/iruby:23:in `load'\u001b[0m",
      "\u001b[37m/Users/sato/.rbenv/versions/2.2.3/bin/iruby:23:in `<main>'\u001b[0m"
     ]
    }
   ],
   "source": [
    "t=table_hash[\"参考文献\"].text"
   ]
  },
  {
   "cell_type": "code",
   "execution_count": 13,
   "metadata": {
    "collapsed": false
   },
   "outputs": [
    {
     "data": {
      "text/plain": [
       "\"本当は恐いC言語\""
      ]
     },
     "execution_count": 13,
     "metadata": {},
     "output_type": "execute_result"
    }
   ],
   "source": [
    "t.match(/『(.+)』/)[1]"
   ]
  },
  {
   "cell_type": "code",
   "execution_count": 14,
   "metadata": {
    "collapsed": false
   },
   "outputs": [
    {
     "data": {
      "text/plain": [
       "\"978-4798032627\""
      ]
     },
     "execution_count": 14,
     "metadata": {},
     "output_type": "execute_result"
    }
   ],
   "source": [
    "from_syllabus = '978-4798032627'"
   ]
  },
  {
   "cell_type": "code",
   "execution_count": 15,
   "metadata": {
    "collapsed": false
   },
   "outputs": [
    {
     "data": {
      "text/plain": [
       "\"978-4798032627\""
      ]
     },
     "execution_count": 15,
     "metadata": {},
     "output_type": "execute_result"
    }
   ],
   "source": [
    "from_amazon = '978-4798032627'"
   ]
  },
  {
   "cell_type": "code",
   "execution_count": 16,
   "metadata": {
    "collapsed": false
   },
   "outputs": [
    {
     "data": {
      "text/plain": [
       "true"
      ]
     },
     "execution_count": 16,
     "metadata": {},
     "output_type": "execute_result"
    }
   ],
   "source": [
    "from_syllabus == from_amazon"
   ]
  },
  {
   "cell_type": "code",
   "execution_count": 17,
   "metadata": {
    "collapsed": false
   },
   "outputs": [
    {
     "name": "stdout",
     "output_type": "stream",
     "text": [
      "SyntaxError: unexpected tIDENTIFIER, expecting end-of-input\n"
     ]
    }
   ],
   "source": []
  },
  {
   "cell_type": "code",
   "execution_count": 20,
   "metadata": {
    "collapsed": false
   },
   "outputs": [
    {
     "data": {
      "text/plain": [
       "\"https://www.amazon.co.jp/s/ref=as_li_ss_tl?__mk_ja_JP=%E3%82%AB%E3%82%BF%E3%82%AB%E3%83%8A&url=search-alias=stripbooks&field-keywords=deep+learning&rh=n:465392,k:deep+learning&linkCode=ll2&tag=johshisha-22&linkId=7872c005eaf69e724d88d0c4701beedb\""
      ]
     },
     "execution_count": 20,
     "metadata": {},
     "output_type": "execute_result"
    }
   ],
   "source": [
    "\"https://www.amazon.co.jp/s/ref=as_li_ss_tl?__mk_ja_JP=%E3%82%AB%E3%82%BF%E3%82%AB%E3%83%8A&url=search-alias=stripbooks&field-keywords=deep+learning&rh=n:465392,k:deep+learning&linkCode=ll2&tag=johshisha-22&linkId=7872c005eaf69e724d88d0c4701beedb\""
   ]
  },
  {
   "cell_type": "code",
   "execution_count": 21,
   "metadata": {
    "collapsed": false
   },
   "outputs": [
    {
     "data": {
      "text/plain": [
       "\"https://www.amazon.co.jp/s/ref=as_li_ss_tl?__mk_ja_JP=%E3%82%AB%E3%82%BF%E3%82%AB%E3%83%8A&url=search-alias=aps&field-keywords=%E6%9C%AC%E5%BD%93%E3%81%AF%E6%80%96%E3%81%84C%E8%A8%80%E8%AA%9E&rh=i:aps,k:%E6%9C%AC%E5%BD%93%E3%81%AF%E6%80%96%E3%81%84C%E8%A8%80%E8%AA%9E&linkCode=ll2&tag=johshisha-22&linkId=f538bec0edfb9ccee1dbc35725f5cf24\""
      ]
     },
     "execution_count": 21,
     "metadata": {},
     "output_type": "execute_result"
    }
   ],
   "source": [
    "\"https://www.amazon.co.jp/s/ref=as_li_ss_tl?__mk_ja_JP=%E3%82%AB%E3%82%BF%E3%82%AB%E3%83%8A&url=search-alias=aps&field-keywords=%E6%9C%AC%E5%BD%93%E3%81%AF%E6%80%96%E3%81%84C%E8%A8%80%E8%AA%9E&rh=i:aps,k:%E6%9C%AC%E5%BD%93%E3%81%AF%E6%80%96%E3%81%84C%E8%A8%80%E8%AA%9E&linkCode=ll2&tag=johshisha-22&linkId=f538bec0edfb9ccee1dbc35725f5cf24\""
   ]
  },
  {
   "cell_type": "code",
   "execution_count": 22,
   "metadata": {
    "collapsed": false
   },
   "outputs": [
    {
     "data": {
      "text/plain": [
       "\"https://www.amazon.co.jp/s/ref=as_li_ss_tl?__mk_ja_JP=%E3%82%AB%E3%82%BF%E3%82%AB%E3%83%8A&url=search-alias=stripbooks&field-keywords=%E6%9C%AC%E5%BD%93%E3%81%AF%E6%80%96%E3%81%84C%E8%A8%80%E8%AA%9E&rh=n:465392,k:%E6%9C%AC%E5%BD%93%E3%81%AF%E6%80%96%E3%81%84C%E8%A8%80%E8%AA%9E&linkCode=ll2&tag=johshisha-22&linkId=9ce2044061980e18e3bb5d615eb52f84\""
      ]
     },
     "execution_count": 22,
     "metadata": {},
     "output_type": "execute_result"
    }
   ],
   "source": [
    "\"https://www.amazon.co.jp/s/ref=as_li_ss_tl?__mk_ja_JP=%E3%82%AB%E3%82%BF%E3%82%AB%E3%83%8A&url=search-alias=stripbooks&field-keywords=%E6%9C%AC%E5%BD%93%E3%81%AF%E6%80%96%E3%81%84C%E8%A8%80%E8%AA%9E&rh=n:465392,k:%E6%9C%AC%E5%BD%93%E3%81%AF%E6%80%96%E3%81%84C%E8%A8%80%E8%AA%9E&linkCode=ll2&tag=johshisha-22&linkId=9ce2044061980e18e3bb5d615eb52f84\""
   ]
  },
  {
   "cell_type": "markdown",
   "metadata": {
    "collapsed": true
   },
   "source": [
    "# Amazon URL\n",
    "root: \"https://www.amazon.co.jp/s/ref=as_li_ss_tl?__mk_ja_JP=%E3%82%AB%E3%82%BF%E3%82%AB%E3%83%8A&url=search-alias=stripbooks&field-keywords=#{keyword}&rh=n:465392,k:#{keyword}&linkCode=ll2&tag=johshisha-22\""
   ]
  },
  {
   "cell_type": "code",
   "execution_count": 1,
   "metadata": {
    "collapsed": false
   },
   "outputs": [
    {
     "data": {
      "text/plain": [
       "\"https://www.amazon.co.jp/s/ref=as_li_ss_tl?__mk_ja_JP=%E3%82%AB%E3%82%BF%E3%82%AB%E3%83%8A&url=search-alias=stripbooks&field-keywords=ゼロから始める&rh=n:465392,k:ゼロから始める&linkCode=ll2&tag=johshisha-22\""
      ]
     },
     "execution_count": 1,
     "metadata": {},
     "output_type": "execute_result"
    }
   ],
   "source": [
    "keyword = \"ゼロから始める\"\n",
    "url = \"https://www.amazon.co.jp/s/ref=as_li_ss_tl?__mk_ja_JP=%E3%82%AB%E3%82%BF%E3%82%AB%E3%83%8A&url=search-alias=stripbooks&field-keywords=#{keyword}&rh=n:465392,k:#{keyword}&linkCode=ll2&tag=johshisha-22\""
   ]
  },
  {
   "cell_type": "code",
   "execution_count": null,
   "metadata": {
    "collapsed": true
   },
   "outputs": [],
   "source": []
  }
 ],
 "metadata": {
  "kernelspec": {
   "display_name": "Ruby 2.2.3",
   "language": "ruby",
   "name": "ruby"
  },
  "language_info": {
   "file_extension": ".rb",
   "mimetype": "application/x-ruby",
   "name": "ruby",
   "version": "2.2.3"
  }
 },
 "nbformat": 4,
 "nbformat_minor": 1
}
