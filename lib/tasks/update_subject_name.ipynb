{
 "cells": [
  {
   "cell_type": "markdown",
   "metadata": {},
   "source": [
    "# 科目名を半角に変更する\n",
    "全角で保存されているものと半角で保存されているものが混在したため，すべて半角に統一する\n",
    "\n",
    "## 変更の対象となる文字\n",
    "- 数字\n",
    "- アルファベット\n",
    "- 括弧\n",
    "- 空白 => 削除\n",
    "- ハイフン\n",
    "- ドット（．）\n",
    "- 記号(’．，”＆)\n",
    "\n",
    "## 対象のテーブル\n",
    "- subjects.name\n",
    "- summarized_subjects.name\n",
    "- teachers.name"
   ]
  },
  {
   "cell_type": "markdown",
   "metadata": {},
   "source": [
    "## 加えて，半角カナを全角にする"
   ]
  },
  {
   "cell_type": "code",
   "execution_count": 9,
   "metadata": {
    "collapsed": false
   },
   "outputs": [
    {
     "ename": "LoadError",
     "evalue": "cannot load such file -- ./config/boot",
     "output_type": "error",
     "traceback": [
      "\u001b[31mLoadError\u001b[0m: cannot load such file -- ./config/boot",
      "\u001b[37m/Users/sato/hobby/doshisha-tanni/syllabus_plus/vendor/bundle/ruby/2.2.0/gems/activesupport-5.0.2/lib/active_support/dependencies.rb:293:in `require'\u001b[0m",
      "\u001b[37m/Users/sato/hobby/doshisha-tanni/syllabus_plus/vendor/bundle/ruby/2.2.0/gems/activesupport-5.0.2/lib/active_support/dependencies.rb:293:in `block in require'\u001b[0m",
      "\u001b[37m/Users/sato/hobby/doshisha-tanni/syllabus_plus/vendor/bundle/ruby/2.2.0/gems/activesupport-5.0.2/lib/active_support/dependencies.rb:259:in `load_dependency'\u001b[0m",
      "\u001b[37m/Users/sato/hobby/doshisha-tanni/syllabus_plus/vendor/bundle/ruby/2.2.0/gems/activesupport-5.0.2/lib/active_support/dependencies.rb:293:in `require'\u001b[0m",
      "\u001b[37m(pry):67:in `<main>'\u001b[0m",
      "\u001b[37m/Users/sato/hobby/doshisha-tanni/syllabus_plus/vendor/bundle/ruby/2.2.0/gems/pry-0.10.4/lib/pry/pry_instance.rb:355:in `eval'\u001b[0m",
      "\u001b[37m/Users/sato/hobby/doshisha-tanni/syllabus_plus/vendor/bundle/ruby/2.2.0/gems/pry-0.10.4/lib/pry/pry_instance.rb:355:in `evaluate_ruby'\u001b[0m",
      "\u001b[37m/Users/sato/hobby/doshisha-tanni/syllabus_plus/vendor/bundle/ruby/2.2.0/gems/pry-0.10.4/lib/pry/pry_instance.rb:323:in `handle_line'\u001b[0m",
      "\u001b[37m/Users/sato/hobby/doshisha-tanni/syllabus_plus/vendor/bundle/ruby/2.2.0/gems/pry-0.10.4/lib/pry/pry_instance.rb:243:in `block (2 levels) in eval'\u001b[0m",
      "\u001b[37m/Users/sato/hobby/doshisha-tanni/syllabus_plus/vendor/bundle/ruby/2.2.0/gems/pry-0.10.4/lib/pry/pry_instance.rb:242:in `catch'\u001b[0m",
      "\u001b[37m/Users/sato/hobby/doshisha-tanni/syllabus_plus/vendor/bundle/ruby/2.2.0/gems/pry-0.10.4/lib/pry/pry_instance.rb:242:in `block in eval'\u001b[0m",
      "\u001b[37m/Users/sato/hobby/doshisha-tanni/syllabus_plus/vendor/bundle/ruby/2.2.0/gems/pry-0.10.4/lib/pry/pry_instance.rb:241:in `catch'\u001b[0m",
      "\u001b[37m/Users/sato/hobby/doshisha-tanni/syllabus_plus/vendor/bundle/ruby/2.2.0/gems/pry-0.10.4/lib/pry/pry_instance.rb:241:in `eval'\u001b[0m",
      "\u001b[37m/Users/sato/.rbenv/versions/2.2.3/lib/ruby/gems/2.2.0/gems/iruby-0.2.9/lib/iruby/backend.rb:66:in `eval'\u001b[0m",
      "\u001b[37m/Users/sato/.rbenv/versions/2.2.3/lib/ruby/gems/2.2.0/gems/iruby-0.2.9/lib/iruby/backend.rb:12:in `eval'\u001b[0m",
      "\u001b[37m/Users/sato/.rbenv/versions/2.2.3/lib/ruby/gems/2.2.0/gems/iruby-0.2.9/lib/iruby/kernel.rb:87:in `execute_request'\u001b[0m",
      "\u001b[37m/Users/sato/.rbenv/versions/2.2.3/lib/ruby/gems/2.2.0/gems/iruby-0.2.9/lib/iruby/kernel.rb:47:in `dispatch'\u001b[0m",
      "\u001b[37m/Users/sato/.rbenv/versions/2.2.3/lib/ruby/gems/2.2.0/gems/iruby-0.2.9/lib/iruby/kernel.rb:37:in `run'\u001b[0m",
      "\u001b[37m/Users/sato/.rbenv/versions/2.2.3/lib/ruby/gems/2.2.0/gems/iruby-0.2.9/lib/iruby/command.rb:70:in `run_kernel'\u001b[0m",
      "\u001b[37m/Users/sato/.rbenv/versions/2.2.3/lib/ruby/gems/2.2.0/gems/iruby-0.2.9/lib/iruby/command.rb:34:in `run'\u001b[0m",
      "\u001b[37m/Users/sato/.rbenv/versions/2.2.3/lib/ruby/gems/2.2.0/gems/iruby-0.2.9/bin/iruby:5:in `<top (required)>'\u001b[0m",
      "\u001b[37m/Users/sato/.rbenv/versions/2.2.3/bin/iruby:23:in `load'\u001b[0m",
      "\u001b[37m/Users/sato/.rbenv/versions/2.2.3/bin/iruby:23:in `<main>'\u001b[0m"
     ]
    }
   ],
   "source": [
    "FileUtils.cd '../../'\n",
    "require './config/boot'\n",
    "APP_PATH  = File.expand_path('config/application') unless defined?(APP_PATH)\n",
    "require APP_PATH\n",
    "Rails.application.require_environment!"
   ]
  },
  {
   "cell_type": "code",
   "execution_count": 10,
   "metadata": {
    "collapsed": false
   },
   "outputs": [
    {
     "data": {
      "text/plain": [
       "false"
      ]
     },
     "execution_count": 10,
     "metadata": {},
     "output_type": "execute_result"
    }
   ],
   "source": [
    "require \"#{Rails.root}/app/models/subject\"\n",
    "require \"#{Rails.root}/app/models/year_datum\"\n",
    "require \"#{Rails.root}/app/models/faculty\"\n",
    "require \"#{Rails.root}/app/models/subject_score\"\n",
    "require \"#{Rails.root}/app/models/summarized_subject\"\n",
    "require \"#{Rails.root}/app/models/teacher\""
   ]
  },
  {
   "cell_type": "code",
   "execution_count": 3,
   "metadata": {
    "collapsed": false
   },
   "outputs": [
    {
     "data": {
      "text/plain": [
       "false"
      ]
     },
     "execution_count": 3,
     "metadata": {},
     "output_type": "execute_result"
    }
   ],
   "source": [
    "require \"moji\""
   ]
  },
  {
   "cell_type": "code",
   "execution_count": 11,
   "metadata": {
    "collapsed": false
   },
   "outputs": [
    {
     "data": {
      "text/plain": [
       "\"\""
      ]
     },
     "execution_count": 11,
     "metadata": {},
     "output_type": "execute_result"
    }
   ],
   "source": [
    "def convert_roman_to_alphabet(val)\n",
    "  def add_str(num, str)\n",
    "    if num >= 9\n",
    "      str+= \"X\"\n",
    "      num -= 10\n",
    "    elsif num >= 4\n",
    "      str += \"V\"\n",
    "      num -= 5\n",
    "    elsif num < 0\n",
    "      str.insert(0, \"I\")\n",
    "      num += 1\n",
    "    elsif num > 0\n",
    "      str += \"I\"\n",
    "      num -= 1\n",
    "    elsif num == 0\n",
    "      return str\n",
    "    end\n",
    "    return add_str(num, str)\n",
    "  end\n",
    "  if v = val.match(/[Ⅰ-Ⅹ]/)\n",
    "    num = v[0].ord - (\"Ⅰ\".ord-1)\n",
    "    alphabet = add_str(num, \"\")\n",
    "    val = val.gsub(v[0], alphabet)\n",
    "  end\n",
    "  return val\n",
    "end\n",
    "\n",
    "def convert_to_en(val)\n",
    "  val = Moji.han_to_zen(val)\n",
    "  val = convert_roman_to_alphabet(val)\n",
    "  val = val.tr('\\ー\\－０-９ａ-ｚＡ-Ｚ（）　’”，．＆｜', '\\-\\-0-9a-zA-Z() \\'\\\",.&')\n",
    "  val = val.gsub(' ', '')\n",
    "end\n",
    "\n",
    "def do_convert_data(subjects)\n",
    "  subjects.each do |subject|\n",
    "    name = subject.name\n",
    "    new = convert_to_en(name)\n",
    "    subject.update_attribute(:name, new)\n",
    "  end\n",
    "end\n",
    "''"
   ]
  },
  {
   "cell_type": "code",
   "execution_count": 12,
   "metadata": {
    "collapsed": false,
    "scrolled": true
   },
   "outputs": [
    {
     "data": {
      "text/plain": [
       "\"\""
      ]
     },
     "execution_count": 12,
     "metadata": {},
     "output_type": "execute_result"
    }
   ],
   "source": [
    "# subjects = Faculty.find(13).subjects.limit(30)\n",
    "subjects = Subject.all\n",
    "do_convert_data(subjects)\n",
    "''"
   ]
  },
  {
   "cell_type": "code",
   "execution_count": 13,
   "metadata": {
    "collapsed": false
   },
   "outputs": [
    {
     "data": {
      "text/plain": [
       "\"\""
      ]
     },
     "execution_count": 13,
     "metadata": {},
     "output_type": "execute_result"
    }
   ],
   "source": [
    "subjects = SummarizedSubject.all\n",
    "do_convert_data(subjects)\n",
    "''"
   ]
  },
  {
   "cell_type": "code",
   "execution_count": 14,
   "metadata": {
    "collapsed": false
   },
   "outputs": [
    {
     "data": {
      "text/plain": [
       "\"\""
      ]
     },
     "execution_count": 14,
     "metadata": {},
     "output_type": "execute_result"
    }
   ],
   "source": [
    "teachers = Teacher.all\n",
    "do_convert_data(teachers)\n",
    "''"
   ]
  },
  {
   "cell_type": "markdown",
   "metadata": {},
   "source": [
    "## 文字化けしている物があった"
   ]
  },
  {
   "cell_type": "markdown",
   "metadata": {
    "collapsed": false
   },
   "source": [
    "subject = Subject.find(10088)"
   ]
  },
  {
   "cell_type": "markdown",
   "metadata": {
    "collapsed": false
   },
   "source": [
    "a=subject.name"
   ]
  },
  {
   "cell_type": "markdown",
   "metadata": {},
   "source": [
    "a.match(/Ⅰ-Ⅹ/)"
   ]
  },
  {
   "cell_type": "markdown",
   "metadata": {},
   "source": [
    "a=\"民法Ｉｂ（総則）－１\""
   ]
  },
  {
   "cell_type": "markdown",
   "metadata": {
    "collapsed": false
   },
   "source": [
    "val = convert_to_en a"
   ]
  },
  {
   "cell_type": "markdown",
   "metadata": {},
   "source": [
    "val.index(\"\")"
   ]
  },
  {
   "cell_type": "markdown",
   "metadata": {},
   "source": [
    "Subject.where(\"name like :search\", search: \"%#{val.slice(0..6)}%\")"
   ]
  },
  {
   "cell_type": "markdown",
   "metadata": {
    "collapsed": false
   },
   "source": [
    "10088, 10081"
   ]
  },
  {
   "cell_type": "code",
   "execution_count": null,
   "metadata": {
    "collapsed": true
   },
   "outputs": [],
   "source": []
  }
 ],
 "metadata": {
  "kernelspec": {
   "display_name": "Ruby 2.2.3",
   "language": "ruby",
   "name": "ruby"
  },
  "language_info": {
   "file_extension": ".rb",
   "mimetype": "application/x-ruby",
   "name": "ruby",
   "version": "2.2.3"
  }
 },
 "nbformat": 4,
 "nbformat_minor": 1
}
